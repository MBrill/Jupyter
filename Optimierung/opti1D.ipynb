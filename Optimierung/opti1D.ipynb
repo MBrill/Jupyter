{
 "cells": [
  {
   "cell_type": "markdown",
   "id": "331d544e-6c68-47b6-812b-0878d4773adf",
   "metadata": {},
   "source": [
    "# Nichtlineare Optimierung für reelle Funktionen\n",
    "\n",
    "__Manfred Brill, Hochschule Kaiserslautern__\n",
    "\n",
    "## Aufgabenstellung\n",
    "Für eine Funktion f einer reellen Veränderlichen suchen wir ein lokales Minimum. Solche Fragestellungen habenw wir bereits bearbeitet und bei Abstiegsverfahren für die Berechnung eines lokalen Minimums eines skalaren Felds müssen wir diese Aufgabe ebenfalls lösen.\n",
    "\n",
    "Man könnte auf die Idee kommen die Funktion f abzuleiten und eine Nullstelle dieser ersten Ableitung zu bestimmen. Verfahren für die Näherung von Nullstellen finden wir in SciPy. Aber dann müssen wir auch die zweite Ableitung aufstellen und die hinvereichende Bedingung überprüfen. Erfolgsversprechender ist es Verfahren einzusetzen, die ein Minimum annähern. Dabei gibt es Verfahren, die Informationen über die Ableitung verwenden. Aber es gibt auch sogenannte *ableitungsfreie* Verfahren, die außer der Möglichkeit, die Funktion auswerten zu können Informationen über geeignete Startwerde benötigen.\n",
    "\n",
    "\n",
    "## Verfahren\n",
    "Alle Verfahnren die wir betrachten gehen von einer unimodalen Funktion aus. Damit ist gemeint, dass wir ein Intervall kennen von dem wir wissen, dass in diesem Intervall exakt ein lokales Minimum vorliegt. Ähnlich wie die Bisektion für die Näherung einer Nullstelle für eine stetige Funktion unterteilen wir dieses Intervall [a, b] und berechnen zwei x-Werte im Innern von  [a, b]. Dann untersuchen wir die Funktionswerte an diesen neuen Stellen und vergleichen sie mit den Funktionswerten von a und b. Wir wählen ein neues Intervall aus, das kleiner ist als vorher und iterieren so lange, bis wir ein Abbruchkriterium erfüllen.\n",
    "\n",
    "Als optimal haben sich hier der goldene Schnitt für die Unterteilung des Intervalls herausgestellt. Das Verfahren, das diesen Ansatz verwendet nennen wir *golden section search*. Der goldene Schnitt ist eine irratinoale Zahl, so dass man häufig ausnutzt, dass wir diese Zahl als Quotient von Fibonacci-Zahlen annäherung können. Daraus entsteht daas Verfahren *Fibonacci Search*.\n",
    "\n",
    "Ein weitere Ansatz, der in der Praxis auch häufig zu guten Ergebnissen führt ist die Idee, die Funktion f die wir minimieren möchten mit Hilfe eines quadratischen Polynoms anzunähern. Ist f im Intervall [a, b] unumodal, dann können wir das lokale Minimum des quadratrischen Polynoms bestimmtn und anschließend wieder das Intervall, von dem wir wissen, dass das lokale Minimum von f darin liegt, zu verkleinern. Vorteil dieses Verfahrens ist, dass wir drei Funktionsauswerten statt vier bei Golden Section Search benötigen.\n",
    "\n",
    "Der Brent-Algorithmus implementiert eine *safe guarded quadratic interpolation* und kombiniert beide Ansätze. Damit entsteht ein sehr stabiler Algorithmus, der als *state-of-the-art* angesehen werden kann."
   ]
  },
  {
   "cell_type": "markdown",
   "id": "83ee8fe8-87e9-4692-a2a5-d5fa00868dae",
   "metadata": {},
   "source": [
    "## Realisierung in Scipy\n",
    "In SciPy finden wir die Funktion *optimize.minimize_scalar*. Mit Hilfe des Parameters *method* können wir wählen, ob wir Golden Section Search oder Brent einsetzen möchten. Vorausgesetzt wird, dass wir eine Python-Funktion implementiert haben die Funktionswerte für die Zielfunktion f berechnet. Die Funktion bietet die Möglichkeit ein *bracket* zu übergeben. Damit sind drei x-Werte a < c < b gemeint von denen wir wissen, dass\n",
    "\n",
    "f(a) > f(c), f(b) > f(c)\n",
    "\n",
    "erfüllt ist. Im Intervall [a, b] ist f also unimodal."
   ]
  },
  {
   "cell_type": "code",
   "execution_count": 1,
   "id": "724fc0bf-ec34-46be-9447-89c6e266ba70",
   "metadata": {},
   "outputs": [],
   "source": [
    "import numpy as np\n",
    "from scipy import optimize\n",
    "\n",
    "def f(x):\n",
    "    \"\"\"\n",
    "    Funktion, die minimiert werden soll\n",
    "    \"\"\"\n",
    "    return (np.exp(x) - 2.5*x*x + x - 1.0)"
   ]
  },
  {
   "cell_type": "markdown",
   "id": "1dcb368c-9041-4d2f-9f7a-1d86ab834f81",
   "metadata": {},
   "source": [
    "Wir können f grafisch ausgeben, damit finden wir schnell ein Bracket mit a=0, c=2 und b=3.5. Klar ist - die Lösung die SciPy berechnet wird im Intervall [a, b] liegen. Wir überprüfen ob wir ein Bracket gefunden haben, um zu vermweiden, dass SciPy eine Fehlermeldung ausgibt."
   ]
  },
  {
   "cell_type": "code",
   "execution_count": 2,
   "id": "9ace6c3a-eb59-49d1-a238-f2bf54eb7840",
   "metadata": {},
   "outputs": [
    {
     "name": "stdout",
     "output_type": "stream",
     "text": [
      "f(0)= 0.0\n",
      "f(2)= -1.6109439010693496\n",
      "f(3.5)= 4.9904519586923115\n"
     ]
    }
   ],
   "source": [
    "print('f(0)=', f(0.0))\n",
    "print('f(2)=', f(2.0))\n",
    "print('f(3.5)=', f(3.5))"
   ]
  },
  {
   "cell_type": "markdown",
   "id": "2a8d96ff-2e7d-4bc0-852c-a9988da28f5b",
   "metadata": {},
   "source": [
    "Jetzt können wir das Verfahren aufrufen. Dabei verwenden den Brent-Algorithmus."
   ]
  },
  {
   "cell_type": "code",
   "execution_count": 5,
   "id": "9f544ef4-66e3-420a-9ac4-4da4d4c01282",
   "metadata": {},
   "outputs": [
    {
     "name": "stdout",
     "output_type": "stream",
     "text": [
      "Ergebnisse des Brent-Algorithmus\n",
      "Der berechnete x-Wert des lokalen Minimums: 2.396138520421771\n",
      "Der Funktionswert an diesem x-Wert: -1.9768683142947223\n",
      "31 Funktionsauswertungen\n",
      "27 Iterationen\n"
     ]
    }
   ],
   "source": [
    "result = optimize.minimize_scalar(f,\n",
    "                                  method='brent',\n",
    "                                  bracket=(0.0, 2.0, 3.5),\n",
    "                                  tol=np.finfo(1.).eps,\n",
    "                                  options={'maxiter': 50})\n",
    "\n",
    "if result.success:\n",
    "    print('Ergebnisse des Brent-Algorithmus')\n",
    "    print('Der berechnete x-Wert des lokalen Minimums:', result.x)\n",
    "    print('Der Funktionswert an diesem x-Wert:', result.fun)\n",
    "    print(result.nfev, 'Funktionsauswertungen')\n",
    "    print(result.nit, 'Iterationen')"
   ]
  },
  {
   "cell_type": "markdown",
   "id": "805dcdbf-fa23-48ab-95d3-d285311ec43f",
   "metadata": {},
   "source": [
    "Jetzt können wir das Verfahren aufrufen. Wir verwenden jetzt Golden Section Search. Dabei müssen wir die maximale Anzahl der Iterationen erhöhen. Man sieht an Hand dieses Beispiels gut, dass die Kombination zwischen quuadratischer Interpolation und Intervallteilung Vorteile hat."
   ]
  },
  {
   "cell_type": "code",
   "execution_count": 10,
   "id": "65b34c99-c69c-4866-9d27-b91a25e5e204",
   "metadata": {},
   "outputs": [
    {
     "name": "stdout",
     "output_type": "stream",
     "text": [
      "Ergebnisse der Golden Section Search\n",
      "Der berechnete x-Wert des lokalen Minimums: 2.3961385102724924\n",
      "Der Funktionswert an diesem x-Wert: -1.9768683142947223\n",
      "80 Funktionsauswertungen\n",
      "75 Iterationen\n"
     ]
    }
   ],
   "source": [
    "result = optimize.minimize_scalar(f,\n",
    "                                  method='golden',\n",
    "                                  bracket=(0.0, 2.0, 3.5),\n",
    "                                  tol=np.finfo(1.).eps,\n",
    "                                  options={'maxiter': 100})\n",
    "\n",
    "if result.success:\n",
    "    print('Ergebnisse der Golden Section Search')\n",
    "    print('Der berechnete x-Wert des lokalen Minimums:', result.x)\n",
    "    print('Der Funktionswert an diesem x-Wert:', result.fun)\n",
    "    print(result.nfev, 'Funktionsauswertungen')\n",
    "    print(result.nit, 'Iterationen')"
   ]
  },
  {
   "cell_type": "markdown",
   "id": "7679b0b8-aa3c-4fd3-8fcd-14f4a5ad535a",
   "metadata": {},
   "source": [
    "## Anwendung auf die leminskaite von Gerono\n",
    "Suchen wir minimale oder maximale x- und y-Werte der Spur einer ebenen Parameterkurve wie der Leminskate von Gerono können wir die beschriebenen\n",
    "Verfahren gut einsetzen. Wir suchen im Beispiele nach einem lokalen Minimum der y-Koordinaten der Spur. \n",
    "Dann verwenden wir die Funktion in der Definition\n",
    "der Lemmiskate, die für die y-Koordinaten verantwortlich ist. Wir verwenden hier kein Bracket sondern beschränken uns darauf ein Intervall anzugeben in dem wir das Minimum vermuten."
   ]
  },
  {
   "cell_type": "code",
   "execution_count": 18,
   "id": "d0652f7f-431a-414e-9250-e8b0e4f42302",
   "metadata": {},
   "outputs": [
    {
     "name": "stdout",
     "output_type": "stream",
     "text": [
      "\n",
      "Lokales Minimum für die y-Koordinaten der Lemniskate von Gerono\n",
      "Der berechnete t-Wert des lokalen Minimums: 5.497787144430887\n",
      "Der Funktionswert an diesem t-Wert: -0.5000000000000001\n",
      "Die exakte Lösung lautet t = 5.497787143782138\n",
      "Relativer Fehler: 1.1646307819549499e-09\n"
     ]
    }
   ],
   "source": [
    "def g(t):\n",
    "    \"\"\"\n",
    "    Funktion für die y-Koordinaten der lemniskate von Gerono\n",
    "    \"\"\"\n",
    "    return np.sin(t)*np.cos(t)\n",
    "\n",
    "a = 1.25*np.pi\n",
    "b = 2.0*np.pi\n",
    "\n",
    "result = optimize.minimize_scalar(g,\n",
    "                                  method='brent',\n",
    "                                  bracket=(a, b),\n",
    "                                  tol=np.finfo(1.).eps,\n",
    "                                  options={'maxiter': 50})\n",
    "\n",
    "if result.success:\n",
    "    print('\\nLokales Minimum für die y-Koordinaten der Lemniskate von Gerono')\n",
    "    print('Der berechnete t-Wert des lokalen Minimums:', result.x)\n",
    "    print('Der Funktionswert an diesem t-Wert:', result.fun)\n",
    "    print('Die exakte Lösung lautet t =', 1.75*np.pi)\n",
    "    print('Relativer Fehler:',\n",
    "          np.abs((result.x-1.75*np.pi)/1.75*np.pi))"
   ]
  },
  {
   "cell_type": "markdown",
   "id": "5b76e635-8517-4420-8652-b47898ef3ef4",
   "metadata": {},
   "source": [
    "Wir suchen vergeblich nach Funktionen in SciPy mit denen wir ein lokales Maximum berechnen können. Das führen wir\n",
    "mit Hilfe von -g durch, also der mit -1 multiplizierten Zielfunktion. Damit suchen wir nach lokalen Maxima für die y-Koordinaten\n",
    "der Lemniskate von Gerono."
   ]
  },
  {
   "cell_type": "code",
   "execution_count": 19,
   "id": "5f08c0ac-d795-4d26-b781-a7db0e2aba31",
   "metadata": {},
   "outputs": [
    {
     "name": "stdout",
     "output_type": "stream",
     "text": [
      "\n",
      "Lokales Maximum für die y-Koordinaten der Lemniskate von Gerono\n",
      "Der berechnete t-Wert des lokalen Maximums: 0.7853981628127534\n",
      "Der Funktionswert an diesem t-Wert: -0.5000000000000001\n",
      "Die exakte Lösung lautet t = 0.7853981633974483\n",
      "Relativer Fehler: 7.347492157451213e-09\n"
     ]
    }
   ],
   "source": [
    "def gminus(t):\n",
    "    \"\"\"\n",
    "    Funktion für die y-Koordinaten der lemniskate von Gerono,\n",
    "    mit -1 multipliziert für lokale Maxima\n",
    "    \"\"\"\n",
    "    return -np.sin(t)*np.cos(t)\n",
    "\n",
    "a = 0.0\n",
    "b = 1.2\n",
    "\n",
    "print('\\nLokales Maximum für die y-Koordinaten der Lemniskate von Gerono')\n",
    "result = optimize.minimize_scalar(gminus,\n",
    "                                  method='brent',\n",
    "                                  bracket=(a, b),\n",
    "                                  tol=np.finfo(1.).eps,\n",
    "                                  options={'maxiter': 50})\n",
    "\n",
    "if result.success:\n",
    "    print('Der berechnete t-Wert des lokalen Maximums:', result.x)\n",
    "    print('Der Funktionswert an diesem t-Wert:', result.fun)\n",
    "    print('Die exakte Lösung lautet t =', 0.25*np.pi)\n",
    "    print('Relativer Fehler:',\n",
    "          np.abs((result.x-0.25*np.pi)/0.25*np.pi))"
   ]
  }
 ],
 "metadata": {
  "kernelspec": {
   "display_name": "Python 3 (ipykernel)",
   "language": "python",
   "name": "python3"
  },
  "language_info": {
   "codemirror_mode": {
    "name": "ipython",
    "version": 3
   },
   "file_extension": ".py",
   "mimetype": "text/x-python",
   "name": "python",
   "nbconvert_exporter": "python",
   "pygments_lexer": "ipython3",
   "version": "3.8.11"
  }
 },
 "nbformat": 4,
 "nbformat_minor": 5
}
