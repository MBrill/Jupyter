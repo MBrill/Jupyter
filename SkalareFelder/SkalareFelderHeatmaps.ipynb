version https://git-lfs.github.com/spec/v1
oid sha256:399d6e35da0e9fc063715e2abe8689c107bd6527a615074e6e20918041fd06f8
size 7341
