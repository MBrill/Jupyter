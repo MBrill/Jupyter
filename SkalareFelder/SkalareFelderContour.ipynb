version https://git-lfs.github.com/spec/v1
oid sha256:2cd82a3ca007d1f9508645cff14a0b91a3296099832cc246470aa5f935e0be1e
size 6784861
