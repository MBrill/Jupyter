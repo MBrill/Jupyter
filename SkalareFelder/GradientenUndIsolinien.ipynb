version https://git-lfs.github.com/spec/v1
oid sha256:7ab226052787c0f09c8a02a6f496ac188e89380e6f2a2a75062987e57c57535c
size 426667
