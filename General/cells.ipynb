{
 "cells": [
  {
   "cell_type": "markdown",
   "metadata": {},
   "source": [
    "# Aufbau eines Jupyter Notebooks\n",
    "Ein Notebook besteht aus sogenannten *cells*. Es gibt *Python*-cells, in der wir Python-Code eingeben und ausführen können. Wir können auch Grafiken mit Matplotlib erzeugen, die anschließend auch im Notebook enthalten sind. Darüber hinaus gibt es Markdown-cells, in der wir Dokumentation und Texte aufnehmen. "
   ]
  },
  {
   "cell_type": "markdown",
   "metadata": {},
   "source": [
    "## Ein kleines Beispiel\n",
    "Wir importieren NumPy und geben den Wert von pi mit Hilfe von print aus. Wir führen den Python-Code mit Hilfe von *Run* aus."
   ]
  },
  {
   "cell_type": "code",
   "execution_count": 1,
   "metadata": {},
   "outputs": [
    {
     "name": "stdout",
     "output_type": "stream",
     "text": [
      "pi =  3.141592653589793\n"
     ]
    }
   ],
   "source": [
    "import numpy as np\n",
    "print('pi = ', np.pi)"
   ]
  },
  {
   "cell_type": "markdown",
   "metadata": {},
   "source": [
    "## Matplotlib für Grafiken\n",
    "Wir können Matplotlib importieren und sehr schnell Grafiken im Notebook erzeugen."
   ]
  },
  {
   "cell_type": "code",
   "execution_count": 2,
   "metadata": {},
   "outputs": [
    {
     "data": {
      "text/plain": [
       "[<matplotlib.lines.Line2D at 0x2563b4503a0>]"
      ]
     },
     "execution_count": 2,
     "metadata": {},
     "output_type": "execute_result"
    },
    {
     "data": {
      "image/png": "[encoded data removed]",
      "text/plain": [
       "<Figure size 432x288 with 1 Axes>"
      ]
     },
     "metadata": {
      "needs_background": "light"
     },
     "output_type": "display_data"
    }
   ],
   "source": [
    "import matplotlib.pyplot as plt\n",
    "\n",
    "plt.plot([1, 2, 4, 7])"
   ]
  },
  {
   "cell_type": "markdown",
   "metadata": {},
   "source": [
    "## Exportieren\n",
    "Wir können alle Zellen ausführen und das Ergebnis als HTML, LaTeX oder PDF abspeichern. Möglich ist natürlich auch, das Notebook als .ipynb-Datei zu verschicken und so mit anderen Menschen zusammen zu arbeiten."
   ]
  }
 ],
 "metadata": {
  "kernelspec": {
   "display_name": "Python 3 (ipykernel)",
   "language": "python",
   "name": "python3"
  },
  "language_info": {
   "codemirror_mode": {
    "name": "ipython",
    "version": 3
   },
   "file_extension": ".py",
   "mimetype": "text/x-python",
   "name": "python",
   "nbconvert_exporter": "python",
   "pygments_lexer": "ipython3",
   "version": "3.8.11"
  }
 },
 "nbformat": 4,
 "nbformat_minor": 4
}
