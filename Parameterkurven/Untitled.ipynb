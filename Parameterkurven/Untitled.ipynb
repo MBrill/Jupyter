{
 "cells": [
  {
   "cell_type": "markdown",
   "id": "fdf799d8-c63d-476a-bbaa-76759b6ec7d2",
   "metadata": {},
   "source": [
    "# Grafische Ausgabe von Parameterkurven in Polarkoordinaten\n",
    "Die grafische Ausgabe von Parameterkurven, die in Polarkoordinaten definiert sind wird von Matplotlib direkt unterstützt. Als Beispiele verwenden wir die Kardioide und die Lemniskate von Bernoulli.\n",
    "\n",
    "## Behandlung von negativen Werten\n",
    "Eine Parameterkurve in Polarkoordinaten berechnen wir durch eine Funktion *f*, die für einen Winkel den Radius berechnet. Es kann dabei der Fall auftreten, dass wir negative Werte für den Radius erhalten, was natürlich nicht sinnvoll ist. Dies geschieht beispielsweise bei der Lemniskate von Bernoulli. Für diesen Fall gibt es die Regel, dass wir den Absolutbetrag des berechneten Radius verwenden und im Winkel 180 Grad dazu addieren.\n",
    "\n",
    "Dafür implementieren wir eine Hilfsfunktion, die wir hier verwenden können und anschließend implementieren wir die beiden Kurven, die wir grafisch ausgeben. In der Funktion *polar_helper* nutzen wir logische Indizierung in NumPy aus, so dass wir diese Funktion vektorisieren können."
   ]
  },
  {
   "cell_type": "code",
   "execution_count": null,
   "id": "d194c624-775d-4903-88eb-ef5d991596ec",
   "metadata": {},
   "outputs": [],
   "source": [
    "def polar_helper(r, phi):\n",
    "    index = r < 0.0\n",
    "    r[index] = -r[index]\n",
    "    phi[index] = phi[index] + np.pi\n",
    "    return r, phi\n",
    "\n",
    "\n",
    "def lemniscate(factor=1.0, a=-np.pi, b=np.pi, n=100):\n",
    "    phi = np.linspace(a, b, n, dtype=np.float64)\n",
    "    r = np.cos(2.0*phi)\n",
    "    r, phi = polar.polar_helper(r, phi)\n",
    "    return phi, r"
   ]
  },
  {
   "cell_type": "code",
   "execution_count": null,
   "id": "f3aaa2f2-9c60-444f-affa-56fd12b52fb8",
   "metadata": {},
   "outputs": [],
   "source": []
  }
 ],
 "metadata": {
  "kernelspec": {
   "display_name": "Python 3 (ipykernel)",
   "language": "python",
   "name": "python3"
  },
  "language_info": {
   "codemirror_mode": {
    "name": "ipython",
    "version": 3
   },
   "file_extension": ".py",
   "mimetype": "text/x-python",
   "name": "python",
   "nbconvert_exporter": "python",
   "pygments_lexer": "ipython3",
   "version": "3.8.11"
  }
 },
 "nbformat": 4,
 "nbformat_minor": 5
}
