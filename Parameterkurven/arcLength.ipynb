{
 "cells": [
  {
   "cell_type": "markdown",
   "id": "aed14e7e-4b6f-4675-b446-992bcc067b14",
   "metadata": {},
   "source": [
    "# Berechnung der Bogenlänge mit Python\n",
    "\n",
    "__Manfred Brill, Hochschule Kaiserslautern__\n",
    "\n",
    "In der Vorlesung hatten wir schon untersucht wie wir mit Hilfe der Approximation der Parameterkurve durch einen Polygonzug eine Näherung der Bogenlänge berechnen. Dabei haben wir auch festgehalten, dass diese berechneten Näherungen nie größer als die eigentliche Bogenlänge werden kann, und dass für immer feinere Polygonzüge die berechneten Ergebnisse dem gesuchten Wert immer näher kommen.\n",
    "\n",
    "In diesem Notebook implementieren wir diese Berechnungsmethode und verwenden den Einheitskreis und die semikubischen Parabel als Anwendungsbeispiele. Für diese beiden Kurven können wir die Bogenlänge angeben.\n",
    "\n",
    "Im Anschluss werfen wir noch einen kurzen Blick auf alternative Berechnungsmethoden.\n",
    "\n",
    "## Vorbereitungen\n",
    "Wir importieren Numpy, das überrascht nicht und implementieren unsere beiden Beispiele. Wie schon für die grafische Darstellung geben wir als Ergebnis der Funktionen den Polygonzug zurück."
   ]
  },
  {
   "cell_type": "code",
   "execution_count": 17,
   "id": "1101122a-a611-4b3b-b930-75865ec07f86",
   "metadata": {},
   "outputs": [],
   "source": [
    "import numpy as np\n",
    "\n",
    "\n",
    "def circle(radius=1.0, a=0.0, b=1.0, n=256):\n",
    "    t = np.linspace(a, b, n)\n",
    "    x = radius*np.cos(2.0*np.pi*t)\n",
    "    y = radius*np.sin(2.0*np.pi*t)\n",
    "    return x, y\n",
    "\n",
    "\n",
    "def semicubic(a=-1.0, b=1.0, n=256):\n",
    "    t = np.linspace(a, b, n)\n",
    "    return t*t, t*t*t"
   ]
  },
  {
   "cell_type": "markdown",
   "id": "6f4035a6-9c9f-46f5-933e-3b0b10afeb3a",
   "metadata": {},
   "source": [
    "## Berechnung der Länge eines Polygonzugs\n",
    "Die Formel für die Näherung der Bogenlänge enthält ein Summenzeichen. Ohne NumPy würden wir vermutlich eine for-Schleife implementieren, die sukzessive die Abstände der einzelnen Segmente berechnet und aufaddiert. Wie schon häufig gelingt es auch hier auf der Basis von NumPy diese Berechnung ohne explizite Schleife zu realisieren. Dabei verwenden wir auch Slicing um  auf den aktuellen Punkt und seinen Vorgänger zuzugreifen."
   ]
  },
  {
   "cell_type": "code",
   "execution_count": 4,
   "id": "989c29fe-dcc6-4e93-bc3b-26ad46e242c4",
   "metadata": {
    "tags": []
   },
   "outputs": [],
   "source": [
    "def polylineLength(x, y):\n",
    "    return np.sum(np.sqrt((x[1:] - x[:-1])**2 + (y[1:] - y[:-1])**2))"
   ]
  },
  {
   "cell_type": "markdown",
   "id": "bfbc5976-7b7b-42f6-950d-f8f47c30b960",
   "metadata": {},
   "source": [
    "## Beispiele\n",
    "Jetzt können wir unsere Beispiele betrachten - wir berechnen Polygonzüge, berechnen eine Näherung und vergleichen dies mit den exakten Ergebnissen aus der Vorlesung.\n",
    "\n",
    "Beim Einheitskreis wissen wir, dass der Umfang durch $2\\pi$ gegeben ist:"
   ]
  },
  {
   "cell_type": "code",
   "execution_count": 12,
   "id": "bfc35a31-56a1-4766-8516-6e877905e97e",
   "metadata": {
    "tags": []
   },
   "outputs": [
    {
     "name": "stdout",
     "output_type": "stream",
     "text": [
      "Berechnete Näherung: 6.283026362971604\n",
      "Relativer Fehler:  2.5296756376146255e-05\n"
     ]
    }
   ],
   "source": [
    "correct = 2.0*np.pi\n",
    "x, y = circle()\n",
    "computed = polylineLength(x, y)\n",
    "print(\"Berechnete Näherung:\", computed)\n",
    "print(\"Relativer Fehler: \", np.abs(computed-correct)/correct)"
   ]
  },
  {
   "cell_type": "markdown",
   "id": "31ebf5d4-0112-4b64-aecc-952816d8bf57",
   "metadata": {},
   "source": [
    "Wir haben bereits für 256 Punkten im Polygonzug einen relativen Fehler, der kleiner als $10^{-4}$ ist.\n",
    "\n",
    "Für die semikubische Parabel hatten wir mit Hilfe von Substitution für das Parameterintervall [-1, 1] von ung. 2.87942 erhalten. "
   ]
  },
  {
   "cell_type": "code",
   "execution_count": 18,
   "id": "3101304d-d7bd-43c2-9713-c446929b4a34",
   "metadata": {
    "tags": []
   },
   "outputs": [
    {
     "name": "stdout",
     "output_type": "stream",
     "text": [
      "Berechnete Näherung: 2.879384544978544\n",
      "Relativer Fehler:  1.2313251090871323e-05\n"
     ]
    }
   ],
   "source": [
    "correct = 2.87942\n",
    "x, y = semicubic()\n",
    "computed = polylineLength(x, y)\n",
    "print(\"Berechnete Näherung:\", computed)\n",
    "print(\"Relativer Fehler: \", np.abs(computed-correct)/correct)"
   ]
  },
  {
   "cell_type": "markdown",
   "id": "78d460a7-2586-45da-8f93-85ea8b6b6c47",
   "metadata": {},
   "source": [
    "Bei der gleichen Anzahl von Punkten im Polygonzug wie für den Einheitskreis erhalten wir eine ähnliche Genauigkeit. Durch das Slicing ist die Berechnung sehr performant."
   ]
  },
  {
   "cell_type": "markdown",
   "id": "80f93799-bbf0-405c-a211-297b52495057",
   "metadata": {},
   "source": [
    "## Algernative Berechnungemethoden\n",
    "Natürlich gibt es Alternativen zu der Verwendung der Polygonzüge. Die Bogenlänge ist als Integral über die Bahngeschwindigkeit der Parameterkurve definiert. Implementieren wir diese Bahngeschwindigkeit, dann können wir Quadraturformeln für die Näherung des Integrals einsetzen. Solche Quadraturformeln finden wir im Modul scipy.integrate.\n",
    "Hier setzen wir die Funktion *simpson* ein, die die gleichnamige Quadraturformel realisiert. In SciPy finden wir weitere Funktionen für die Näherung von Integralen, aber wir werden uns auf die Simpson-Regel konzentrieren."
   ]
  },
  {
   "cell_type": "code",
   "execution_count": 25,
   "id": "5c988be7-47d2-42a5-b453-3e962f6cd79e",
   "metadata": {
    "tags": []
   },
   "outputs": [
    {
     "name": "stdout",
     "output_type": "stream",
     "text": [
      "Berechnete Näherung = 2.879430230602587\n",
      "Relativer Fehler:  3.5530081012388787e-06\n"
     ]
    }
   ],
   "source": [
    "import scipy.integrate as integrate\n",
    "\n",
    "\n",
    "def v(t):\n",
    "    return np.sqrt(4.0*t*t + 9.0*t*t*t*t)\n",
    "\n",
    "\n",
    "a = -1.0\n",
    "b = 1.0\n",
    "n = 256\n",
    "x = np.linspace(a, b, n)\n",
    "y = v(x)\n",
    "computed = integrate.simpson(y, x)\n",
    "relError = np.abs((computed - correct)/correct)\n",
    "print('Berechnete Näherung =', computed)\n",
    "print('Relativer Fehler: ', relError)"
   ]
  },
  {
   "cell_type": "markdown",
   "id": "c592c438-e0f1-4fca-9734-e590d1cbf2cb",
   "metadata": {},
   "source": [
    "Wir erhalten eine ähnliche Genauigkeit wie mit Polygonzügen, müssen dafür aber die Bahngeschwindigkeit aufstellen und implementieren.\n",
    "\n",
    "Natürlich können wir auch das Modul SymPy einsetzen und das Integral mit symbolischer Rechnung lösen. Dazu laden wir SymPy und lassen dieses Modul auch die Ableitungen und den Integranden aufstellen. Die Genauigkeit die wir damit erhalten ist durchaus im Bereich dessen, was wir bisher auch erhalten haben. Aber wenn Sie dieses Notebook ausführen werden Sie bemerken, dass wir eine nicht unerhebliche Rechenzeit dafür erwarten müssen."
   ]
  },
  {
   "cell_type": "code",
   "execution_count": 24,
   "id": "582d76ee-2ea5-4aef-8a08-a07c3ff31797",
   "metadata": {
    "tags": []
   },
   "outputs": [
    {
     "name": "stdout",
     "output_type": "stream",
     "text": [
      "Näherung = 2.87939453125\n",
      "Relativer Fehler:  8.845097276566296e-06\n"
     ]
    }
   ],
   "source": [
    "import sympy\n",
    "\n",
    "t = sympy.symbols('t')\n",
    "f = t**2\n",
    "g = t**3\n",
    "fprime = sympy.diff(f, t)\n",
    "gprime = sympy.diff(g, t)\n",
    "vel = sympy.sqrt(fprime**2 + gprime**2)\n",
    "result = sympy.integrate(vel, (t, -1, 1))\n",
    "computed = float(result)\n",
    "relError = np.abs((computed - correct)/correct)\n",
    "print('Näherung =', computed)\n",
    "print('Relativer Fehler: ', relError)"
   ]
  },
  {
   "cell_type": "markdown",
   "id": "8855b9aa-fa75-436b-bc5b-922b02f77cac",
   "metadata": {},
   "source": [
    "## Benchmarks\n",
    "Welche Berechnungsmethode wir einsetzen hängt sicher auch von den Randbedingungen ab. Führen wir einen Benchmark mit dem Modul *timeit* durch, dann erhalten wir bei 1000 Wiederholungen die folgenden Ergebnisse:\n",
    "\n",
    "Methode | Mittlere Ausführungszeit in Mikrosekunden\n",
    "--- | ---\n",
    "Polygonzug | 29.496300000118936\n",
    "Simpson-Quadratur | 101.60600000017439\n",
    "SymPy | 4394854.636500002"
   ]
  }
 ],
 "metadata": {
  "kernelspec": {
   "display_name": "Python 3 (ipykernel)",
   "language": "python",
   "name": "python3"
  },
  "language_info": {
   "codemirror_mode": {
    "name": "ipython",
    "version": 3
   },
   "file_extension": ".py",
   "mimetype": "text/x-python",
   "name": "python",
   "nbconvert_exporter": "python",
   "pygments_lexer": "ipython3",
   "version": "3.8.18"
  }
 },
 "nbformat": 4,
 "nbformat_minor": 5
}
