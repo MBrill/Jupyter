{
 "cells": [
  {
   "cell_type": "markdown",
   "id": "43ecd1c2-5373-477c-9510-4eed24d11250",
   "metadata": {},
   "source": [
    "# Grafische Darstellung von ebenen Parameterkurven mit Python\n",
    "\n",
    "__Manfred Brill, Hochschule Kaiserslautern__\n",
    "\n",
    "Wir können ebene Parameterkurven skizzieren, aber selbstverständlich können wir auch die Mittel verwenden die uns\n",
    "Python bietet. Wir verwenden entweder *Matplotlib* oder *plotly* für die grafische Ausgabe. Wie in der Vorlesung\n",
    "finden Sie in den entsprechenden ABschnitten immer die gleiche Darstellung, nur das verwendete Modul verändert sich.\n",
    "\n",
    "## Ein Modul für ebene Parameterkurven\n",
    "Es liegt nahe alle ebenen Parameterkurven die wir in der Lehrveranstaltung behandeln in einem Modul zu sammeln. \n",
    "Dann können wir bei einer Aufgabe einen Kreis oder unser 'Standardbeispiel' einmal implementieren und\n",
    "wiederverwenden. Um dieses Notebook eigenständig zu halten sehen wir hier davon ab und definieren\n",
    "einige Funktionen für unsere Parameterkurven, die wir grafisch ausgeben.\n",
    "\n",
    "Wir verwenden wenn möglich Keyword-Parameter. Als Rückgabe aller Funktionen geben wir zwei Felder NumPy-Felder\n",
    "zurück, für die x- und für die y-Koordinaten. Genau dieses Format erwarten beide Grafik-APIs."
   ]
  },
  {
   "cell_type": "code",
   "execution_count": null,
   "id": "01444cdb-3ea0-4256-ae16-f027756c6692",
   "metadata": {},
   "outputs": [],
   "source": [
    "import numpy as np\n",
    "\n",
    "\n",
    "def first_example(a=-2.0, b=4.0, n=10):\n",
    "    t = np.linspace(a, b, n)\n",
    "    x = t*t-2.0*t\n",
    "    y = t + 1.0\n",
    "    return x, y\n",
    "\n",
    "\n",
    "def circle(radius=1.0, a=0.0, b=1.0, n=4):\n",
    "    t = np.linspace(a, b, n, endpoint=True)\n",
    "    x = radius*np.cos(2.0*np.pi*t)\n",
    "    y = radius*np.sin(2.0*np.pi*t)\n",
    "    return x, y\n",
    "\n",
    "\n",
    "def unit_circle(a=0.0, b=1.0, n=4):  \n",
    "    return circle(radius=1.0, a=a, b=b, n=n)"
   ]
  },
  {
   "cell_type": "markdown",
   "id": "585c9819-86aa-4b8e-a12c-00ce20906e54",
   "metadata": {},
   "source": [
    "## Matplotlib\n",
    "Wenn wir Matplotlib verwenden benötigen wir natürlich einen entsprechenden import. Dann erzeugen wir die Punkte auf der ebenen Parameterkurve, die wir darstellen möchten und verwenden diese als Eingabe in die Funktion *plot*. Dabei können wir steuern ob wir nur die Punkte oder einen Polygonzug darstellen möchten. In der Vorlesung haben wir mit den Punkten begonnen, die wir auch in einer Wewrtetabelle berechnet hatten."
   ]
  },
  {
   "cell_type": "code",
   "execution_count": null,
   "id": "aa3267ee-a54d-4ece-8c81-e9c070d0f2d5",
   "metadata": {},
   "outputs": [],
   "source": [
    "import matplotlib.pyplot as plt\n",
    "\n",
    "x, y = first_example(n=7)\n",
    "\n",
    "fig = plt.figure()\n",
    "plt.plot(x, y, 'go', markersize=3.0)\n",
    "plt.title('Punkte der Parameterkurve $(t^2-2t, t+1)$')\n",
    "plt.xlabel('x')\n",
    "plt.ylabel('y')\n",
    "\n",
    "plt.show()"
   ]
  },
  {
   "cell_type": "markdown",
   "id": "45fc2b79-9bc0-49d0-bf8b-055ef123b8f5",
   "metadata": {},
   "source": [
    "Statt der Punkte einen Polygonzug auszugeben ist jetzt einfach. Wir verändern die Option für die Funktion *plt.plot*. Sinnvoll ist es sicher auch mehr Punkte zu berechnen, damit wir den Eindruck einer Parameterkurve erhalten und nicht nur einen groben Polygonzug zu sehen. Wir erzeugen jetzt beide Abbildungen, einmal die Version mit 7 Punkten und dann mit einem deutlich feineren Polygonzug."
   ]
  },
  {
   "cell_type": "code",
   "execution_count": null,
   "id": "4683f50e-f8d8-4a02-add5-293ea3a2ee5f",
   "metadata": {},
   "outputs": [],
   "source": [
    "fig = plt.figure()\n",
    "plt.plot(x, y, 'g-', linewidth=2.0)\n",
    "plt.title('Punkte der Parameterkurve $(t^2-2t, t+1)$ als Polygonzug')\n",
    "plt.xlabel('x')\n",
    "plt.ylabel('y')\n",
    "\n",
    "plt.show()"
   ]
  },
  {
   "cell_type": "markdown",
   "id": "a75500f7-49b9-47c1-9b9b-dd3ddd98392e",
   "metadata": {},
   "source": [
    "Wir verwenden 100 Punkte für den Polygonzug und erhalten ein Bild der Parameterkurve."
   ]
  },
  {
   "cell_type": "code",
   "execution_count": null,
   "id": "0d07d997-8303-4f66-a6a3-f3763d7b74e7",
   "metadata": {},
   "outputs": [],
   "source": [
    "x, y = first_example(n=100)\n",
    "\n",
    "fig = plt.figure()\n",
    "plt.plot(x, y, 'g-', linewidth=2.0)\n",
    "plt.title('Die Spur der Parameterkurve $(t^2-2t, t+1)$ im Parameterintervall $[-2, 4]$')\n",
    "plt.xlabel('x')\n",
    "plt.ylabel('y')\n",
    "\n",
    "plt.show()"
   ]
  },
  {
   "cell_type": "markdown",
   "id": "2b6292b9-de70-438a-98dc-13e2b7939665",
   "metadata": {},
   "source": [
    "Natürlich können wir jetzt auch einen Kreis ausgeben. Wir verwenden die Funktion *unit_circle* die wir oben implementiert haben und tauschen die Berechnung der x- und y-Koordinaten aus."
   ]
  },
  {
   "cell_type": "code",
   "execution_count": null,
   "id": "b97290d3-08f1-4426-8a4f-c24bcf980604",
   "metadata": {},
   "outputs": [],
   "source": [
    "x, y = unit_circle(n=64)\n",
    "\n",
    "fig = plt.figure()\n",
    "plt.figure()\n",
    "plt.plot(x, y, 'g-', linewidth=2.0)\n",
    "plt.title('Der Einheitskreis als Polygonzug')\n",
    "plt.xlabel('x')\n",
    "plt.ylabel('y')\n",
    "\n",
    "plt.show()"
   ]
  },
  {
   "cell_type": "markdown",
   "id": "b9e9dcd5-abf6-44b9-b359-0eac85a77e9c",
   "metadata": {},
   "source": [
    "Diese grafische Ausgabe sollte Ihnen seltsam vorkommen - in der Überschrift steht etwas von Einheitskreis, aber mit ziemlicher Sicherheit sehen wir ein *Osterei*. Das liegt daran, dass wir bei solchen Ausgaben auf das Seitenverhältnis achten sollten. Wenn wir einen Kreis ausgeben und das auch wie ein Kreis aussehen soll geben wir der Funktion *plt.figure* eine Information über die Bildgröße mit wie im folgenden Code. Quadratische Bilder erhalten wir mit einem Seitenverhältnis von 1:1. Der englische Begriff für Seitenverhältnis ist *aspecdt ratio*."
   ]
  },
  {
   "cell_type": "code",
   "execution_count": null,
   "id": "6551d6bd-416a-40bd-957d-38348bf14484",
   "metadata": {},
   "outputs": [],
   "source": [
    "fig = plt.figure(figsize=(4.0, 4.0))\n",
    "plt.figure(figsize=(8.0, 8.0))\n",
    "plt.plot(x, y, 'g-', linewidth=2.0)\n",
    "plt.title('Der Einheitskreis als Polygonzug')\n",
    "plt.xlabel('x')\n",
    "plt.ylabel('y')\n",
    "\n",
    "plt.show()"
   ]
  },
  {
   "cell_type": "markdown",
   "id": "6e4037d4-92e9-4c15-ae4d-d3b2fa17e025",
   "metadata": {},
   "source": [
    "## Plotly\n",
    "Wenn wir Plotly verwenden ändert sich eigentlich nur der Teil, in dem wir eine Abbildung erzeugen und den Polygonzug ausgeben. Wir steigen direkt ein und erzeugen wieder eine Ausgabe \n",
    "unseres ersten Beispiels mit den 7 Punkten."
   ]
  },
  {
   "cell_type": "code",
   "execution_count": null,
   "id": "99413449-6b75-4e2a-9a69-34391495a0b3",
   "metadata": {},
   "outputs": [],
   "source": [
    "import plotly.graph_objects as go\n",
    "import plotly.io as pio\n",
    "\n",
    "pio.renderers.default = 'notebook_connected+jupyterlab'"
   ]
  },
  {
   "cell_type": "markdown",
   "id": "2ed13b33-d9f7-46fd-bac4-4791b2396bc2",
   "metadata": {},
   "source": [
    "Die Zuweisung auf die Variable *pio.renderers.default* in diesen Notebooks sorgt dafür, dass man die Ausgabe in Jupyter Lab sieht. Die Notebooks werden in diesem Werkzeug verfasst. Damit die Ausgaben auch in den exportierten HTML-Dateien angezeigt werden, dafür sorgt der Renderer *notebook_connected*. Wir können bei Bedarf mit einem Plus-Zeichen noch weitere Renderer hinzufügen."
   ]
  },
  {
   "cell_type": "code",
   "execution_count": null,
   "id": "f0ae909d-f157-4adb-b11c-3e2d1ff1071f",
   "metadata": {},
   "outputs": [],
   "source": [
    "x, y = first_example(n=7)\n",
    "\n",
    "fig = go.Figure()\n",
    "fig.add_trace(go.Scatter(x=x, y=y,\n",
    "                         mode='markers',\n",
    "                         name='$first_example',\n",
    "                         marker=dict(color='green', size=8)\n",
    "                        )\n",
    "              )\n",
    "\n",
    "fig.update_layout(title='Punkte der Parameterkurve (t^2-2t, t+1)', \n",
    "                  width=900, \n",
    "                  height=450)\n",
    "fig.show()"
   ]
  },
  {
   "cell_type": "markdown",
   "id": "b8f8aadb-242d-402a-af64-866b3a0a23b2",
   "metadata": {},
   "source": [
    "Auch mit Plotly ist der Wechsel zwischen der Ausgabe von Punkten oder eines Polygonzugs eine Option, hier der Funktion *go.Scatter*."
   ]
  },
  {
   "cell_type": "code",
   "execution_count": null,
   "id": "b8dce180-e7ad-4236-83e1-233ecea77044",
   "metadata": {},
   "outputs": [],
   "source": [
    "fig = go.Figure()\n",
    "fig.add_trace(\n",
    "    go.Scatter(x=x, \n",
    "               y=y,\n",
    "               mode='lines',\n",
    "               name='$first_example',\n",
    "               marker=dict(color='green', size=8)\n",
    "              )\n",
    "    )\n",
    "\n",
    "fig.update_layout(title='Punkte auf der Spur der Parameterkurve (t^2-2t, t+1) als Polygonzug', \n",
    "                  width=900, \n",
    "                  height=450)\n",
    "fig.show()"
   ]
  },
  {
   "cell_type": "code",
   "execution_count": null,
   "id": "ec52ae4d-5184-4912-93b8-00cf13d7b808",
   "metadata": {},
   "outputs": [],
   "source": [
    "x, y = first_example(n=100)\n",
    "\n",
    "fig = go.Figure()\n",
    "fig.add_trace(go.Scatter(\n",
    "                         x=x, \n",
    "                         y=y,\n",
    "                         mode='lines',\n",
    "                         name='$first_example',\n",
    "                         marker=dict(color='green', size=8)\n",
    "                        )\n",
    "              )\n",
    "\n",
    "fig.update_layout(title='Die Spur der Parameterkurve (t^2-2t, t+1) im Parameterintervall [-2, 4]', \n",
    "                  width=900, \n",
    "                  height=450)\n",
    "fig.show()"
   ]
  }
 ],
 "metadata": {
  "kernelspec": {
   "display_name": "Python 3",
   "language": "python",
   "name": "python3"
  },
  "language_info": {
   "codemirror_mode": {
    "name": "ipython",
    "version": 3
   },
   "file_extension": ".py",
   "mimetype": "text/x-python",
   "name": "python",
   "nbconvert_exporter": "python",
   "pygments_lexer": "ipython3",
   "version": "3.8.8"
  }
 },
 "nbformat": 4,
 "nbformat_minor": 5
}
