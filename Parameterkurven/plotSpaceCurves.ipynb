{
 "cells": [
  {
   "cell_type": "markdown",
   "id": "f5d88e4d-8185-4872-b691-19e2a5c3f5aa",
   "metadata": {},
   "source": [
    "# Ausgabe von Raumkurven mit Python\n",
    "\n",
    "__Manfred Brill, Hochschule Kaiserslautern__\n",
    "\n",
    "## Raumkurven\n",
    "Wie schon für ebene Parameterkurven bietet es sich auch für Raumkurven an ein Modul zu implementieren, in dem wir die einzelnen Kurven sammeln.\n",
    "Um das Jupyter Notebook unabhängig zu halten definieren wir die Funktionen für die Berechnung von Punkten auf einer Helix oder einer Schraubenlinie\n",
    "über der logarithmischen Spirale in diesem Notebook.\n",
    "\n",
    "Wir verwenden Keyword-Parameter und als Resultat der Funktionen erhalten wir drei NumPy-Arrays für x, y und z-Koordinaten von Punkten auf der Raumkurve."
   ]
  },
  {
   "cell_type": "code",
   "execution_count": null,
   "id": "43e310a5-a5f7-44fd-b5a8-00f1a27be3bb",
   "metadata": {},
   "outputs": [],
   "source": [
    "import numpy as np\n",
    "\n",
    "\n",
    "def helix(radius=1.0, h=2.0, left=0.0, right=1.0, num=200):\n",
    "    t = np.linspace(left, right, num)\n",
    "    x = radius * np.cos(2.0 * np.pi * t)\n",
    "    y = radius * np.sin(2.0 * np.pi * t)\n",
    "    z = h * t\n",
    "    return x, y, z\n",
    "\n",
    "\n",
    "def logSpiralHelix(a=2.0, b=0.08, h=1.0, left=0.0, right=8.0*np.pi, n=200):\n",
    "    t = np.linspace(left, right, n)\n",
    "    r = a * np.exp(b*t)\n",
    "    x = r * np.cos(t)\n",
    "    y = r * np.sin(t)\n",
    "    z = h * t\n",
    "    return x, y, z"
   ]
  },
  {
   "cell_type": "code",
   "execution_count": null,
   "id": "b4d15c25-1b14-4671-ab53-1f3186d63b42",
   "metadata": {},
   "outputs": [],
   "source": [
    "x, y, z = helix(right=2.0)\n",
    "\n",
    "xsp, ysp, zsp = logSpiralHelix()"
   ]
  },
  {
   "cell_type": "markdown",
   "id": "26ce835b-78e6-422f-97e3-28e320684e1a",
   "metadata": {},
   "source": [
    "## Grafische Ausgabe\n",
    "Nachdem wir einen Polygonzug berechnet haben können wir sowohl mit Matplotlib als auch mit Plotly dreidimensionale Darstellungen erstellen. In Matplotlib ist dies im ersten Schritt eine statische Darstellung mit einer festen Kameraeinstellung. Mit Hilfe von *magic commands* können wir aber interaktive Darstellungen erzeugen. In Plotly ist dies noch einfacher, wir schon vorher erhalten wir eine interaktive Darstellung von vorn herein.\n",
    "\n",
    "Als Beispiel verwenden wir die Helix mit einer Ganghähe von 2 und davon einen Umlauf. Dazu berechnen wir den Polygonzug und verwenden diese Daten für die grafische Ausgabe mit Matplotlib und Plotly.\n",
    "\n",
    "\n",
    "### Matplotlib\n",
    "Die Darstellung einer Raumkurve unterscheidet sich nicht sehr stark von der für eine ebene Parameterkurve. Die Funktion *pyplot.plot* kann auch drei Koordinaten verarbeiten. Eine räumliche Darstellung in Matplotlib erhalten wir mit der Anweisung *ax = plt.axes(projection='3d')*."
   ]
  },
  {
   "cell_type": "code",
   "execution_count": null,
   "id": "9e0afd51-196e-4ae0-b125-8f1e81fe74c2",
   "metadata": {},
   "outputs": [],
   "source": [
    "import matplotlib.pyplot as plt\n",
    "\n",
    "fig = plt.figure(figsize=(16.0, 9.0))\n",
    "ax = plt.axes(projection='3d')\n",
    "\n",
    "plt.title('Helix',\n",
    "          y=1.05, fontsize=24)\n",
    "plt.xlabel('x')\n",
    "plt.ylabel('y')\n",
    "ax.set_zlabel('z')\n",
    "plt.plot(x, y, z, 'g')\n",
    "\n",
    "plt.show()"
   ]
  },
  {
   "cell_type": "markdown",
   "id": "322b49b7-d028-4793-9f2b-43d4e994d497",
   "metadata": {},
   "source": [
    "Wir können die grafische Ausgabe und viele andere Darstellungen in Matplotlib mit *magic commands* beeinflussen. Mit Hilfe von *%matplotlib qt* erhalten wir grafische ausgaben in einem externen Fenster. Verwenden wir dies und verwenden erneut den Code für die grafische Ausgabe der Helix, dann öffnet sich ein Fenster und wir können die 3D-Ansicht wie gewohnt mit der Maus manipulieren."
   ]
  },
  {
   "cell_type": "code",
   "execution_count": null,
   "id": "073af46a-a4a3-4542-9f81-45d2f699e1ea",
   "metadata": {},
   "outputs": [],
   "source": [
    " %matplotlib qt\n",
    "\n",
    "fig = plt.figure(figsize=(16.0, 9.0))\n",
    "ax = plt.axes(projection='3d')\n",
    "\n",
    "plt.title('Helix',\n",
    "          y=1.05, fontsize=24)\n",
    "plt.xlabel('x')\n",
    "plt.ylabel('y')\n",
    "ax.set_zlabel('z')\n",
    "plt.plot(x, y, z, 'g')\n",
    "\n",
    "plt.show()"
   ]
  },
  {
   "cell_type": "markdown",
   "id": "fdf9935e-5d01-46e6-911c-d8f90c144986",
   "metadata": {},
   "source": [
    "### Plotly\n",
    "\n",
    "Mit Plotly erhalten wir ohne großen Aufwand eine interaktive 3D-Darstellung.\n",
    "Wir erstellen anschließend einen Trace für das Modul\n",
    "*plotly.graph_objects*. \n",
    "Diesen fügen wir in *go.Figure* der Ausgabe hinzu und\n",
    "stellen noch einige Einstellungen wie Bildgröße oder Kameraposition ein.\n",
    "Den Polygonzug geben wir mit *go.Scatter3d* aus."
   ]
  },
  {
   "cell_type": "code",
   "execution_count": null,
   "id": "aa3267ee-a54d-4ece-8c81-e9c070d0f2d5",
   "metadata": {
    "tags": []
   },
   "outputs": [],
   "source": [
    "import plotly.graph_objects as go\n",
    "import plotly.io as pio\n",
    "\n",
    "pio.renderers.default = 'notebook_connected+jupyterlab'\n",
    "\n",
    "curve = go.Scatter3d(x=x, \n",
    "                     y=y, \n",
    "                     z=z,\n",
    "                     name='Helix',\n",
    "                     mode='lines',\n",
    "                     line = dict(color='green', width=8),\n",
    "                     showlegend=False)\n",
    "\n",
    "layout = go.Layout(scene_xaxis_visible=True, \n",
    "                   scene_yaxis_visible=True, \n",
    "                   scene_zaxis_visible=True,\n",
    "                   showlegend=False)\n",
    "\n",
    "fig =  go.Figure(data=[curve], layout=layout)\n",
    "\n",
    "fig.update_layout(title='Helix mit Radius 1 und Ganghöhe 2',\n",
    "                  title_x=0.5,\n",
    "                  scene_camera_eye_z=1.55,\n",
    "                  autosize=False,\n",
    "                  width=800,\n",
    "                  height=600,)\n",
    "\n",
    "\n",
    "fig.show()"
   ]
  },
  {
   "cell_type": "markdown",
   "id": "45fc2b79-9bc0-49d0-bf8b-055ef123b8f5",
   "metadata": {},
   "source": [
    "Die Helix ist eine Schraubenlinie, die auf einem Zylindermantel abläuft. In Plotly können wir geometrische Körper als \n",
    "Objekte vom Typ *parametrized surface* ausgeben. Dazu berechnen wir in der Funktion *cylinder* ein Dreiecksnetz eines Zylinders und üergeben das anschließend\n",
    "an Plotly. Für den Boden und den Deckel erzeugen implementieren wir die Funktino *disk*, die ein Dreiecks-Netz für diese Kreisscheiben berechnet."
   ]
  },
  {
   "cell_type": "code",
   "execution_count": null,
   "id": "f13cd56b-f868-43ba-a706-0382b8b30edc",
   "metadata": {},
   "outputs": [],
   "source": [
    "def cylinder(r=1.0, h=2.0, nu=100, nv=5):\n",
    "    theta = np.linspace(0, 2*np.pi, nu)\n",
    "    v = np.linspace(0.0, h, nv )\n",
    "    theta, v = np.meshgrid(theta, v)\n",
    "    x = r*np.cos(theta)\n",
    "    y = r*np.sin(theta)\n",
    "    z = v\n",
    "    return x, y, z\n",
    "\n",
    "\n",
    "def circle_in_space(r=1.0, height=0.0, nt=100):\n",
    "    theta = np.linspace(0, 2*np.pi, nt)\n",
    "    x= r*np.cos(theta)\n",
    "    y = r*np.sin(theta)\n",
    "    z = np.full_like(theta, fill_value = height)\n",
    "    return x, y, z"
   ]
  },
  {
   "cell_type": "markdown",
   "id": "dd56373f-4c97-4696-acf5-8a69ecdd0f2d",
   "metadata": {},
   "source": [
    "Jetzt verwenden wir diese Funktionen und erzeugen eine grafische Ausgabe."
   ]
  },
  {
   "cell_type": "code",
   "execution_count": null,
   "id": "a97c97cd-6c81-4d18-9ee3-5ae49ac69f61",
   "metadata": {},
   "outputs": [],
   "source": [
    "h = 2.0\n",
    "x1, y1, z1 = cylinder(h=4.0)\n",
    "\n",
    "colorscale = [[0, 'orange'],\n",
    "             [1, 'orange']]\n",
    "\n",
    "cyl = go.Surface(x=x1, \n",
    "                 y=y1, \n",
    "                 z=z1,\n",
    "                 name='Zylindermantel',\n",
    "                 colorscale = colorscale,\n",
    "                 opacity=0.5,\n",
    "                 showscale=False)\n",
    "\n",
    "xb, yb, zb = circle_in_space(height=0.0)\n",
    "xd, yd, zd = circle_in_space(height=h)\n",
    "\n",
    "boden = go.Scatter3d(x = xb,\n",
    "                     y = yb,\n",
    "                     z = zb,\n",
    "                     mode ='lines',\n",
    "                     line = dict(color='orange', width=6),\n",
    "                     opacity =0.55\n",
    "                    )\n",
    "\n",
    "\n",
    "deckel = go.Scatter3d(x = xd,\n",
    "                      y = yd,\n",
    "                      z = zd,\n",
    "                      mode ='lines',\n",
    "                      line = dict(color='orange', width=6),\n",
    "                      opacity =0.55\n",
    "                     )\n",
    "\n",
    "curve = go.Scatter3d(x=x, \n",
    "                     y=y, \n",
    "                     z=z,\n",
    "                     name='Helix',\n",
    "                     mode='lines',\n",
    "                     line = dict(color='green', width=8)\n",
    "                    )\n",
    "\n",
    "fig =  go.Figure(data=[curve, cyl, boden, deckel], layout=layout)\n",
    "\n",
    "fig.update_layout(title='Helix und Zylindermantel',\n",
    "                  title_x=0.5,\n",
    "                  scene_camera_eye_z=1.0,\n",
    "                  autosize=False,\n",
    "                  width=1000,\n",
    "                  height=800\n",
    "                 )\n",
    "\n",
    "\n",
    "fig.show()"
   ]
  },
  {
   "cell_type": "markdown",
   "id": "44ad7a46-7cb2-4b2d-b605-49536ff2054f",
   "metadata": {},
   "source": [
    "## Schraubenlinie über einer logarithmischen Spirale\n",
    "Wenn wir eine andere Raumkurve, zum Beispiel eine Schraubenlinie über einer logarithmischen Spirale, ausgeben möchten, dass müssen wir im Quelltext nicht viel verändern. Wir berechnen\n",
    "die Koordinaten der Punkte auf der Spur mit der entsprechenden Funktion und geben den Polygonzug aus. Für die Spirale verwenden wir die Defaultwerte a=1 und b=0.08 für die Parameter der Spirale, als Ganghöhe verwenden wir 1. Das Parameterintervall ist [0, 6pi] und wir verwenden 200 Punkte für den Polygonzug."
   ]
  },
  {
   "cell_type": "code",
   "execution_count": null,
   "id": "56030483-e74c-43c0-b473-a50d14ed8be6",
   "metadata": {},
   "outputs": [],
   "source": [
    "x, y, z = logSpiralHelix()\n",
    "\n",
    "curve = go.Scatter3d(x=xsp, y=ysp, z=zsp,\n",
    "                     name='Logarithmische Spirale',\n",
    "                     mode='lines',\n",
    "                     line = dict(color='green', width=8),\n",
    "                     showlegend=False)\n",
    "\n",
    "layout = go.Layout(scene_xaxis_visible=True, \n",
    "                   scene_yaxis_visible=True, \n",
    "                   scene_zaxis_visible=True,\n",
    "                   showlegend=False)\n",
    "\n",
    "fig =  go.Figure(data=[curve], layout=layout)\n",
    "\n",
    "fig.update_layout(title='Logarithmische Spirale mit a=1, b=0.08, Ganghöhe 1',\n",
    "                  title_x=0.5,\n",
    "                  scene_camera_eye_z=1.55,\n",
    "                  autosize=False,\n",
    "                  width=800,\n",
    "                  height=800,\n",
    "                  showlegend=False)\n",
    "                  \n",
    "fig.show()"
   ]
  }
 ],
 "metadata": {
  "kernelspec": {
   "display_name": "Python 3",
   "language": "python",
   "name": "python3"
  },
  "language_info": {
   "codemirror_mode": {
    "name": "ipython",
    "version": 3
   },
   "file_extension": ".py",
   "mimetype": "text/x-python",
   "name": "python",
   "nbconvert_exporter": "python",
   "pygments_lexer": "ipython3",
   "version": "3.8.8"
  }
 },
 "nbformat": 4,
 "nbformat_minor": 5
}
