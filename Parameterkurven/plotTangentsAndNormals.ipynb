{
 "cells": [
  {
   "cell_type": "markdown",
   "id": "43ecd1c2-5373-477c-9510-4eed24d11250",
   "metadata": {},
   "source": [
    "# Grafische Darstellung der Tangenten und Normalen von ebenen Parameterkurven mit Python\n",
    "\n",
    "__Manfred Brill, Hochschule Kaiserslautern__\n",
    "\n",
    "Wir können mit Matplotlib natürlich auch Vektoren als Pfeil darstellen. Das nutzen wir, um Tangential- und Normalenvektoren\n",
    "einer ebenen Parameterkurve auszugeben.\n",
    "\n",
    "Als Beispiel verwenden wir hier die Zykloide.\n",
    "Neben der Parameterdarstellung dieser Parameterkurve implementieren wir eine Funktion, die für einen gegebenen Parameterwert t\n",
    "die Koordinaten des Punkte auf der Spur berechnet. Und eine weitere Funktionen, die entweder die Geschwindigkeit, die Tangente oder die Normale für einen Parameterwert berechnen. Dazu berechnen wir die Formeln dafür auf dem Papier und implementieren die Ergebnisse."
   ]
  },
  {
   "cell_type": "code",
   "execution_count": null,
   "id": "01444cdb-3ea0-4256-ae16-f027756c6692",
   "metadata": {},
   "outputs": [],
   "source": [
    "import numpy as np\n",
    "\n",
    "\n",
    "def cycloid(radius=1.0, a=0.0, b=2.0*np.pi, n=20):\n",
    "    t = np.linspace(a, b, n)\n",
    "    x = radius*(t - np.sin(t))\n",
    "    y = radius*(1.0 - np.cos(t))\n",
    "    return x, y\n",
    "\n",
    "\n",
    "def cycloid_point(radius=1.0, theta=0.0):\n",
    "    px = radius*(theta - np.sin(theta))\n",
    "    py = radius*(1.0 - np.cos(theta))\n",
    "    return np.array([px, py])\n",
    "\n",
    "\n",
    "def cycloid_tangent(radius=1.0, theta=0.0):\n",
    "    vx = radius*(1.0-np.cos(theta))\n",
    "    vy = radius*np.sin(theta)\n",
    "    length = np.sqrt(vx*vx + vy*vy)\n",
    "    vx /= length\n",
    "    vy /= length\n",
    "    return vx, vy\n",
    "\n",
    "\n",
    "def cycloid_normal(radius=1.0, theta=0.0):\n",
    "    vx = radius*(1.0-np.cos(theta))\n",
    "    vy = radius*np.sin(theta)\n",
    "    length = np.sqrt(vx*vx + vy*vy)\n",
    "    nx = -vy/length\n",
    "    ny = vx/length\n",
    "    return nx, ny"
   ]
  },
  {
   "cell_type": "markdown",
   "id": "585c9819-86aa-4b8e-a12c-00ce20906e54",
   "metadata": {},
   "source": [
    "## Matplotlib\n",
    "Wenn wir Matplotlib verwenden benötigen wir natürlich einen entsprechenden import. Dann erzeugen wir die Punkte auf der ebenen Parameterkurve, die wir darstellen möchten und verwenden diese als Eingabe in die Funktion *plot*. Dabei können wir steuern ob wir nur die Punkte oder einen Polygonzug darstellen möchten. In der Vorlesung haben wir mit den Punkten begonnen, die wir auch in einer Wertetabelle berechnet hatten."
   ]
  },
  {
   "cell_type": "code",
   "execution_count": null,
   "id": "aa3267ee-a54d-4ece-8c81-e9c070d0f2d5",
   "metadata": {},
   "outputs": [],
   "source": [
    "import matplotlib.pyplot as plt\n",
    "\n",
    "x, y = cycloid()\n",
    "\n",
    "fig = plt.figure(figsize=(18, 6))\n",
    "plt.plot(x, y, 'go', markersize=3.0)\n",
    "plt.title('Punkte auf der Zykloide')\n",
    "plt.xlabel('x')\n",
    "plt.ylabel('y')\n",
    "\n",
    "plt.show()"
   ]
  },
  {
   "cell_type": "markdown",
   "id": "45fc2b79-9bc0-49d0-bf8b-055ef123b8f5",
   "metadata": {},
   "source": [
    "Statt der Punkte einen Polygonzug auszugeben ist jetzt einfach. Wir verändern die Option für die Funktion *plt.plot*. Sinnvoll ist es sicher auch mehr Punkte zu berechnen, damit wir den Eindruck einer Parameterkurve erhalten und nicht nur einen groben Polygonzug zu sehen. Und wir geben mehrere Zyklen der Zykloide aus."
   ]
  },
  {
   "cell_type": "code",
   "execution_count": null,
   "id": "55acd626-2ad3-42aa-9db9-b7538a4a8a43",
   "metadata": {},
   "outputs": [],
   "source": [
    "x, y = cycloid(n=200, b = 10.0*np.pi)\n",
    "\n",
    "fig = plt.figure(figsize=(18, 6))\n",
    "plt.plot(x, y, 'g-', markersize=3.0)\n",
    "plt.title('Die Zykloide')\n",
    "plt.xlabel('x')\n",
    "plt.ylabel('y')\n",
    "\n",
    "plt.show()"
   ]
  },
  {
   "cell_type": "markdown",
   "id": "b8f8aadb-242d-402a-af64-866b3a0a23b2",
   "metadata": {},
   "source": [
    "### Ausgabe von Vektoren mit arrow\n",
    "In Matplotlib gibt es die Funktion *arrow*, mit der wir Vektoren ausgeben können. Dazu übergeben wir den Anfangs- und den Endpunkt des Vektors. Die Vektoren dazu berechnen wir zum Beispiel mit der Funktion *cycloid_tangent*."
   ]
  },
  {
   "cell_type": "code",
   "execution_count": null,
   "id": "5b1dfac6-117e-42d3-8b9c-1184c8bd33ce",
   "metadata": {},
   "outputs": [],
   "source": [
    "x, y = cycloid(n=10, b = 2.0*np.pi)\n",
    "poi = cycloid_point(radius = 1.0, theta=np.pi/2.0)\n",
    "tx, ty = cycloid_tangent(radius = 1.0, theta=np.pi/2.0)\n",
    "nx, ny = cycloid_normal(theta=np.pi/2.0)\n",
    "\n",
    "fig = plt.figure(figsize=(18, 6))\n",
    "plt.plot(x, y, 'bo', markersize=5.0)\n",
    "plt.arrow(poi[0], poi[1], \n",
    "          tx, ty,\n",
    "          width=0.025,\n",
    "          length_includes_head=True,\n",
    "          color=\"darkred\"\n",
    "         )\n",
    "plt.arrow(poi[0], poi[1], \n",
    "          nx, ny,\n",
    "          width=0.025,\n",
    "          length_includes_head=True,\n",
    "          color=\"darkgreen\"\n",
    "         )\n",
    "\n",
    "plt.title('Tangente (rot)und Normale (grün) an die Zykloide für den Parameterwert pi/2')\n",
    "plt.xlabel('x')\n",
    "plt.ylabel('y')\n",
    "\n",
    "plt.show()"
   ]
  },
  {
   "cell_type": "markdown",
   "id": "2bbe9e52-489b-422c-bbcb-5c6facf20af4",
   "metadata": {},
   "source": [
    "### Ausgabe einer Menge von Vektoren mit Hilfe von quiver\n",
    "Wenn wir mehr als eine Tangente oder Normale darstellen möchten könnten wir natürlich eine Matrix von \n",
    "Vektoren berechnen und diese an *arrow* übergeben.\n",
    "Aber Matplotlib hat dafür eine eigene Funktion *quiver*, die wir auch später noch verwenden werden.\n",
    "Wir berechnen eine Menge von Punkten, dort auch die Tangenten und Normalen und übergeben diese Daten an *quiver*."
   ]
  },
  {
   "cell_type": "code",
   "execution_count": null,
   "id": "1fbe92fc-1453-45f1-9191-7c03300e5954",
   "metadata": {},
   "outputs": [],
   "source": [
    "n = 10\n",
    "a = 0.5*np.pi\n",
    "b = 1.5*np.pi\n",
    "theta = np.linspace(a, b, n)\n",
    "radius = np.full((n, ), 1.0)\n",
    "x, y = cycloid_point(radius = radius, theta=theta)\n",
    "\n",
    "tx, ty= cycloid_tangent(radius = radius, theta=theta)\n",
    "nx, ny = cycloid_normal(theta=theta)\n",
    "\n",
    "fig = plt.figure(figsize=(18, 6))\n",
    "plt.plot(x, y, 'k-')\n",
    "quiverScale = 10\n",
    "plt.quiver(x, y, \n",
    "           tx, ty,\n",
    "           units='width',\n",
    "           scale=quiverScale,\n",
    "           pivot='tail',\n",
    "           color='r')\n",
    "plt.quiver(x, y, \n",
    "           nx, ny,\n",
    "           units='width',\n",
    "           scale=quiverScale,\n",
    "           pivot='tail',\n",
    "           color='g')\n",
    "\n",
    "plt.xlim(0.0, 2.0*np.pi)\n",
    "plt.ylim(0.0, 3.0)\n",
    "\n",
    "plt.title('Tangente (rot) und Normale (grün) an die Zykloide mit quiver')\n",
    "plt.xlabel('x')\n",
    "plt.ylabel('y')\n",
    "\n",
    "plt.show()"
   ]
  },
  {
   "cell_type": "markdown",
   "id": "7627b03c-ed1e-4a39-ac0a-d5014c1c09cf",
   "metadata": {},
   "source": [
    "## Plotly\n",
    "Es gibt in Plotly die Möglichkeit einzelne Pfeile zu zeichnen, wenn man Annotationen verwendet. Besser ist die Möglichkeit wieder *quiver* zu verwenden, diese Funktion gibt es auch hier. Wir geben nur die Tangenten aus. Wir könnten sowohl Tangenten und Normalenvektoren ausgeben,\n",
    "aber dann müssen wir die Anfangspunkte duplizieren und neue Arrays erzeugen, worauf wir verzichten."
   ]
  },
  {
   "cell_type": "code",
   "execution_count": null,
   "id": "feb9952d-8e6e-46d3-991c-3abec332f180",
   "metadata": {},
   "outputs": [],
   "source": [
    "import plotly.io as pio\n",
    "import plotly.express as px\n",
    "import plotly.graph_objects as go\n",
    "import plotly.figure_factory as ff\n",
    "\n",
    "pio.renderers.default = 'notebook_connected+jupyterlab'\n",
    "\n",
    "fig = ff.create_quiver(x, y,\n",
    "                       tx, ty,\n",
    "                       scale=0.5,\n",
    "                       arrow_scale=0.2,\n",
    "                       name='Tangenten'\n",
    "                      )\n",
    "\n",
    "fig.add_trace(go.Scatter(x=x, y=y,\n",
    "                        mode='markers',\n",
    "                        marker_size=12,\n",
    "                        name='Punkte auf der Kurve'\n",
    "                        )\n",
    "             )\n",
    "\n",
    "fig.update_layout(\n",
    "    title=go.layout.Title(\n",
    "            text=\"Tangenten und Normalen mit Plotly und quiver\",\n",
    "            xref='paper',\n",
    "            x=0.5\n",
    "        ),\n",
    "    xaxis_range=[0.0, 2.0*np.pi],\n",
    "    yaxis_range=[0.0, 3.0],\n",
    "    autosize=False,\n",
    "    width=1000,\n",
    "    height=1000\n",
    ")\n",
    "\n",
    "fig.update_traces(\n",
    "        marker=dict(color='blue'),\n",
    "        line=dict(color='darkgreen')\n",
    ")\n",
    "\n",
    "fig.show()"
   ]
  }
 ],
 "metadata": {
  "kernelspec": {
   "display_name": "Python 3",
   "language": "python",
   "name": "python3"
  },
  "language_info": {
   "codemirror_mode": {
    "name": "ipython",
    "version": 3
   },
   "file_extension": ".py",
   "mimetype": "text/x-python",
   "name": "python",
   "nbconvert_exporter": "python",
   "pygments_lexer": "ipython3",
   "version": "3.8.8"
  }
 },
 "nbformat": 4,
 "nbformat_minor": 5
}
