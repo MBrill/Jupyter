{
 "cells": [
  {
   "cell_type": "markdown",
   "id": "fdf799d8-c63d-476a-bbaa-76759b6ec7d2",
   "metadata": {},
   "source": [
    "# Grafische Ausgabe von Parameterkurven in Polarkoordinaten\n",
    "\n",
    "__Manfred Brill, Hochschule Kaiserslautern__\n",
    "\n",
    "Die grafische Ausgabe von Parameterkurven, die in Polarkoordinaten definiert sind, wird von Matplotlib und Plotly direkt unterstützt. Als Beispiele verwenden wir die Kardioide und die Lemniskate von Bernoulli.\n",
    "\n",
    "## Behandlung von negativen Werten\n",
    "Eine Parameterkurve in Polarkoordinaten berechnen wir durch eine Funktion *f*, die für einen Winkel den Radius berechnet. Es kann dabei der Fall auftreten, dass wir negative Werte für den Radius erhalten, was natürlich nicht sinnvoll ist. Dies geschieht beispielsweise bei der Lemniskate von Bernoulli. Für diesen Fall gibt es die Regel, dass wir den Absolutbetrag des berechneten Radius verwenden und im Winkel 180 Grad dazu addieren.\n",
    "\n",
    "Dafür implementieren wir eine Hilfsfunktion, die wir hier verwenden können und anschließend implementieren wir die beiden Kurven, die wir grafisch ausgeben. In der Funktion *polar_helper* nutzen wir logische Indizierung in NumPy aus, so dass wir diese Funktion vektorisieren können."
   ]
  },
  {
   "cell_type": "code",
   "execution_count": null,
   "id": "d194c624-775d-4903-88eb-ef5d991596ec",
   "metadata": {},
   "outputs": [],
   "source": [
    "import numpy as np\n",
    "\n",
    "\n",
    "def polar_helper(r, phi):\n",
    "    index = r < 0.0\n",
    "    r[index] = -r[index]\n",
    "    phi[index] = phi[index] + np.pi\n",
    "    return r, phi\n",
    "\n",
    "\n",
    "def lemniscate(factor=1.0, a=-np.pi, b=np.pi, n=100):\n",
    "    phi = np.linspace(a, b, n)\n",
    "    r = np.cos(2.0*phi)\n",
    "    r, phi = polar_helper(r, phi)\n",
    "    return phi, r\n",
    "\n",
    "\n",
    "def cardioid(a=-np.pi, b=np.pi, n=100):\n",
    "    phi = np.linspace(a, b, n)\n",
    "    r = 1.0 + np.sin(phi)\n",
    "    return phi, r"
   ]
  },
  {
   "cell_type": "markdown",
   "id": "8d820a18-e739-467f-b755-84688bade5c5",
   "metadata": {},
   "source": [
    "## Kardioide\n",
    "Das Beispiel für eine Kurve in Polarkoordinaten ist natürlich die Kardioide. Wir berechnen die Polarkoordinaten für den Polygonzug."
   ]
  },
  {
   "cell_type": "code",
   "execution_count": null,
   "id": "2ad58ec3-6872-4926-a4f6-949051281f4d",
   "metadata": {},
   "outputs": [],
   "source": [
    "phi, r = cardioid()"
   ]
  },
  {
   "cell_type": "markdown",
   "id": "0684549b-4ef1-4bc5-b704-d061b63c9013",
   "metadata": {},
   "source": [
    "###  Matplotlib\n",
    "Für die grafische Ausgabe in Matplotlib verwenden wir die Funktion *plt.polar* statt\n",
    "wie in kartesischen Koordinaten *plt.plot*. Natürlich könnten wir diese Funktion nachwievor verwenden und die Umrechnung von Polarkoordinaten in kartesische Koordinaten selbst implementieren. Wir erzeugen einen Polygonzug in Polarkoordinaten mit der Parameterdarstellung und übergeben diese an Matplotlib."
   ]
  },
  {
   "cell_type": "code",
   "execution_count": null,
   "id": "62254d71-1370-42d5-89cd-8696fcf808fe",
   "metadata": {},
   "outputs": [],
   "source": [
    "import matplotlib.pyplot as plt\n",
    "\n",
    "fig = plt.figure()\n",
    "plt.polar(phi, r, 'g-')\n",
    "plt.title('Kardioide',\n",
    "          y=1.1, \n",
    "          fontsize=18\n",
    "         )\n",
    "plt.show()"
   ]
  },
  {
   "cell_type": "markdown",
   "id": "6a99e9fa-30cc-4a13-8624-49bb6db6808e",
   "metadata": {},
   "source": [
    "### Plotly\n",
    "Auch mit Plotly können ohne Umrechnungen in kartesische Koordinate eine grafische Darstellung erzeugen. Wir verwenden dazu *plotly.express* und dort die Funktion *line_polar*. Wichtig ist, dass wir die Winkel, die in Plotly als *theta* bezeichnet werden, in *Gradmaß* übergeben. Da wir in NumPy Bogenmaß verwendet haben müssen wir hier die Werte mit *numpy.rad2deg* umrechnen. Wir sollten auch darauf achten, dass 0 Grad auf der positiven Achse liegen und dass wir mathematisch positiv,\n",
    "entgegen des Uhrzeigersinns, die Winkel durchlaufen."
   ]
  },
  {
   "cell_type": "code",
   "execution_count": null,
   "id": "bd4cc44b-2b4c-494c-b4ea-701cfe2ba8bb",
   "metadata": {},
   "outputs": [],
   "source": [
    "import plotly.express as px\n",
    "import plotly.io as pio\n",
    "\n",
    "pio.renderers.default = 'notebook_connected+jupyterlab'\n",
    "\n",
    "fig = px.line_polar(\n",
    "    r=r,\n",
    "    theta=np.rad2deg(phi),\n",
    "    start_angle=0, direction=\"counterclockwise\",\n",
    "    color_discrete_sequence=px.colors.qualitative.Dark2\n",
    ")\n",
    "\n",
    "fig.update_layout(\n",
    "    title=\"Kardioide\",\n",
    "    font=dict(\n",
    "        size=18\n",
    "    ),\n",
    "    height=600\n",
    ")\n",
    "\n",
    "fig.show()"
   ]
  },
  {
   "cell_type": "markdown",
   "id": "41139308-a62b-4340-808b-013cb00c33c2",
   "metadata": {},
   "source": [
    "Neben Express können wir *graphics objects* einsetzen. Dort verwenden wir *Scatterpolar*."
   ]
  },
  {
   "cell_type": "code",
   "execution_count": null,
   "id": "30ce8a15-b9a0-4e5d-80ed-3f1b3b26d195",
   "metadata": {},
   "outputs": [],
   "source": [
    "import plotly.graph_objects as go\n",
    "\n",
    "fig = go.Figure(data=\n",
    "    go.Scatterpolar(\n",
    "        r = r,\n",
    "        theta = np.rad2deg(phi),\n",
    "        mode = 'lines',\n",
    "        name = 'Kardioide',\n",
    "        line_color = 'darkgreen',\n",
    "    ))\n",
    "\n",
    "\n",
    "fig.update_layout(\n",
    "    title=\"Kardioide\",\n",
    "    font=dict(\n",
    "        size=18\n",
    "    ),\n",
    "    height=600\n",
    ")\n",
    "\n",
    "fig.show()"
   ]
  },
  {
   "cell_type": "markdown",
   "id": "6182bca3-3bfc-48a8-a57c-158c3652a074",
   "metadata": {},
   "source": [
    "## Behandlung von  negativen Radien\n",
    "Als Illustration für die Behandlung von negativen Radien erzeugen wir mit Matplotlib eine grafische Darstellung der Lemniskate von Bernoulli. Die negativen Werte, die für den Radius berechnet werden fangen wir bereits in der Funktion *lemniscate* ab."
   ]
  },
  {
   "cell_type": "code",
   "execution_count": null,
   "id": "ef9cf2b5-bad4-4177-9259-a6b5343e9193",
   "metadata": {},
   "outputs": [],
   "source": [
    "import matplotlib.pyplot as plt\n",
    "\n",
    "phi, r = lemniscate()\n",
    "\n",
    "fig = plt.figure()\n",
    "plt.polar(phi, r, 'g-')\n",
    "plt.title('Lemniskate von Bernoulli',\n",
    "          y=1.1, \n",
    "          fontsize=18)\n",
    "\n",
    "plt.show()"
   ]
  }
 ],
 "metadata": {
  "kernelspec": {
   "display_name": "Python 3",
   "language": "python",
   "name": "python3"
  },
  "language_info": {
   "codemirror_mode": {
    "name": "ipython",
    "version": 3
   },
   "file_extension": ".py",
   "mimetype": "text/x-python",
   "name": "python",
   "nbconvert_exporter": "python",
   "pygments_lexer": "ipython3",
   "version": "3.8.8"
  }
 },
 "nbformat": 4,
 "nbformat_minor": 5
}
