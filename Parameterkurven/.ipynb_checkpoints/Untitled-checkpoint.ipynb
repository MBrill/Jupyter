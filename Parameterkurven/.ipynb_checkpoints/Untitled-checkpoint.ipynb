{
 "cells": [
  {
   "cell_type": "markdown",
   "id": "fdf799d8-c63d-476a-bbaa-76759b6ec7d2",
   "metadata": {},
   "source": [
    "# Grafische Ausgabe von Parameterkurven in Polarkoordinaten\n",
    "Die grafische Ausgabe von Parameterkurven, die in Polarkoordinaten definiert sind wird von Matplotlib direkt unterstützt. Als Beispiele verwenden wir die Kardioide und die Lemniskate von Bernoulli.\n",
    "\n",
    "## Behandlung von negativen Werten\n",
    "Eine Parameterkurve in Polarkoordinaten berechnen wir durch eine Funktion *f*, die für einen Winkel den Radius berechnet. Es kann dabei der Fall auftreten, dass wir negative Werte für den Radius erhalten, was natürlich nicht sinnvoll ist. Dies geschieht beispielsweise bei der Lemniskate von Bernoulli. Für diesen Fall gibt es die Regel, dass wir den Absolutbetrag des berechneten Radius verwenden und im Winkel 180 Grad dazu addieren.\n",
    "\n",
    "Dafür implementieren wir eine Hilfsfunktion, die wir hier verwenden können und anschließend implementieren wir die beiden Kurven, die wir grafisch ausgeben."
   ]
  }
 ],
 "metadata": {
  "kernelspec": {
   "display_name": "Python 3 (ipykernel)",
   "language": "python",
   "name": "python3"
  },
  "language_info": {
   "codemirror_mode": {
    "name": "ipython",
    "version": 3
   },
   "file_extension": ".py",
   "mimetype": "text/x-python",
   "name": "python",
   "nbconvert_exporter": "python",
   "pygments_lexer": "ipython3",
   "version": "3.8.11"
  }
 },
 "nbformat": 4,
 "nbformat_minor": 5
}
