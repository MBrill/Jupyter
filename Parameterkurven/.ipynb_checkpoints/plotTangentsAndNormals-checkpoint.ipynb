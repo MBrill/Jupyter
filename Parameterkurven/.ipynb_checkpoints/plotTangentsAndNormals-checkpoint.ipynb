{
 "cells": [
  {
   "cell_type": "markdown",
   "id": "43ecd1c2-5373-477c-9510-4eed24d11250",
   "metadata": {},
   "source": [
    "# Grafische Darstellung der Tangenten und Normalen von ebenen Parameterkurven mit Python\n",
    "\n",
    "__Manfred Brill, Hochschule Kaiserslautern__\n",
    "\n",
    "Wir können mit Matplotlib natürlich auch Vektoren als Pfeil darstellen. Das nutzen wir, um Tangential- und Normalenvektoren\n",
    "einer ebenen Parameterkurve auszugeben.\n",
    "\n",
    "Als Beispiel verwenden wir hier die Zykloide.\n",
    "Neben der Parameterdarstellung dieser Parameterkurve implementieren wir eine Funktion, die für einen gegebenen Parameterwert t\n",
    "die Koordinaten des Punkte auf der Spur berechnet. Und eine weitere Funktionen, die entweder die Geschwindigkeit, die Tangente oder die Normale \n",
    "für einen Parameterwert berechnet."
   ]
  },
  {
   "cell_type": "code",
   "execution_count": 10,
   "id": "01444cdb-3ea0-4256-ae16-f027756c6692",
   "metadata": {},
   "outputs": [],
   "source": [
    "import numpy as np\n",
    "\n",
    "\n",
    "def cycloid(radius=1.0, a=0.0, b=2.0*np.pi, n=20):\n",
    "    \"\"\"\n",
    "    Zykloide\n",
    "\n",
    "    Parameters\n",
    "    ----------\n",
    "    radius : float\n",
    "        Radius des abrollenden Rads, Default ist 1.0.\n",
    "\n",
    "    Returns\n",
    "    -------\n",
    "    x : float\n",
    "        x-Koordinaten der Kurve für theta\n",
    "    y : float\n",
    "        y-Koordinaten der Kurve für theta.\n",
    "    \"\"\"\n",
    "    t = np.linspace(a, b, n)\n",
    "    x = radius*(t - np.sin(t))\n",
    "    y = radius*(1.0 - np.cos(t))\n",
    "    return x, y\n",
    "\n",
    "\n",
    "def cycloid_point(radius=1.0, theta=0.0):\n",
    "    \"\"\"\n",
    "    Zykloide\n",
    "\n",
    "    Parameters\n",
    "    ----------\n",
    "    radius : float\n",
    "        Radius des abrollenden Rads, default ist 1.0.\n",
    "    theta : float\n",
    "        Parameterwert für den Punkt auf der Zykloide\n",
    "\n",
    "    Returns\n",
    "    -------\n",
    "    x : float\n",
    "        x-Koordinate der Kurve für theta\n",
    "    y : float\n",
    "        y-Koordinate der Kurve für theta.\n",
    "\n",
    "    \"\"\"\n",
    "    point = np.array([0.0, 0.0])\n",
    "    point[0] = radius*(theta - np.sin(theta))\n",
    "    point[1] = radius*(1.0 - np.cos(theta))\n",
    "    return point\n",
    "\n",
    "\n",
    "def cycloid_velocity(radius=1.0, theta=0.0):\n",
    "    \"\"\"\n",
    "    Geschwindigkeit der Zykloide\n",
    "\n",
    "    Parameters\n",
    "    ----------\n",
    "    radius : float\n",
    "            Radius der Zykloide.\n",
    "    theta : float\n",
    "            Parameter.\n",
    "\n",
    "    Returns\n",
    "    -------\n",
    "    x : float\n",
    "        x-Koordiante der Tangente zum Parameter t.\n",
    "    y : float\n",
    "        y-Koordiante der Tangentezum Parameter t.\n",
    "\n",
    "    \"\"\"\n",
    "    tangent = np.array([0.0, 0.0])\n",
    "    tangent[0] = radius*(1.0-np.cos(theta))\n",
    "    tangent[1] = radius*np.sin(theta)\n",
    "    return tangent\n",
    "\n",
    "\n",
    "def cycloid_tangent(radius=1.0, theta=0.0):\n",
    "    \"\"\"\n",
    "    Geschwindigkeit der Zykloide\n",
    "\n",
    "    Parameters\n",
    "    ----------\n",
    "    radius : float\n",
    "            Radius der Zykloide.\n",
    "    theta : float\n",
    "            Parameter.\n",
    "\n",
    "    Returns\n",
    "    -------\n",
    "    x : float\n",
    "        x-Koordiante der Tangente zum Parameter t.\n",
    "    y : float\n",
    "        y-Koordiante der Tangentezum Parameter t.\n",
    "\n",
    "    \"\"\"\n",
    "    x = radius*(1.0-np.cos(theta))\n",
    "    y = radius*np.sin(theta)\n",
    "    return x, y\n",
    "\n",
    "\n",
    "def cycloid_normal(radius=1.0, theta=0.0):\n",
    "    \"\"\"\n",
    "    Geschwindigkeit der Zykloide\n",
    "\n",
    "    Parameters\n",
    "    ----------\n",
    "    radius : float\n",
    "            Radius der Zykloide.\n",
    "    theta : float\n",
    "            Parameter.\n",
    "\n",
    "    Returns\n",
    "    -------\n",
    "    x : float\n",
    "        x-Koordinate der Normale zum Parameter t.\n",
    "    y : float\n",
    "        y-Koordinate der Normale zum Parameter t.\n",
    "    \"\"\"\n",
    "    x = -radius*np.sin(theta)\n",
    "    y = radius*(1.0-np.cos(theta))\n",
    "    return x, y\n"
   ]
  },
  {
   "cell_type": "markdown",
   "id": "585c9819-86aa-4b8e-a12c-00ce20906e54",
   "metadata": {},
   "source": [
    "## Matplotlib\n",
    "Wenn wir Matplotlib verwenden benötigen wir natürlich einen entsprechenden import. Dann erzeugen wir die Punkte auf der ebenen Parameterkurve, die wir darstellen möchten und verwenden diese als Eingabe in die Funktion *plot*. Dabei können wir steuern ob wir nur die Punkte oder einen Polygonzug darstellen möchten. In der Vorlesung haben wir mit den Punkten begonnen, die wir auch in einer Wewrtetabelle berechnet hatten."
   ]
  },
  {
   "cell_type": "code",
   "execution_count": 2,
   "id": "aa3267ee-a54d-4ece-8c81-e9c070d0f2d5",
   "metadata": {},
   "outputs": [
    {
     "data": {
      "image/png": "[encoded data removed]",
      "text/plain": [
       "<Figure size 432x288 with 1 Axes>"
      ]
     },
     "metadata": {
      "needs_background": "light"
     },
     "output_type": "display_data"
    }
   ],
   "source": [
    "import matplotlib.pyplot as plt\n",
    "\n",
    "x, y = cycloid()\n",
    "\n",
    "fig = plt.figure()\n",
    "plt.plot(x, y, 'go', markersize=3.0)\n",
    "plt.title('Punkte auf der Zykloide')\n",
    "plt.xlabel('x')\n",
    "plt.ylabel('y')\n",
    "\n",
    "plt.show()"
   ]
  },
  {
   "cell_type": "markdown",
   "id": "45fc2b79-9bc0-49d0-bf8b-055ef123b8f5",
   "metadata": {},
   "source": [
    "Statt der Punkte einen Polygonzug auszugeben ist jetzt einfach. Wir verändern die Option für die Funktion *plt.plot*. Sinnvoll ist es sicher auch mehr Punkte zu berechnen, damit wir den Eindruck einer Parameterkurve erhalten und nicht nur einen groben Polygonzug zu sehen. Und wir geben mehrere Zyklen der Zykloide aus."
   ]
  },
  {
   "cell_type": "code",
   "execution_count": 3,
   "id": "55acd626-2ad3-42aa-9db9-b7538a4a8a43",
   "metadata": {},
   "outputs": [
    {
     "data": {
      "image/png": "[encoded data removed]",
      "text/plain": [
       "<Figure size 432x288 with 1 Axes>"
      ]
     },
     "metadata": {
      "needs_background": "light"
     },
     "output_type": "display_data"
    }
   ],
   "source": [
    "x, y = cycloid(n=200, b = 10.0*np.pi)\n",
    "\n",
    "fig = plt.figure()\n",
    "plt.plot(x, y, 'g-', markersize=3.0)\n",
    "plt.title('Die Zykloide')\n",
    "plt.xlabel('x')\n",
    "plt.ylabel('y')\n",
    "\n",
    "plt.show()"
   ]
  },
  {
   "cell_type": "markdown",
   "id": "b8f8aadb-242d-402a-af64-866b3a0a23b2",
   "metadata": {},
   "source": [
    "## Ausgabe von Vektoren mit arrow\n",
    "In Matplotlib gibt es die Funktion *arrow*, mit der wir Vektoren ausgeben können. Dazu übergeben wir den Anfangs- und den Endpunkt des Vektors."
   ]
  },
  {
   "cell_type": "code",
   "execution_count": 16,
   "id": "5b1dfac6-117e-42d3-8b9c-1184c8bd33ce",
   "metadata": {},
   "outputs": [
    {
     "name": "stdout",
     "output_type": "stream",
     "text": [
      "[0. 0.]\n",
      "(0.0, 0.0)\n"
     ]
    },
    {
     "data": {
      "image/png": "[encoded data removed]",
      "text/plain": [
       "<Figure size 432x288 with 1 Axes>"
      ]
     },
     "metadata": {
      "needs_background": "light"
     },
     "output_type": "display_data"
    }
   ],
   "source": [
    "poi = cycloid_point(theta=0.0)\n",
    "print(poi)\n",
    "t = cycloid_tangent()\n",
    "print(t)\n",
    "\n",
    "\n",
    "fig = plt.figure()\n",
    "plt.plot(x, y, 'go', markersize=3.0)\n",
    "plt.arrow(poi[0], poi[1], t[0], t[1])\n",
    "plt.title('Punkte auf der Zykloide')\n",
    "plt.xlabel('x')\n",
    "plt.ylabel('y')\n",
    "\n",
    "plt.show()"
   ]
  },
  {
   "cell_type": "code",
   "execution_count": null,
   "id": "cc3f0a8c-0232-49e4-bad6-ddc418488a4f",
   "metadata": {},
   "outputs": [],
   "source": []
  }
 ],
 "metadata": {
  "kernelspec": {
   "display_name": "Python 3 (ipykernel)",
   "language": "python",
   "name": "python3"
  },
  "language_info": {
   "codemirror_mode": {
    "name": "ipython",
    "version": 3
   },
   "file_extension": ".py",
   "mimetype": "text/x-python",
   "name": "python",
   "nbconvert_exporter": "python",
   "pygments_lexer": "ipython3",
   "version": "3.8.11"
  }
 },
 "nbformat": 4,
 "nbformat_minor": 5
}
