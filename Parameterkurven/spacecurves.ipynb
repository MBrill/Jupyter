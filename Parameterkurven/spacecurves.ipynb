{
 "cells": [
  {
   "cell_type": "markdown",
   "id": "182171df-6d3b-4521-855e-9479e8f21b06",
   "metadata": {},
   "source": [
    "# Raumkurven\n",
    "\n",
    "In Gray gibt es ab Seite 127 neben der Schraubenlinie noch eine ganze Reihe von Beispielen für Raumkurven, insbesondere Torusknoten.\n",
    "\n",
    "## Twisted Cubic\n",
    "Diese Raumkurve verwendet Gray als Motivation für den Frenet-Frame. Man kann diese Kurve durchaus als Verallgemeinerung der semikubischen Parabel ansehen.\n",
    "Sie ist definiert als \n",
    "\n",
    "$K(t) = (t, t^2, t^3)$.\n",
    "\n",
    "Auf Seite 19 findet man auch den Plot der Krümmung und der Torsion. Hier werden symbolische Rechnungen in Mathematica eingesetzt, das könnten wir\n",
    "in den Übungen auch mit Hilfe von SimPy durchführen.\n",
    "\n",
    "Für die Abbildung verwenden wir das Einheitsintervall als Parameterintervall."
   ]
  },
  {
   "cell_type": "code",
   "execution_count": 2,
   "id": "aa3267ee-a54d-4ece-8c81-e9c070d0f2d5",
   "metadata": {},
   "outputs": [
    {
     "data": {
      "application/vnd.plotly.v1+json": {
       "config": {
        "plotlyServerURL": "https://plot.ly"
       },
       "data": [
        {
         "line": {
          "color": "green",
          "width": 8
         },
         "mode": "lines",
         "name": "twicubic",
         "showlegend": false,
         "type": "scatter3d",
         "x": [
          0,
          0.04081632653061224,
          0.08163265306122448,
          0.12244897959183673,
          0.16326530612244897,
          0.2040816326530612,
          0.24489795918367346,
          0.2857142857142857,
          0.32653061224489793,
          0.36734693877551017,
          0.4081632653061224,
          0.44897959183673464,
          0.4897959183673469,
          0.5306122448979591,
          0.5714285714285714,
          0.6122448979591836,
          0.6530612244897959,
          0.6938775510204082,
          0.7346938775510203,
          0.7755102040816326,
          0.8163265306122448,
          0.8571428571428571,
          0.8979591836734693,
          0.9387755102040816,
          0.9795918367346939,
          1.0204081632653061,
          1.0612244897959182,
          1.1020408163265305,
          1.1428571428571428,
          1.183673469387755,
          1.2244897959183672,
          1.2653061224489794,
          1.3061224489795917,
          1.346938775510204,
          1.3877551020408163,
          1.4285714285714284,
          1.4693877551020407,
          1.510204081632653,
          1.5510204081632653,
          1.5918367346938773,
          1.6326530612244896,
          1.673469387755102,
          1.7142857142857142,
          1.7551020408163265,
          1.7959183673469385,
          1.8367346938775508,
          1.8775510204081631,
          1.9183673469387754,
          1.9591836734693877,
          2
         ],
         "y": [
          0,
          0.0016659725114535606,
          0.006663890045814243,
          0.014993752603082049,
          0.02665556018325697,
          0.041649312786339016,
          0.059975010412328195,
          0.08163265306122448,
          0.10662224073302788,
          0.13494377342773842,
          0.16659725114535606,
          0.20158267388588083,
          0.23990004164931278,
          0.2815493544356517,
          0.32653061224489793,
          0.3748438150770511,
          0.4264889629321115,
          0.4814660558100791,
          0.5397750937109537,
          0.6014160766347355,
          0.6663890045814242,
          0.7346938775510203,
          0.8063306955435233,
          0.8812994585589337,
          0.9596001665972511,
          1.0412328196584757,
          1.1261974177426068,
          1.2144939608496457,
          1.3061224489795917,
          1.4010828821324448,
          1.4993752603082044,
          1.6009995835068718,
          1.705955851728446,
          1.814244064972928,
          1.9258642232403165,
          2.040816326530612,
          2.1591003748438147,
          2.2807163681799247,
          2.405664306538942,
          2.5339441899208657,
          2.665556018325697,
          2.8004997917534356,
          2.9387755102040813,
          3.080383173677634,
          3.2253227821740933,
          3.3735943356934603,
          3.5251978342357346,
          3.680133277800916,
          3.8384006663890045,
          4
         ],
         "z": [
          0,
          6.799887801851267e-05,
          0.0005439910241481013,
          0.0018359697064998426,
          0.004351928193184811,
          0.008499859752314085,
          0.01468775765199874,
          0.02332361516034985,
          0.034815425545478486,
          0.04957118207549574,
          0.06799887801851268,
          0.09050650664264036,
          0.11750206121598993,
          0.14939353500667232,
          0.1865889212827988,
          0.22949621331248024,
          0.2785234043638279,
          0.33407848770495285,
          0.3965694566039659,
          0.46640430432897856,
          0.5439910241481014,
          0.629737609329446,
          0.7240520531411229,
          0.8273423488512438,
          0.9400164897279194,
          1.062482469039261,
          1.1951482800533786,
          1.3384219160383848,
          1.4927113702623904,
          1.658424635993506,
          1.835969706499842,
          2.025754575049511,
          2.228187234910623,
          2.4436756793512906,
          2.672627901639623,
          2.9154518950437307,
          3.1725556528317274,
          3.444347168271723,
          3.7312344346318285,
          4.033625445180153,
          4.351928193184811,
          4.6865506719139125,
          5.037900874635568,
          5.406386794617888,
          5.792416425128983,
          6.196397759436968,
          6.61873879080995,
          7.0598475125160425,
          7.520131917823355,
          8
         ]
        }
       ],
       "layout": {
        "autosize": false,
        "height": 800,
        "scene": {
         "camera": {
          "eye": {
           "z": 1.55
          }
         },
         "xaxis": {
          "visible": true
         },
         "yaxis": {
          "visible": true
         },
         "zaxis": {
          "visible": true
         }
        },
        "showlegend": false,
        "template": {
         "data": {
          "bar": [
           {
            "error_x": {
             "color": "#2a3f5f"
            },
            "error_y": {
             "color": "#2a3f5f"
            },
            "marker": {
             "line": {
              "color": "#E5ECF6",
              "width": 0.5
             },
             "pattern": {
              "fillmode": "overlay",
              "size": 10,
              "solidity": 0.2
             }
            },
            "type": "bar"
           }
          ],
          "barpolar": [
           {
            "marker": {
             "line": {
              "color": "#E5ECF6",
              "width": 0.5
             },
             "pattern": {
              "fillmode": "overlay",
              "size": 10,
              "solidity": 0.2
             }
            },
            "type": "barpolar"
           }
          ],
          "carpet": [
           {
            "aaxis": {
             "endlinecolor": "#2a3f5f",
             "gridcolor": "white",
             "linecolor": "white",
             "minorgridcolor": "white",
             "startlinecolor": "#2a3f5f"
            },
            "baxis": {
             "endlinecolor": "#2a3f5f",
             "gridcolor": "white",
             "linecolor": "white",
             "minorgridcolor": "white",
             "startlinecolor": "#2a3f5f"
            },
            "type": "carpet"
           }
          ],
          "choropleth": [
           {
            "colorbar": {
             "outlinewidth": 0,
             "ticks": ""
            },
            "type": "choropleth"
           }
          ],
          "contour": [
           {
            "colorbar": {
             "outlinewidth": 0,
             "ticks": ""
            },
            "colorscale": [
             [
              0,
              "#0d0887"
             ],
             [
              0.1111111111111111,
              "#46039f"
             ],
             [
              0.2222222222222222,
              "#7201a8"
             ],
             [
              0.3333333333333333,
              "#9c179e"
             ],
             [
              0.4444444444444444,
              "#bd3786"
             ],
             [
              0.5555555555555556,
              "#d8576b"
             ],
             [
              0.6666666666666666,
              "#ed7953"
             ],
             [
              0.7777777777777778,
              "#fb9f3a"
             ],
             [
              0.8888888888888888,
              "#fdca26"
             ],
             [
              1,
              "#f0f921"
             ]
            ],
            "type": "contour"
           }
          ],
          "contourcarpet": [
           {
            "colorbar": {
             "outlinewidth": 0,
             "ticks": ""
            },
            "type": "contourcarpet"
           }
          ],
          "heatmap": [
           {
            "colorbar": {
             "outlinewidth": 0,
             "ticks": ""
            },
            "colorscale": [
             [
              0,
              "#0d0887"
             ],
             [
              0.1111111111111111,
              "#46039f"
             ],
             [
              0.2222222222222222,
              "#7201a8"
             ],
             [
              0.3333333333333333,
              "#9c179e"
             ],
             [
              0.4444444444444444,
              "#bd3786"
             ],
             [
              0.5555555555555556,
              "#d8576b"
             ],
             [
              0.6666666666666666,
              "#ed7953"
             ],
             [
              0.7777777777777778,
              "#fb9f3a"
             ],
             [
              0.8888888888888888,
              "#fdca26"
             ],
             [
              1,
              "#f0f921"
             ]
            ],
            "type": "heatmap"
           }
          ],
          "heatmapgl": [
           {
            "colorbar": {
             "outlinewidth": 0,
             "ticks": ""
            },
            "colorscale": [
             [
              0,
              "#0d0887"
             ],
             [
              0.1111111111111111,
              "#46039f"
             ],
             [
              0.2222222222222222,
              "#7201a8"
             ],
             [
              0.3333333333333333,
              "#9c179e"
             ],
             [
              0.4444444444444444,
              "#bd3786"
             ],
             [
              0.5555555555555556,
              "#d8576b"
             ],
             [
              0.6666666666666666,
              "#ed7953"
             ],
             [
              0.7777777777777778,
              "#fb9f3a"
             ],
             [
              0.8888888888888888,
              "#fdca26"
             ],
             [
              1,
              "#f0f921"
             ]
            ],
            "type": "heatmapgl"
           }
          ],
          "histogram": [
           {
            "marker": {
             "pattern": {
              "fillmode": "overlay",
              "size": 10,
              "solidity": 0.2
             }
            },
            "type": "histogram"
           }
          ],
          "histogram2d": [
           {
            "colorbar": {
             "outlinewidth": 0,
             "ticks": ""
            },
            "colorscale": [
             [
              0,
              "#0d0887"
             ],
             [
              0.1111111111111111,
              "#46039f"
             ],
             [
              0.2222222222222222,
              "#7201a8"
             ],
             [
              0.3333333333333333,
              "#9c179e"
             ],
             [
              0.4444444444444444,
              "#bd3786"
             ],
             [
              0.5555555555555556,
              "#d8576b"
             ],
             [
              0.6666666666666666,
              "#ed7953"
             ],
             [
              0.7777777777777778,
              "#fb9f3a"
             ],
             [
              0.8888888888888888,
              "#fdca26"
             ],
             [
              1,
              "#f0f921"
             ]
            ],
            "type": "histogram2d"
           }
          ],
          "histogram2dcontour": [
           {
            "colorbar": {
             "outlinewidth": 0,
             "ticks": ""
            },
            "colorscale": [
             [
              0,
              "#0d0887"
             ],
             [
              0.1111111111111111,
              "#46039f"
             ],
             [
              0.2222222222222222,
              "#7201a8"
             ],
             [
              0.3333333333333333,
              "#9c179e"
             ],
             [
              0.4444444444444444,
              "#bd3786"
             ],
             [
              0.5555555555555556,
              "#d8576b"
             ],
             [
              0.6666666666666666,
              "#ed7953"
             ],
             [
              0.7777777777777778,
              "#fb9f3a"
             ],
             [
              0.8888888888888888,
              "#fdca26"
             ],
             [
              1,
              "#f0f921"
             ]
            ],
            "type": "histogram2dcontour"
           }
          ],
          "mesh3d": [
           {
            "colorbar": {
             "outlinewidth": 0,
             "ticks": ""
            },
            "type": "mesh3d"
           }
          ],
          "parcoords": [
           {
            "line": {
             "colorbar": {
              "outlinewidth": 0,
              "ticks": ""
             }
            },
            "type": "parcoords"
           }
          ],
          "pie": [
           {
            "automargin": true,
            "type": "pie"
           }
          ],
          "scatter": [
           {
            "marker": {
             "colorbar": {
              "outlinewidth": 0,
              "ticks": ""
             }
            },
            "type": "scatter"
           }
          ],
          "scatter3d": [
           {
            "line": {
             "colorbar": {
              "outlinewidth": 0,
              "ticks": ""
             }
            },
            "marker": {
             "colorbar": {
              "outlinewidth": 0,
              "ticks": ""
             }
            },
            "type": "scatter3d"
           }
          ],
          "scattercarpet": [
           {
            "marker": {
             "colorbar": {
              "outlinewidth": 0,
              "ticks": ""
             }
            },
            "type": "scattercarpet"
           }
          ],
          "scattergeo": [
           {
            "marker": {
             "colorbar": {
              "outlinewidth": 0,
              "ticks": ""
             }
            },
            "type": "scattergeo"
           }
          ],
          "scattergl": [
           {
            "marker": {
             "colorbar": {
              "outlinewidth": 0,
              "ticks": ""
             }
            },
            "type": "scattergl"
           }
          ],
          "scattermapbox": [
           {
            "marker": {
             "colorbar": {
              "outlinewidth": 0,
              "ticks": ""
             }
            },
            "type": "scattermapbox"
           }
          ],
          "scatterpolar": [
           {
            "marker": {
             "colorbar": {
              "outlinewidth": 0,
              "ticks": ""
             }
            },
            "type": "scatterpolar"
           }
          ],
          "scatterpolargl": [
           {
            "marker": {
             "colorbar": {
              "outlinewidth": 0,
              "ticks": ""
             }
            },
            "type": "scatterpolargl"
           }
          ],
          "scatterternary": [
           {
            "marker": {
             "colorbar": {
              "outlinewidth": 0,
              "ticks": ""
             }
            },
            "type": "scatterternary"
           }
          ],
          "surface": [
           {
            "colorbar": {
             "outlinewidth": 0,
             "ticks": ""
            },
            "colorscale": [
             [
              0,
              "#0d0887"
             ],
             [
              0.1111111111111111,
              "#46039f"
             ],
             [
              0.2222222222222222,
              "#7201a8"
             ],
             [
              0.3333333333333333,
              "#9c179e"
             ],
             [
              0.4444444444444444,
              "#bd3786"
             ],
             [
              0.5555555555555556,
              "#d8576b"
             ],
             [
              0.6666666666666666,
              "#ed7953"
             ],
             [
              0.7777777777777778,
              "#fb9f3a"
             ],
             [
              0.8888888888888888,
              "#fdca26"
             ],
             [
              1,
              "#f0f921"
             ]
            ],
            "type": "surface"
           }
          ],
          "table": [
           {
            "cells": {
             "fill": {
              "color": "#EBF0F8"
             },
             "line": {
              "color": "white"
             }
            },
            "header": {
             "fill": {
              "color": "#C8D4E3"
             },
             "line": {
              "color": "white"
             }
            },
            "type": "table"
           }
          ]
         },
         "layout": {
          "annotationdefaults": {
           "arrowcolor": "#2a3f5f",
           "arrowhead": 0,
           "arrowwidth": 1
          },
          "autotypenumbers": "strict",
          "coloraxis": {
           "colorbar": {
            "outlinewidth": 0,
            "ticks": ""
           }
          },
          "colorscale": {
           "diverging": [
            [
             0,
             "#8e0152"
            ],
            [
             0.1,
             "#c51b7d"
            ],
            [
             0.2,
             "#de77ae"
            ],
            [
             0.3,
             "#f1b6da"
            ],
            [
             0.4,
             "#fde0ef"
            ],
            [
             0.5,
             "#f7f7f7"
            ],
            [
             0.6,
             "#e6f5d0"
            ],
            [
             0.7,
             "#b8e186"
            ],
            [
             0.8,
             "#7fbc41"
            ],
            [
             0.9,
             "#4d9221"
            ],
            [
             1,
             "#276419"
            ]
           ],
           "sequential": [
            [
             0,
             "#0d0887"
            ],
            [
             0.1111111111111111,
             "#46039f"
            ],
            [
             0.2222222222222222,
             "#7201a8"
            ],
            [
             0.3333333333333333,
             "#9c179e"
            ],
            [
             0.4444444444444444,
             "#bd3786"
            ],
            [
             0.5555555555555556,
             "#d8576b"
            ],
            [
             0.6666666666666666,
             "#ed7953"
            ],
            [
             0.7777777777777778,
             "#fb9f3a"
            ],
            [
             0.8888888888888888,
             "#fdca26"
            ],
            [
             1,
             "#f0f921"
            ]
           ],
           "sequentialminus": [
            [
             0,
             "#0d0887"
            ],
            [
             0.1111111111111111,
             "#46039f"
            ],
            [
             0.2222222222222222,
             "#7201a8"
            ],
            [
             0.3333333333333333,
             "#9c179e"
            ],
            [
             0.4444444444444444,
             "#bd3786"
            ],
            [
             0.5555555555555556,
             "#d8576b"
            ],
            [
             0.6666666666666666,
             "#ed7953"
            ],
            [
             0.7777777777777778,
             "#fb9f3a"
            ],
            [
             0.8888888888888888,
             "#fdca26"
            ],
            [
             1,
             "#f0f921"
            ]
           ]
          },
          "colorway": [
           "#636efa",
           "#EF553B",
           "#00cc96",
           "#ab63fa",
           "#FFA15A",
           "#19d3f3",
           "#FF6692",
           "#B6E880",
           "#FF97FF",
           "#FECB52"
          ],
          "font": {
           "color": "#2a3f5f"
          },
          "geo": {
           "bgcolor": "white",
           "lakecolor": "white",
           "landcolor": "#E5ECF6",
           "showlakes": true,
           "showland": true,
           "subunitcolor": "white"
          },
          "hoverlabel": {
           "align": "left"
          },
          "hovermode": "closest",
          "mapbox": {
           "style": "light"
          },
          "paper_bgcolor": "white",
          "plot_bgcolor": "#E5ECF6",
          "polar": {
           "angularaxis": {
            "gridcolor": "white",
            "linecolor": "white",
            "ticks": ""
           },
           "bgcolor": "#E5ECF6",
           "radialaxis": {
            "gridcolor": "white",
            "linecolor": "white",
            "ticks": ""
           }
          },
          "scene": {
           "xaxis": {
            "backgroundcolor": "#E5ECF6",
            "gridcolor": "white",
            "gridwidth": 2,
            "linecolor": "white",
            "showbackground": true,
            "ticks": "",
            "zerolinecolor": "white"
           },
           "yaxis": {
            "backgroundcolor": "#E5ECF6",
            "gridcolor": "white",
            "gridwidth": 2,
            "linecolor": "white",
            "showbackground": true,
            "ticks": "",
            "zerolinecolor": "white"
           },
           "zaxis": {
            "backgroundcolor": "#E5ECF6",
            "gridcolor": "white",
            "gridwidth": 2,
            "linecolor": "white",
            "showbackground": true,
            "ticks": "",
            "zerolinecolor": "white"
           }
          },
          "shapedefaults": {
           "line": {
            "color": "#2a3f5f"
           }
          },
          "ternary": {
           "aaxis": {
            "gridcolor": "white",
            "linecolor": "white",
            "ticks": ""
           },
           "baxis": {
            "gridcolor": "white",
            "linecolor": "white",
            "ticks": ""
           },
           "bgcolor": "#E5ECF6",
           "caxis": {
            "gridcolor": "white",
            "linecolor": "white",
            "ticks": ""
           }
          },
          "title": {
           "x": 0.05
          },
          "xaxis": {
           "automargin": true,
           "gridcolor": "white",
           "linecolor": "white",
           "ticks": "",
           "title": {
            "standoff": 15
           },
           "zerolinecolor": "white",
           "zerolinewidth": 2
          },
          "yaxis": {
           "automargin": true,
           "gridcolor": "white",
           "linecolor": "white",
           "ticks": "",
           "title": {
            "standoff": 15
           },
           "zerolinecolor": "white",
           "zerolinewidth": 2
          }
         }
        },
        "title": {
         "text": "Getwistete Kubik",
         "x": 0.5
        },
        "width": 800
       }
      },
      "text/html": [
       "<div>                            <div id=\"1cd3072e-3997-47a6-a9eb-771639a7ab00\" class=\"plotly-graph-div\" style=\"height:800px; width:800px;\"></div>            <script type=\"text/javascript\">                require([\"plotly\"], function(Plotly) {                    window.PLOTLYENV=window.PLOTLYENV || {};                                    if (document.getElementById(\"1cd3072e-3997-47a6-a9eb-771639a7ab00\")) {                    Plotly.newPlot(                        \"1cd3072e-3997-47a6-a9eb-771639a7ab00\",                        [{\"line\":{\"color\":\"green\",\"width\":8},\"mode\":\"lines\",\"name\":\"twicubic\",\"showlegend\":false,\"type\":\"scatter3d\",\"x\":[0.0,0.04081632653061224,0.08163265306122448,0.12244897959183673,0.16326530612244897,0.2040816326530612,0.24489795918367346,0.2857142857142857,0.32653061224489793,0.36734693877551017,0.4081632653061224,0.44897959183673464,0.4897959183673469,0.5306122448979591,0.5714285714285714,0.6122448979591836,0.6530612244897959,0.6938775510204082,0.7346938775510203,0.7755102040816326,0.8163265306122448,0.8571428571428571,0.8979591836734693,0.9387755102040816,0.9795918367346939,1.0204081632653061,1.0612244897959182,1.1020408163265305,1.1428571428571428,1.183673469387755,1.2244897959183672,1.2653061224489794,1.3061224489795917,1.346938775510204,1.3877551020408163,1.4285714285714284,1.4693877551020407,1.510204081632653,1.5510204081632653,1.5918367346938773,1.6326530612244896,1.673469387755102,1.7142857142857142,1.7551020408163265,1.7959183673469385,1.8367346938775508,1.8775510204081631,1.9183673469387754,1.9591836734693877,2.0],\"y\":[0.0,0.0016659725114535606,0.006663890045814243,0.014993752603082049,0.02665556018325697,0.041649312786339016,0.059975010412328195,0.08163265306122448,0.10662224073302788,0.13494377342773842,0.16659725114535606,0.20158267388588083,0.23990004164931278,0.2815493544356517,0.32653061224489793,0.3748438150770511,0.4264889629321115,0.4814660558100791,0.5397750937109537,0.6014160766347355,0.6663890045814242,0.7346938775510203,0.8063306955435233,0.8812994585589337,0.9596001665972511,1.0412328196584757,1.1261974177426068,1.2144939608496457,1.3061224489795917,1.4010828821324448,1.4993752603082044,1.6009995835068718,1.705955851728446,1.814244064972928,1.9258642232403165,2.040816326530612,2.1591003748438147,2.2807163681799247,2.405664306538942,2.5339441899208657,2.665556018325697,2.8004997917534356,2.9387755102040813,3.080383173677634,3.2253227821740933,3.3735943356934603,3.5251978342357346,3.680133277800916,3.8384006663890045,4.0],\"z\":[0.0,6.799887801851267e-05,0.0005439910241481013,0.0018359697064998426,0.004351928193184811,0.008499859752314085,0.01468775765199874,0.02332361516034985,0.034815425545478486,0.04957118207549574,0.06799887801851268,0.09050650664264036,0.11750206121598993,0.14939353500667232,0.1865889212827988,0.22949621331248024,0.2785234043638279,0.33407848770495285,0.3965694566039659,0.46640430432897856,0.5439910241481014,0.629737609329446,0.7240520531411229,0.8273423488512438,0.9400164897279194,1.062482469039261,1.1951482800533786,1.3384219160383848,1.4927113702623904,1.658424635993506,1.835969706499842,2.025754575049511,2.228187234910623,2.4436756793512906,2.672627901639623,2.9154518950437307,3.1725556528317274,3.444347168271723,3.7312344346318285,4.033625445180153,4.351928193184811,4.6865506719139125,5.037900874635568,5.406386794617888,5.792416425128983,6.196397759436968,6.61873879080995,7.0598475125160425,7.520131917823355,8.0]}],                        {\"autosize\":false,\"height\":800,\"scene\":{\"camera\":{\"eye\":{\"z\":1.55}},\"xaxis\":{\"visible\":true},\"yaxis\":{\"visible\":true},\"zaxis\":{\"visible\":true}},\"showlegend\":false,\"template\":{\"data\":{\"bar\":[{\"error_x\":{\"color\":\"#2a3f5f\"},\"error_y\":{\"color\":\"#2a3f5f\"},\"marker\":{\"line\":{\"color\":\"#E5ECF6\",\"width\":0.5},\"pattern\":{\"fillmode\":\"overlay\",\"size\":10,\"solidity\":0.2}},\"type\":\"bar\"}],\"barpolar\":[{\"marker\":{\"line\":{\"color\":\"#E5ECF6\",\"width\":0.5},\"pattern\":{\"fillmode\":\"overlay\",\"size\":10,\"solidity\":0.2}},\"type\":\"barpolar\"}],\"carpet\":[{\"aaxis\":{\"endlinecolor\":\"#2a3f5f\",\"gridcolor\":\"white\",\"linecolor\":\"white\",\"minorgridcolor\":\"white\",\"startlinecolor\":\"#2a3f5f\"},\"baxis\":{\"endlinecolor\":\"#2a3f5f\",\"gridcolor\":\"white\",\"linecolor\":\"white\",\"minorgridcolor\":\"white\",\"startlinecolor\":\"#2a3f5f\"},\"type\":\"carpet\"}],\"choropleth\":[{\"colorbar\":{\"outlinewidth\":0,\"ticks\":\"\"},\"type\":\"choropleth\"}],\"contour\":[{\"colorbar\":{\"outlinewidth\":0,\"ticks\":\"\"},\"colorscale\":[[0.0,\"#0d0887\"],[0.1111111111111111,\"#46039f\"],[0.2222222222222222,\"#7201a8\"],[0.3333333333333333,\"#9c179e\"],[0.4444444444444444,\"#bd3786\"],[0.5555555555555556,\"#d8576b\"],[0.6666666666666666,\"#ed7953\"],[0.7777777777777778,\"#fb9f3a\"],[0.8888888888888888,\"#fdca26\"],[1.0,\"#f0f921\"]],\"type\":\"contour\"}],\"contourcarpet\":[{\"colorbar\":{\"outlinewidth\":0,\"ticks\":\"\"},\"type\":\"contourcarpet\"}],\"heatmap\":[{\"colorbar\":{\"outlinewidth\":0,\"ticks\":\"\"},\"colorscale\":[[0.0,\"#0d0887\"],[0.1111111111111111,\"#46039f\"],[0.2222222222222222,\"#7201a8\"],[0.3333333333333333,\"#9c179e\"],[0.4444444444444444,\"#bd3786\"],[0.5555555555555556,\"#d8576b\"],[0.6666666666666666,\"#ed7953\"],[0.7777777777777778,\"#fb9f3a\"],[0.8888888888888888,\"#fdca26\"],[1.0,\"#f0f921\"]],\"type\":\"heatmap\"}],\"heatmapgl\":[{\"colorbar\":{\"outlinewidth\":0,\"ticks\":\"\"},\"colorscale\":[[0.0,\"#0d0887\"],[0.1111111111111111,\"#46039f\"],[0.2222222222222222,\"#7201a8\"],[0.3333333333333333,\"#9c179e\"],[0.4444444444444444,\"#bd3786\"],[0.5555555555555556,\"#d8576b\"],[0.6666666666666666,\"#ed7953\"],[0.7777777777777778,\"#fb9f3a\"],[0.8888888888888888,\"#fdca26\"],[1.0,\"#f0f921\"]],\"type\":\"heatmapgl\"}],\"histogram\":[{\"marker\":{\"pattern\":{\"fillmode\":\"overlay\",\"size\":10,\"solidity\":0.2}},\"type\":\"histogram\"}],\"histogram2d\":[{\"colorbar\":{\"outlinewidth\":0,\"ticks\":\"\"},\"colorscale\":[[0.0,\"#0d0887\"],[0.1111111111111111,\"#46039f\"],[0.2222222222222222,\"#7201a8\"],[0.3333333333333333,\"#9c179e\"],[0.4444444444444444,\"#bd3786\"],[0.5555555555555556,\"#d8576b\"],[0.6666666666666666,\"#ed7953\"],[0.7777777777777778,\"#fb9f3a\"],[0.8888888888888888,\"#fdca26\"],[1.0,\"#f0f921\"]],\"type\":\"histogram2d\"}],\"histogram2dcontour\":[{\"colorbar\":{\"outlinewidth\":0,\"ticks\":\"\"},\"colorscale\":[[0.0,\"#0d0887\"],[0.1111111111111111,\"#46039f\"],[0.2222222222222222,\"#7201a8\"],[0.3333333333333333,\"#9c179e\"],[0.4444444444444444,\"#bd3786\"],[0.5555555555555556,\"#d8576b\"],[0.6666666666666666,\"#ed7953\"],[0.7777777777777778,\"#fb9f3a\"],[0.8888888888888888,\"#fdca26\"],[1.0,\"#f0f921\"]],\"type\":\"histogram2dcontour\"}],\"mesh3d\":[{\"colorbar\":{\"outlinewidth\":0,\"ticks\":\"\"},\"type\":\"mesh3d\"}],\"parcoords\":[{\"line\":{\"colorbar\":{\"outlinewidth\":0,\"ticks\":\"\"}},\"type\":\"parcoords\"}],\"pie\":[{\"automargin\":true,\"type\":\"pie\"}],\"scatter\":[{\"marker\":{\"colorbar\":{\"outlinewidth\":0,\"ticks\":\"\"}},\"type\":\"scatter\"}],\"scatter3d\":[{\"line\":{\"colorbar\":{\"outlinewidth\":0,\"ticks\":\"\"}},\"marker\":{\"colorbar\":{\"outlinewidth\":0,\"ticks\":\"\"}},\"type\":\"scatter3d\"}],\"scattercarpet\":[{\"marker\":{\"colorbar\":{\"outlinewidth\":0,\"ticks\":\"\"}},\"type\":\"scattercarpet\"}],\"scattergeo\":[{\"marker\":{\"colorbar\":{\"outlinewidth\":0,\"ticks\":\"\"}},\"type\":\"scattergeo\"}],\"scattergl\":[{\"marker\":{\"colorbar\":{\"outlinewidth\":0,\"ticks\":\"\"}},\"type\":\"scattergl\"}],\"scattermapbox\":[{\"marker\":{\"colorbar\":{\"outlinewidth\":0,\"ticks\":\"\"}},\"type\":\"scattermapbox\"}],\"scatterpolar\":[{\"marker\":{\"colorbar\":{\"outlinewidth\":0,\"ticks\":\"\"}},\"type\":\"scatterpolar\"}],\"scatterpolargl\":[{\"marker\":{\"colorbar\":{\"outlinewidth\":0,\"ticks\":\"\"}},\"type\":\"scatterpolargl\"}],\"scatterternary\":[{\"marker\":{\"colorbar\":{\"outlinewidth\":0,\"ticks\":\"\"}},\"type\":\"scatterternary\"}],\"surface\":[{\"colorbar\":{\"outlinewidth\":0,\"ticks\":\"\"},\"colorscale\":[[0.0,\"#0d0887\"],[0.1111111111111111,\"#46039f\"],[0.2222222222222222,\"#7201a8\"],[0.3333333333333333,\"#9c179e\"],[0.4444444444444444,\"#bd3786\"],[0.5555555555555556,\"#d8576b\"],[0.6666666666666666,\"#ed7953\"],[0.7777777777777778,\"#fb9f3a\"],[0.8888888888888888,\"#fdca26\"],[1.0,\"#f0f921\"]],\"type\":\"surface\"}],\"table\":[{\"cells\":{\"fill\":{\"color\":\"#EBF0F8\"},\"line\":{\"color\":\"white\"}},\"header\":{\"fill\":{\"color\":\"#C8D4E3\"},\"line\":{\"color\":\"white\"}},\"type\":\"table\"}]},\"layout\":{\"annotationdefaults\":{\"arrowcolor\":\"#2a3f5f\",\"arrowhead\":0,\"arrowwidth\":1},\"autotypenumbers\":\"strict\",\"coloraxis\":{\"colorbar\":{\"outlinewidth\":0,\"ticks\":\"\"}},\"colorscale\":{\"diverging\":[[0,\"#8e0152\"],[0.1,\"#c51b7d\"],[0.2,\"#de77ae\"],[0.3,\"#f1b6da\"],[0.4,\"#fde0ef\"],[0.5,\"#f7f7f7\"],[0.6,\"#e6f5d0\"],[0.7,\"#b8e186\"],[0.8,\"#7fbc41\"],[0.9,\"#4d9221\"],[1,\"#276419\"]],\"sequential\":[[0.0,\"#0d0887\"],[0.1111111111111111,\"#46039f\"],[0.2222222222222222,\"#7201a8\"],[0.3333333333333333,\"#9c179e\"],[0.4444444444444444,\"#bd3786\"],[0.5555555555555556,\"#d8576b\"],[0.6666666666666666,\"#ed7953\"],[0.7777777777777778,\"#fb9f3a\"],[0.8888888888888888,\"#fdca26\"],[1.0,\"#f0f921\"]],\"sequentialminus\":[[0.0,\"#0d0887\"],[0.1111111111111111,\"#46039f\"],[0.2222222222222222,\"#7201a8\"],[0.3333333333333333,\"#9c179e\"],[0.4444444444444444,\"#bd3786\"],[0.5555555555555556,\"#d8576b\"],[0.6666666666666666,\"#ed7953\"],[0.7777777777777778,\"#fb9f3a\"],[0.8888888888888888,\"#fdca26\"],[1.0,\"#f0f921\"]]},\"colorway\":[\"#636efa\",\"#EF553B\",\"#00cc96\",\"#ab63fa\",\"#FFA15A\",\"#19d3f3\",\"#FF6692\",\"#B6E880\",\"#FF97FF\",\"#FECB52\"],\"font\":{\"color\":\"#2a3f5f\"},\"geo\":{\"bgcolor\":\"white\",\"lakecolor\":\"white\",\"landcolor\":\"#E5ECF6\",\"showlakes\":true,\"showland\":true,\"subunitcolor\":\"white\"},\"hoverlabel\":{\"align\":\"left\"},\"hovermode\":\"closest\",\"mapbox\":{\"style\":\"light\"},\"paper_bgcolor\":\"white\",\"plot_bgcolor\":\"#E5ECF6\",\"polar\":{\"angularaxis\":{\"gridcolor\":\"white\",\"linecolor\":\"white\",\"ticks\":\"\"},\"bgcolor\":\"#E5ECF6\",\"radialaxis\":{\"gridcolor\":\"white\",\"linecolor\":\"white\",\"ticks\":\"\"}},\"scene\":{\"xaxis\":{\"backgroundcolor\":\"#E5ECF6\",\"gridcolor\":\"white\",\"gridwidth\":2,\"linecolor\":\"white\",\"showbackground\":true,\"ticks\":\"\",\"zerolinecolor\":\"white\"},\"yaxis\":{\"backgroundcolor\":\"#E5ECF6\",\"gridcolor\":\"white\",\"gridwidth\":2,\"linecolor\":\"white\",\"showbackground\":true,\"ticks\":\"\",\"zerolinecolor\":\"white\"},\"zaxis\":{\"backgroundcolor\":\"#E5ECF6\",\"gridcolor\":\"white\",\"gridwidth\":2,\"linecolor\":\"white\",\"showbackground\":true,\"ticks\":\"\",\"zerolinecolor\":\"white\"}},\"shapedefaults\":{\"line\":{\"color\":\"#2a3f5f\"}},\"ternary\":{\"aaxis\":{\"gridcolor\":\"white\",\"linecolor\":\"white\",\"ticks\":\"\"},\"baxis\":{\"gridcolor\":\"white\",\"linecolor\":\"white\",\"ticks\":\"\"},\"bgcolor\":\"#E5ECF6\",\"caxis\":{\"gridcolor\":\"white\",\"linecolor\":\"white\",\"ticks\":\"\"}},\"title\":{\"x\":0.05},\"xaxis\":{\"automargin\":true,\"gridcolor\":\"white\",\"linecolor\":\"white\",\"ticks\":\"\",\"title\":{\"standoff\":15},\"zerolinecolor\":\"white\",\"zerolinewidth\":2},\"yaxis\":{\"automargin\":true,\"gridcolor\":\"white\",\"linecolor\":\"white\",\"ticks\":\"\",\"title\":{\"standoff\":15},\"zerolinecolor\":\"white\",\"zerolinewidth\":2}}},\"title\":{\"text\":\"Getwistete Kubik\",\"x\":0.5},\"width\":800},                        {\"responsive\": true}                    ).then(function(){\n",
       "                            \n",
       "var gd = document.getElementById('1cd3072e-3997-47a6-a9eb-771639a7ab00');\n",
       "var x = new MutationObserver(function (mutations, observer) {{\n",
       "        var display = window.getComputedStyle(gd).display;\n",
       "        if (!display || display === 'none') {{\n",
       "            console.log([gd, 'removed!']);\n",
       "            Plotly.purge(gd);\n",
       "            observer.disconnect();\n",
       "        }}\n",
       "}});\n",
       "\n",
       "// Listen for the removal of the full notebook cells\n",
       "var notebookContainer = gd.closest('#notebook-container');\n",
       "if (notebookContainer) {{\n",
       "    x.observe(notebookContainer, {childList: true});\n",
       "}}\n",
       "\n",
       "// Listen for the clearing of the current output cell\n",
       "var outputEl = gd.closest('.output');\n",
       "if (outputEl) {{\n",
       "    x.observe(outputEl, {childList: true});\n",
       "}}\n",
       "\n",
       "                        })                };                });            </script>        </div>"
      ]
     },
     "metadata": {},
     "output_type": "display_data"
    }
   ],
   "source": [
    "import plotly.graph_objects as go\n",
    "import numpy as np\n",
    "\n",
    "\n",
    "t = np.linspace(0.0, 2.0, num=50)\n",
    "x, y, z = t, t*t, t*t*t\n",
    "\n",
    "twicubic = go.Scatter3d(x=x, y=y, z=z,\n",
    "                     name='twicubic',\n",
    "                     mode='lines',\n",
    "                     line = dict(color='green', width=8),\n",
    "                     showlegend=False)\n",
    "\n",
    "layout = go.Layout(scene_xaxis_visible=True, \n",
    "                   scene_yaxis_visible=True, \n",
    "                   scene_zaxis_visible=True,\n",
    "                   showlegend=False)\n",
    "\n",
    "fig =  go.Figure(data=[twicubic], layout=layout)\n",
    "\n",
    "fig.update_layout(title='Getwistete Kubik',\n",
    "                  title_x=0.5,\n",
    "                  scene_camera_eye_z=1.55,\n",
    "                  autosize=False,\n",
    "                  width=800,\n",
    "                  height=800,\n",
    "                  showlegend=False)\n",
    "                  \n",
    "fig.show()"
   ]
  },
  {
   "cell_type": "markdown",
   "id": "45fc2b79-9bc0-49d0-bf8b-055ef123b8f5",
   "metadata": {},
   "source": [
    "## Vivianische Kurve\n",
    "Eine Vivianische Kurve beschreibt den Durchschnitt eines Zylinders mit Radius a und einer Kurgel mit Radius a. Sie ist mit dem Parameter a gegeben durch\n",
    "\n",
    "$viviani(t) = a(1 + cos(t), sin(t), 2 sin(t/2)$\n",
    "\n",
    "Gray erstellt eine grafische Ausgabe mit a=1, in der auch die Kugel sichtbar wird. Wir erstellen zwei Abbildungen, einmal die Vivianische Kurve allein, \n",
    "und dann die Umrisse der Kugel so wie in Gray."
   ]
  },
  {
   "cell_type": "code",
   "execution_count": 3,
   "id": "62118278-8fee-4021-b304-e124f6676c2e",
   "metadata": {},
   "outputs": [
    {
     "data": {
      "application/vnd.plotly.v1+json": {
       "config": {
        "plotlyServerURL": "https://plot.ly"
       },
       "data": [
        {
         "line": {
          "color": "green",
          "width": 8
         },
         "mode": "lines",
         "name": "viviani",
         "showlegend": false,
         "type": "scatter3d",
         "x": [
          2,
          1.9979453927503363,
          1.991790013823246,
          1.9815591569910653,
          1.9672948630390295,
          1.9490557470106686,
          1.9269167573460217,
          1.900968867902419,
          1.8713187041233894,
          1.8380881048918407,
          1.8014136218679568,
          1.7614459583691344,
          1.7183493500977276,
          1.672300890261317,
          1.6234898018587336,
          1.5721166601221697,
          1.5183925683105253,
          1.4625382902408353,
          1.404783343122394,
          1.3453650544213078,
          1.2845275866310326,
          1.2225209339563143,
          1.1595998950333792,
          1.096023025907682,
          1.0320515775716554,
          0.967948422428345,
          0.9039769740923185,
          0.840400104966621,
          0.7774790660436857,
          0.7154724133689676,
          0.6546349455786925,
          0.5952166568776063,
          0.537461709759165,
          0.48160743168947495,
          0.42788333987783056,
          0.3765101981412665,
          0.32769910973868344,
          0.2816506499022725,
          0.2385540416308658,
          0.1985863781320435,
          0.16191189510815962,
          0.1286812958766108,
          0.09903113209758097,
          0.07308324265397836,
          0.05094425298933136,
          0.03270513696097066,
          0.01844084300893467,
          0.008209986176753947,
          0.0020546072496636647,
          0
         ],
         "y": [
          0,
          0.06407021998071291,
          0.127877161684506,
          0.1911586287013723,
          0.25365458390950735,
          0.31510821802362066,
          0.3752670048793741,
          0.4338837391175581,
          0.49071755200393785,
          0.5455349012105486,
          0.5981105304912159,
          0.6482283953077883,
          0.6956825506034864,
          0.7402779970753155,
          0.7818314824680298,
          0.8201722545969559,
          0.8551427630053461,
          0.886599306373,
          0.9144126230158124,
          0.9384684220497603,
          0.9586678530366606,
          0.9749279121818236,
          0.9871817834144501,
          0.9953791129491982,
          0.9994862162006879,
          0.9994862162006879,
          0.9953791129491982,
          0.9871817834144502,
          0.9749279121818236,
          0.9586678530366607,
          0.9384684220497604,
          0.9144126230158125,
          0.8865993063730001,
          0.8551427630053462,
          0.820172254596956,
          0.7818314824680299,
          0.7402779970753157,
          0.6956825506034865,
          0.6482283953077888,
          0.5981105304912161,
          0.545534901210549,
          0.49071755200393813,
          0.43388373911755823,
          0.3752670048793745,
          0.3151082180236209,
          0.2536545839095078,
          0.19115862870137254,
          0.1278771616845065,
          0.06407021998071323,
          1.2246467991473532e-16
         ],
         "z": [
          0,
          0.06410315514331034,
          0.12814043996142582,
          0.1920460518153635,
          0.255754323369012,
          0.31919979006675836,
          0.3823172574027446,
          0.4450418679126288,
          0.5073091678190147,
          0.5690551732620648,
          0.6302164360472413,
          0.6907301088426152,
          0.7505340097587482,
          0.8095666862447876,
          0.8677674782351162,
          0.9250765804816705,
          0.9814351040078757,
          1.0367851366210499,
          1.0910698024210972,
          1.144233320244339,
          1.1962210609824317,
          1.246979603717467,
          1.2964567906155766,
          1.3446017805226336,
          1.3913651012069728,
          1.436698700195455,
          1.480555994150631,
          1.5228919167382686,
          1.5636629649360596,
          1.6028272437359132,
          1.6403445091939117,
          1.6761762097836812,
          1.7102855260106922,
          1.7426374082467788,
          1.773198612746,
          1.8019377358048383,
          1.8288252460316248,
          1.8538335146920435,
          1.8769368440995207,
          1.8981114940213373,
          1.9173357060733212,
          1.9345897260780587,
          1.9498558243636472,
          1.9631183139821307,
          1.9743635668289001,
          1.983580027646492,
          1.9907582258983965,
          1.9958907855006727,
          1.9989724324013758,
          2
         ]
        }
       ],
       "layout": {
        "autosize": false,
        "height": 800,
        "scene": {
         "camera": {
          "eye": {
           "z": 1.55
          }
         },
         "xaxis": {
          "visible": true
         },
         "yaxis": {
          "visible": true
         },
         "zaxis": {
          "visible": true
         }
        },
        "showlegend": false,
        "template": {
         "data": {
          "bar": [
           {
            "error_x": {
             "color": "#2a3f5f"
            },
            "error_y": {
             "color": "#2a3f5f"
            },
            "marker": {
             "line": {
              "color": "#E5ECF6",
              "width": 0.5
             },
             "pattern": {
              "fillmode": "overlay",
              "size": 10,
              "solidity": 0.2
             }
            },
            "type": "bar"
           }
          ],
          "barpolar": [
           {
            "marker": {
             "line": {
              "color": "#E5ECF6",
              "width": 0.5
             },
             "pattern": {
              "fillmode": "overlay",
              "size": 10,
              "solidity": 0.2
             }
            },
            "type": "barpolar"
           }
          ],
          "carpet": [
           {
            "aaxis": {
             "endlinecolor": "#2a3f5f",
             "gridcolor": "white",
             "linecolor": "white",
             "minorgridcolor": "white",
             "startlinecolor": "#2a3f5f"
            },
            "baxis": {
             "endlinecolor": "#2a3f5f",
             "gridcolor": "white",
             "linecolor": "white",
             "minorgridcolor": "white",
             "startlinecolor": "#2a3f5f"
            },
            "type": "carpet"
           }
          ],
          "choropleth": [
           {
            "colorbar": {
             "outlinewidth": 0,
             "ticks": ""
            },
            "type": "choropleth"
           }
          ],
          "contour": [
           {
            "colorbar": {
             "outlinewidth": 0,
             "ticks": ""
            },
            "colorscale": [
             [
              0,
              "#0d0887"
             ],
             [
              0.1111111111111111,
              "#46039f"
             ],
             [
              0.2222222222222222,
              "#7201a8"
             ],
             [
              0.3333333333333333,
              "#9c179e"
             ],
             [
              0.4444444444444444,
              "#bd3786"
             ],
             [
              0.5555555555555556,
              "#d8576b"
             ],
             [
              0.6666666666666666,
              "#ed7953"
             ],
             [
              0.7777777777777778,
              "#fb9f3a"
             ],
             [
              0.8888888888888888,
              "#fdca26"
             ],
             [
              1,
              "#f0f921"
             ]
            ],
            "type": "contour"
           }
          ],
          "contourcarpet": [
           {
            "colorbar": {
             "outlinewidth": 0,
             "ticks": ""
            },
            "type": "contourcarpet"
           }
          ],
          "heatmap": [
           {
            "colorbar": {
             "outlinewidth": 0,
             "ticks": ""
            },
            "colorscale": [
             [
              0,
              "#0d0887"
             ],
             [
              0.1111111111111111,
              "#46039f"
             ],
             [
              0.2222222222222222,
              "#7201a8"
             ],
             [
              0.3333333333333333,
              "#9c179e"
             ],
             [
              0.4444444444444444,
              "#bd3786"
             ],
             [
              0.5555555555555556,
              "#d8576b"
             ],
             [
              0.6666666666666666,
              "#ed7953"
             ],
             [
              0.7777777777777778,
              "#fb9f3a"
             ],
             [
              0.8888888888888888,
              "#fdca26"
             ],
             [
              1,
              "#f0f921"
             ]
            ],
            "type": "heatmap"
           }
          ],
          "heatmapgl": [
           {
            "colorbar": {
             "outlinewidth": 0,
             "ticks": ""
            },
            "colorscale": [
             [
              0,
              "#0d0887"
             ],
             [
              0.1111111111111111,
              "#46039f"
             ],
             [
              0.2222222222222222,
              "#7201a8"
             ],
             [
              0.3333333333333333,
              "#9c179e"
             ],
             [
              0.4444444444444444,
              "#bd3786"
             ],
             [
              0.5555555555555556,
              "#d8576b"
             ],
             [
              0.6666666666666666,
              "#ed7953"
             ],
             [
              0.7777777777777778,
              "#fb9f3a"
             ],
             [
              0.8888888888888888,
              "#fdca26"
             ],
             [
              1,
              "#f0f921"
             ]
            ],
            "type": "heatmapgl"
           }
          ],
          "histogram": [
           {
            "marker": {
             "pattern": {
              "fillmode": "overlay",
              "size": 10,
              "solidity": 0.2
             }
            },
            "type": "histogram"
           }
          ],
          "histogram2d": [
           {
            "colorbar": {
             "outlinewidth": 0,
             "ticks": ""
            },
            "colorscale": [
             [
              0,
              "#0d0887"
             ],
             [
              0.1111111111111111,
              "#46039f"
             ],
             [
              0.2222222222222222,
              "#7201a8"
             ],
             [
              0.3333333333333333,
              "#9c179e"
             ],
             [
              0.4444444444444444,
              "#bd3786"
             ],
             [
              0.5555555555555556,
              "#d8576b"
             ],
             [
              0.6666666666666666,
              "#ed7953"
             ],
             [
              0.7777777777777778,
              "#fb9f3a"
             ],
             [
              0.8888888888888888,
              "#fdca26"
             ],
             [
              1,
              "#f0f921"
             ]
            ],
            "type": "histogram2d"
           }
          ],
          "histogram2dcontour": [
           {
            "colorbar": {
             "outlinewidth": 0,
             "ticks": ""
            },
            "colorscale": [
             [
              0,
              "#0d0887"
             ],
             [
              0.1111111111111111,
              "#46039f"
             ],
             [
              0.2222222222222222,
              "#7201a8"
             ],
             [
              0.3333333333333333,
              "#9c179e"
             ],
             [
              0.4444444444444444,
              "#bd3786"
             ],
             [
              0.5555555555555556,
              "#d8576b"
             ],
             [
              0.6666666666666666,
              "#ed7953"
             ],
             [
              0.7777777777777778,
              "#fb9f3a"
             ],
             [
              0.8888888888888888,
              "#fdca26"
             ],
             [
              1,
              "#f0f921"
             ]
            ],
            "type": "histogram2dcontour"
           }
          ],
          "mesh3d": [
           {
            "colorbar": {
             "outlinewidth": 0,
             "ticks": ""
            },
            "type": "mesh3d"
           }
          ],
          "parcoords": [
           {
            "line": {
             "colorbar": {
              "outlinewidth": 0,
              "ticks": ""
             }
            },
            "type": "parcoords"
           }
          ],
          "pie": [
           {
            "automargin": true,
            "type": "pie"
           }
          ],
          "scatter": [
           {
            "marker": {
             "colorbar": {
              "outlinewidth": 0,
              "ticks": ""
             }
            },
            "type": "scatter"
           }
          ],
          "scatter3d": [
           {
            "line": {
             "colorbar": {
              "outlinewidth": 0,
              "ticks": ""
             }
            },
            "marker": {
             "colorbar": {
              "outlinewidth": 0,
              "ticks": ""
             }
            },
            "type": "scatter3d"
           }
          ],
          "scattercarpet": [
           {
            "marker": {
             "colorbar": {
              "outlinewidth": 0,
              "ticks": ""
             }
            },
            "type": "scattercarpet"
           }
          ],
          "scattergeo": [
           {
            "marker": {
             "colorbar": {
              "outlinewidth": 0,
              "ticks": ""
             }
            },
            "type": "scattergeo"
           }
          ],
          "scattergl": [
           {
            "marker": {
             "colorbar": {
              "outlinewidth": 0,
              "ticks": ""
             }
            },
            "type": "scattergl"
           }
          ],
          "scattermapbox": [
           {
            "marker": {
             "colorbar": {
              "outlinewidth": 0,
              "ticks": ""
             }
            },
            "type": "scattermapbox"
           }
          ],
          "scatterpolar": [
           {
            "marker": {
             "colorbar": {
              "outlinewidth": 0,
              "ticks": ""
             }
            },
            "type": "scatterpolar"
           }
          ],
          "scatterpolargl": [
           {
            "marker": {
             "colorbar": {
              "outlinewidth": 0,
              "ticks": ""
             }
            },
            "type": "scatterpolargl"
           }
          ],
          "scatterternary": [
           {
            "marker": {
             "colorbar": {
              "outlinewidth": 0,
              "ticks": ""
             }
            },
            "type": "scatterternary"
           }
          ],
          "surface": [
           {
            "colorbar": {
             "outlinewidth": 0,
             "ticks": ""
            },
            "colorscale": [
             [
              0,
              "#0d0887"
             ],
             [
              0.1111111111111111,
              "#46039f"
             ],
             [
              0.2222222222222222,
              "#7201a8"
             ],
             [
              0.3333333333333333,
              "#9c179e"
             ],
             [
              0.4444444444444444,
              "#bd3786"
             ],
             [
              0.5555555555555556,
              "#d8576b"
             ],
             [
              0.6666666666666666,
              "#ed7953"
             ],
             [
              0.7777777777777778,
              "#fb9f3a"
             ],
             [
              0.8888888888888888,
              "#fdca26"
             ],
             [
              1,
              "#f0f921"
             ]
            ],
            "type": "surface"
           }
          ],
          "table": [
           {
            "cells": {
             "fill": {
              "color": "#EBF0F8"
             },
             "line": {
              "color": "white"
             }
            },
            "header": {
             "fill": {
              "color": "#C8D4E3"
             },
             "line": {
              "color": "white"
             }
            },
            "type": "table"
           }
          ]
         },
         "layout": {
          "annotationdefaults": {
           "arrowcolor": "#2a3f5f",
           "arrowhead": 0,
           "arrowwidth": 1
          },
          "autotypenumbers": "strict",
          "coloraxis": {
           "colorbar": {
            "outlinewidth": 0,
            "ticks": ""
           }
          },
          "colorscale": {
           "diverging": [
            [
             0,
             "#8e0152"
            ],
            [
             0.1,
             "#c51b7d"
            ],
            [
             0.2,
             "#de77ae"
            ],
            [
             0.3,
             "#f1b6da"
            ],
            [
             0.4,
             "#fde0ef"
            ],
            [
             0.5,
             "#f7f7f7"
            ],
            [
             0.6,
             "#e6f5d0"
            ],
            [
             0.7,
             "#b8e186"
            ],
            [
             0.8,
             "#7fbc41"
            ],
            [
             0.9,
             "#4d9221"
            ],
            [
             1,
             "#276419"
            ]
           ],
           "sequential": [
            [
             0,
             "#0d0887"
            ],
            [
             0.1111111111111111,
             "#46039f"
            ],
            [
             0.2222222222222222,
             "#7201a8"
            ],
            [
             0.3333333333333333,
             "#9c179e"
            ],
            [
             0.4444444444444444,
             "#bd3786"
            ],
            [
             0.5555555555555556,
             "#d8576b"
            ],
            [
             0.6666666666666666,
             "#ed7953"
            ],
            [
             0.7777777777777778,
             "#fb9f3a"
            ],
            [
             0.8888888888888888,
             "#fdca26"
            ],
            [
             1,
             "#f0f921"
            ]
           ],
           "sequentialminus": [
            [
             0,
             "#0d0887"
            ],
            [
             0.1111111111111111,
             "#46039f"
            ],
            [
             0.2222222222222222,
             "#7201a8"
            ],
            [
             0.3333333333333333,
             "#9c179e"
            ],
            [
             0.4444444444444444,
             "#bd3786"
            ],
            [
             0.5555555555555556,
             "#d8576b"
            ],
            [
             0.6666666666666666,
             "#ed7953"
            ],
            [
             0.7777777777777778,
             "#fb9f3a"
            ],
            [
             0.8888888888888888,
             "#fdca26"
            ],
            [
             1,
             "#f0f921"
            ]
           ]
          },
          "colorway": [
           "#636efa",
           "#EF553B",
           "#00cc96",
           "#ab63fa",
           "#FFA15A",
           "#19d3f3",
           "#FF6692",
           "#B6E880",
           "#FF97FF",
           "#FECB52"
          ],
          "font": {
           "color": "#2a3f5f"
          },
          "geo": {
           "bgcolor": "white",
           "lakecolor": "white",
           "landcolor": "#E5ECF6",
           "showlakes": true,
           "showland": true,
           "subunitcolor": "white"
          },
          "hoverlabel": {
           "align": "left"
          },
          "hovermode": "closest",
          "mapbox": {
           "style": "light"
          },
          "paper_bgcolor": "white",
          "plot_bgcolor": "#E5ECF6",
          "polar": {
           "angularaxis": {
            "gridcolor": "white",
            "linecolor": "white",
            "ticks": ""
           },
           "bgcolor": "#E5ECF6",
           "radialaxis": {
            "gridcolor": "white",
            "linecolor": "white",
            "ticks": ""
           }
          },
          "scene": {
           "xaxis": {
            "backgroundcolor": "#E5ECF6",
            "gridcolor": "white",
            "gridwidth": 2,
            "linecolor": "white",
            "showbackground": true,
            "ticks": "",
            "zerolinecolor": "white"
           },
           "yaxis": {
            "backgroundcolor": "#E5ECF6",
            "gridcolor": "white",
            "gridwidth": 2,
            "linecolor": "white",
            "showbackground": true,
            "ticks": "",
            "zerolinecolor": "white"
           },
           "zaxis": {
            "backgroundcolor": "#E5ECF6",
            "gridcolor": "white",
            "gridwidth": 2,
            "linecolor": "white",
            "showbackground": true,
            "ticks": "",
            "zerolinecolor": "white"
           }
          },
          "shapedefaults": {
           "line": {
            "color": "#2a3f5f"
           }
          },
          "ternary": {
           "aaxis": {
            "gridcolor": "white",
            "linecolor": "white",
            "ticks": ""
           },
           "baxis": {
            "gridcolor": "white",
            "linecolor": "white",
            "ticks": ""
           },
           "bgcolor": "#E5ECF6",
           "caxis": {
            "gridcolor": "white",
            "linecolor": "white",
            "ticks": ""
           }
          },
          "title": {
           "x": 0.05
          },
          "xaxis": {
           "automargin": true,
           "gridcolor": "white",
           "linecolor": "white",
           "ticks": "",
           "title": {
            "standoff": 15
           },
           "zerolinecolor": "white",
           "zerolinewidth": 2
          },
          "yaxis": {
           "automargin": true,
           "gridcolor": "white",
           "linecolor": "white",
           "ticks": "",
           "title": {
            "standoff": 15
           },
           "zerolinecolor": "white",
           "zerolinewidth": 2
          }
         }
        },
        "title": {
         "text": "Vivianische Kurve für a=1",
         "x": 0.5
        },
        "width": 800
       }
      },
      "text/html": [
       "<div>                            <div id=\"0d68ed3d-17ec-4cbe-a907-f07a75f3e61e\" class=\"plotly-graph-div\" style=\"height:800px; width:800px;\"></div>            <script type=\"text/javascript\">                require([\"plotly\"], function(Plotly) {                    window.PLOTLYENV=window.PLOTLYENV || {};                                    if (document.getElementById(\"0d68ed3d-17ec-4cbe-a907-f07a75f3e61e\")) {                    Plotly.newPlot(                        \"0d68ed3d-17ec-4cbe-a907-f07a75f3e61e\",                        [{\"line\":{\"color\":\"green\",\"width\":8},\"mode\":\"lines\",\"name\":\"viviani\",\"showlegend\":false,\"type\":\"scatter3d\",\"x\":[2.0,1.9979453927503363,1.991790013823246,1.9815591569910653,1.9672948630390295,1.9490557470106686,1.9269167573460217,1.900968867902419,1.8713187041233894,1.8380881048918407,1.8014136218679568,1.7614459583691344,1.7183493500977276,1.672300890261317,1.6234898018587336,1.5721166601221697,1.5183925683105253,1.4625382902408353,1.404783343122394,1.3453650544213078,1.2845275866310326,1.2225209339563143,1.1595998950333792,1.096023025907682,1.0320515775716554,0.967948422428345,0.9039769740923185,0.840400104966621,0.7774790660436857,0.7154724133689676,0.6546349455786925,0.5952166568776063,0.537461709759165,0.48160743168947495,0.42788333987783056,0.3765101981412665,0.32769910973868344,0.2816506499022725,0.2385540416308658,0.1985863781320435,0.16191189510815962,0.1286812958766108,0.09903113209758097,0.07308324265397836,0.05094425298933136,0.03270513696097066,0.01844084300893467,0.008209986176753947,0.0020546072496636647,0.0],\"y\":[0.0,0.06407021998071291,0.127877161684506,0.1911586287013723,0.25365458390950735,0.31510821802362066,0.3752670048793741,0.4338837391175581,0.49071755200393785,0.5455349012105486,0.5981105304912159,0.6482283953077883,0.6956825506034864,0.7402779970753155,0.7818314824680298,0.8201722545969559,0.8551427630053461,0.886599306373,0.9144126230158124,0.9384684220497603,0.9586678530366606,0.9749279121818236,0.9871817834144501,0.9953791129491982,0.9994862162006879,0.9994862162006879,0.9953791129491982,0.9871817834144502,0.9749279121818236,0.9586678530366607,0.9384684220497604,0.9144126230158125,0.8865993063730001,0.8551427630053462,0.820172254596956,0.7818314824680299,0.7402779970753157,0.6956825506034865,0.6482283953077888,0.5981105304912161,0.545534901210549,0.49071755200393813,0.43388373911755823,0.3752670048793745,0.3151082180236209,0.2536545839095078,0.19115862870137254,0.1278771616845065,0.06407021998071323,1.2246467991473532e-16],\"z\":[0.0,0.06410315514331034,0.12814043996142582,0.1920460518153635,0.255754323369012,0.31919979006675836,0.3823172574027446,0.4450418679126288,0.5073091678190147,0.5690551732620648,0.6302164360472413,0.6907301088426152,0.7505340097587482,0.8095666862447876,0.8677674782351162,0.9250765804816705,0.9814351040078757,1.0367851366210499,1.0910698024210972,1.144233320244339,1.1962210609824317,1.246979603717467,1.2964567906155766,1.3446017805226336,1.3913651012069728,1.436698700195455,1.480555994150631,1.5228919167382686,1.5636629649360596,1.6028272437359132,1.6403445091939117,1.6761762097836812,1.7102855260106922,1.7426374082467788,1.773198612746,1.8019377358048383,1.8288252460316248,1.8538335146920435,1.8769368440995207,1.8981114940213373,1.9173357060733212,1.9345897260780587,1.9498558243636472,1.9631183139821307,1.9743635668289001,1.983580027646492,1.9907582258983965,1.9958907855006727,1.9989724324013758,2.0]}],                        {\"autosize\":false,\"height\":800,\"scene\":{\"camera\":{\"eye\":{\"z\":1.55}},\"xaxis\":{\"visible\":true},\"yaxis\":{\"visible\":true},\"zaxis\":{\"visible\":true}},\"showlegend\":false,\"template\":{\"data\":{\"bar\":[{\"error_x\":{\"color\":\"#2a3f5f\"},\"error_y\":{\"color\":\"#2a3f5f\"},\"marker\":{\"line\":{\"color\":\"#E5ECF6\",\"width\":0.5},\"pattern\":{\"fillmode\":\"overlay\",\"size\":10,\"solidity\":0.2}},\"type\":\"bar\"}],\"barpolar\":[{\"marker\":{\"line\":{\"color\":\"#E5ECF6\",\"width\":0.5},\"pattern\":{\"fillmode\":\"overlay\",\"size\":10,\"solidity\":0.2}},\"type\":\"barpolar\"}],\"carpet\":[{\"aaxis\":{\"endlinecolor\":\"#2a3f5f\",\"gridcolor\":\"white\",\"linecolor\":\"white\",\"minorgridcolor\":\"white\",\"startlinecolor\":\"#2a3f5f\"},\"baxis\":{\"endlinecolor\":\"#2a3f5f\",\"gridcolor\":\"white\",\"linecolor\":\"white\",\"minorgridcolor\":\"white\",\"startlinecolor\":\"#2a3f5f\"},\"type\":\"carpet\"}],\"choropleth\":[{\"colorbar\":{\"outlinewidth\":0,\"ticks\":\"\"},\"type\":\"choropleth\"}],\"contour\":[{\"colorbar\":{\"outlinewidth\":0,\"ticks\":\"\"},\"colorscale\":[[0.0,\"#0d0887\"],[0.1111111111111111,\"#46039f\"],[0.2222222222222222,\"#7201a8\"],[0.3333333333333333,\"#9c179e\"],[0.4444444444444444,\"#bd3786\"],[0.5555555555555556,\"#d8576b\"],[0.6666666666666666,\"#ed7953\"],[0.7777777777777778,\"#fb9f3a\"],[0.8888888888888888,\"#fdca26\"],[1.0,\"#f0f921\"]],\"type\":\"contour\"}],\"contourcarpet\":[{\"colorbar\":{\"outlinewidth\":0,\"ticks\":\"\"},\"type\":\"contourcarpet\"}],\"heatmap\":[{\"colorbar\":{\"outlinewidth\":0,\"ticks\":\"\"},\"colorscale\":[[0.0,\"#0d0887\"],[0.1111111111111111,\"#46039f\"],[0.2222222222222222,\"#7201a8\"],[0.3333333333333333,\"#9c179e\"],[0.4444444444444444,\"#bd3786\"],[0.5555555555555556,\"#d8576b\"],[0.6666666666666666,\"#ed7953\"],[0.7777777777777778,\"#fb9f3a\"],[0.8888888888888888,\"#fdca26\"],[1.0,\"#f0f921\"]],\"type\":\"heatmap\"}],\"heatmapgl\":[{\"colorbar\":{\"outlinewidth\":0,\"ticks\":\"\"},\"colorscale\":[[0.0,\"#0d0887\"],[0.1111111111111111,\"#46039f\"],[0.2222222222222222,\"#7201a8\"],[0.3333333333333333,\"#9c179e\"],[0.4444444444444444,\"#bd3786\"],[0.5555555555555556,\"#d8576b\"],[0.6666666666666666,\"#ed7953\"],[0.7777777777777778,\"#fb9f3a\"],[0.8888888888888888,\"#fdca26\"],[1.0,\"#f0f921\"]],\"type\":\"heatmapgl\"}],\"histogram\":[{\"marker\":{\"pattern\":{\"fillmode\":\"overlay\",\"size\":10,\"solidity\":0.2}},\"type\":\"histogram\"}],\"histogram2d\":[{\"colorbar\":{\"outlinewidth\":0,\"ticks\":\"\"},\"colorscale\":[[0.0,\"#0d0887\"],[0.1111111111111111,\"#46039f\"],[0.2222222222222222,\"#7201a8\"],[0.3333333333333333,\"#9c179e\"],[0.4444444444444444,\"#bd3786\"],[0.5555555555555556,\"#d8576b\"],[0.6666666666666666,\"#ed7953\"],[0.7777777777777778,\"#fb9f3a\"],[0.8888888888888888,\"#fdca26\"],[1.0,\"#f0f921\"]],\"type\":\"histogram2d\"}],\"histogram2dcontour\":[{\"colorbar\":{\"outlinewidth\":0,\"ticks\":\"\"},\"colorscale\":[[0.0,\"#0d0887\"],[0.1111111111111111,\"#46039f\"],[0.2222222222222222,\"#7201a8\"],[0.3333333333333333,\"#9c179e\"],[0.4444444444444444,\"#bd3786\"],[0.5555555555555556,\"#d8576b\"],[0.6666666666666666,\"#ed7953\"],[0.7777777777777778,\"#fb9f3a\"],[0.8888888888888888,\"#fdca26\"],[1.0,\"#f0f921\"]],\"type\":\"histogram2dcontour\"}],\"mesh3d\":[{\"colorbar\":{\"outlinewidth\":0,\"ticks\":\"\"},\"type\":\"mesh3d\"}],\"parcoords\":[{\"line\":{\"colorbar\":{\"outlinewidth\":0,\"ticks\":\"\"}},\"type\":\"parcoords\"}],\"pie\":[{\"automargin\":true,\"type\":\"pie\"}],\"scatter\":[{\"marker\":{\"colorbar\":{\"outlinewidth\":0,\"ticks\":\"\"}},\"type\":\"scatter\"}],\"scatter3d\":[{\"line\":{\"colorbar\":{\"outlinewidth\":0,\"ticks\":\"\"}},\"marker\":{\"colorbar\":{\"outlinewidth\":0,\"ticks\":\"\"}},\"type\":\"scatter3d\"}],\"scattercarpet\":[{\"marker\":{\"colorbar\":{\"outlinewidth\":0,\"ticks\":\"\"}},\"type\":\"scattercarpet\"}],\"scattergeo\":[{\"marker\":{\"colorbar\":{\"outlinewidth\":0,\"ticks\":\"\"}},\"type\":\"scattergeo\"}],\"scattergl\":[{\"marker\":{\"colorbar\":{\"outlinewidth\":0,\"ticks\":\"\"}},\"type\":\"scattergl\"}],\"scattermapbox\":[{\"marker\":{\"colorbar\":{\"outlinewidth\":0,\"ticks\":\"\"}},\"type\":\"scattermapbox\"}],\"scatterpolar\":[{\"marker\":{\"colorbar\":{\"outlinewidth\":0,\"ticks\":\"\"}},\"type\":\"scatterpolar\"}],\"scatterpolargl\":[{\"marker\":{\"colorbar\":{\"outlinewidth\":0,\"ticks\":\"\"}},\"type\":\"scatterpolargl\"}],\"scatterternary\":[{\"marker\":{\"colorbar\":{\"outlinewidth\":0,\"ticks\":\"\"}},\"type\":\"scatterternary\"}],\"surface\":[{\"colorbar\":{\"outlinewidth\":0,\"ticks\":\"\"},\"colorscale\":[[0.0,\"#0d0887\"],[0.1111111111111111,\"#46039f\"],[0.2222222222222222,\"#7201a8\"],[0.3333333333333333,\"#9c179e\"],[0.4444444444444444,\"#bd3786\"],[0.5555555555555556,\"#d8576b\"],[0.6666666666666666,\"#ed7953\"],[0.7777777777777778,\"#fb9f3a\"],[0.8888888888888888,\"#fdca26\"],[1.0,\"#f0f921\"]],\"type\":\"surface\"}],\"table\":[{\"cells\":{\"fill\":{\"color\":\"#EBF0F8\"},\"line\":{\"color\":\"white\"}},\"header\":{\"fill\":{\"color\":\"#C8D4E3\"},\"line\":{\"color\":\"white\"}},\"type\":\"table\"}]},\"layout\":{\"annotationdefaults\":{\"arrowcolor\":\"#2a3f5f\",\"arrowhead\":0,\"arrowwidth\":1},\"autotypenumbers\":\"strict\",\"coloraxis\":{\"colorbar\":{\"outlinewidth\":0,\"ticks\":\"\"}},\"colorscale\":{\"diverging\":[[0,\"#8e0152\"],[0.1,\"#c51b7d\"],[0.2,\"#de77ae\"],[0.3,\"#f1b6da\"],[0.4,\"#fde0ef\"],[0.5,\"#f7f7f7\"],[0.6,\"#e6f5d0\"],[0.7,\"#b8e186\"],[0.8,\"#7fbc41\"],[0.9,\"#4d9221\"],[1,\"#276419\"]],\"sequential\":[[0.0,\"#0d0887\"],[0.1111111111111111,\"#46039f\"],[0.2222222222222222,\"#7201a8\"],[0.3333333333333333,\"#9c179e\"],[0.4444444444444444,\"#bd3786\"],[0.5555555555555556,\"#d8576b\"],[0.6666666666666666,\"#ed7953\"],[0.7777777777777778,\"#fb9f3a\"],[0.8888888888888888,\"#fdca26\"],[1.0,\"#f0f921\"]],\"sequentialminus\":[[0.0,\"#0d0887\"],[0.1111111111111111,\"#46039f\"],[0.2222222222222222,\"#7201a8\"],[0.3333333333333333,\"#9c179e\"],[0.4444444444444444,\"#bd3786\"],[0.5555555555555556,\"#d8576b\"],[0.6666666666666666,\"#ed7953\"],[0.7777777777777778,\"#fb9f3a\"],[0.8888888888888888,\"#fdca26\"],[1.0,\"#f0f921\"]]},\"colorway\":[\"#636efa\",\"#EF553B\",\"#00cc96\",\"#ab63fa\",\"#FFA15A\",\"#19d3f3\",\"#FF6692\",\"#B6E880\",\"#FF97FF\",\"#FECB52\"],\"font\":{\"color\":\"#2a3f5f\"},\"geo\":{\"bgcolor\":\"white\",\"lakecolor\":\"white\",\"landcolor\":\"#E5ECF6\",\"showlakes\":true,\"showland\":true,\"subunitcolor\":\"white\"},\"hoverlabel\":{\"align\":\"left\"},\"hovermode\":\"closest\",\"mapbox\":{\"style\":\"light\"},\"paper_bgcolor\":\"white\",\"plot_bgcolor\":\"#E5ECF6\",\"polar\":{\"angularaxis\":{\"gridcolor\":\"white\",\"linecolor\":\"white\",\"ticks\":\"\"},\"bgcolor\":\"#E5ECF6\",\"radialaxis\":{\"gridcolor\":\"white\",\"linecolor\":\"white\",\"ticks\":\"\"}},\"scene\":{\"xaxis\":{\"backgroundcolor\":\"#E5ECF6\",\"gridcolor\":\"white\",\"gridwidth\":2,\"linecolor\":\"white\",\"showbackground\":true,\"ticks\":\"\",\"zerolinecolor\":\"white\"},\"yaxis\":{\"backgroundcolor\":\"#E5ECF6\",\"gridcolor\":\"white\",\"gridwidth\":2,\"linecolor\":\"white\",\"showbackground\":true,\"ticks\":\"\",\"zerolinecolor\":\"white\"},\"zaxis\":{\"backgroundcolor\":\"#E5ECF6\",\"gridcolor\":\"white\",\"gridwidth\":2,\"linecolor\":\"white\",\"showbackground\":true,\"ticks\":\"\",\"zerolinecolor\":\"white\"}},\"shapedefaults\":{\"line\":{\"color\":\"#2a3f5f\"}},\"ternary\":{\"aaxis\":{\"gridcolor\":\"white\",\"linecolor\":\"white\",\"ticks\":\"\"},\"baxis\":{\"gridcolor\":\"white\",\"linecolor\":\"white\",\"ticks\":\"\"},\"bgcolor\":\"#E5ECF6\",\"caxis\":{\"gridcolor\":\"white\",\"linecolor\":\"white\",\"ticks\":\"\"}},\"title\":{\"x\":0.05},\"xaxis\":{\"automargin\":true,\"gridcolor\":\"white\",\"linecolor\":\"white\",\"ticks\":\"\",\"title\":{\"standoff\":15},\"zerolinecolor\":\"white\",\"zerolinewidth\":2},\"yaxis\":{\"automargin\":true,\"gridcolor\":\"white\",\"linecolor\":\"white\",\"ticks\":\"\",\"title\":{\"standoff\":15},\"zerolinecolor\":\"white\",\"zerolinewidth\":2}}},\"title\":{\"text\":\"Vivianische Kurve f\\u00fcr a=1\",\"x\":0.5},\"width\":800},                        {\"responsive\": true}                    ).then(function(){\n",
       "                            \n",
       "var gd = document.getElementById('0d68ed3d-17ec-4cbe-a907-f07a75f3e61e');\n",
       "var x = new MutationObserver(function (mutations, observer) {{\n",
       "        var display = window.getComputedStyle(gd).display;\n",
       "        if (!display || display === 'none') {{\n",
       "            console.log([gd, 'removed!']);\n",
       "            Plotly.purge(gd);\n",
       "            observer.disconnect();\n",
       "        }}\n",
       "}});\n",
       "\n",
       "// Listen for the removal of the full notebook cells\n",
       "var notebookContainer = gd.closest('#notebook-container');\n",
       "if (notebookContainer) {{\n",
       "    x.observe(notebookContainer, {childList: true});\n",
       "}}\n",
       "\n",
       "// Listen for the clearing of the current output cell\n",
       "var outputEl = gd.closest('.output');\n",
       "if (outputEl) {{\n",
       "    x.observe(outputEl, {childList: true});\n",
       "}}\n",
       "\n",
       "                        })                };                });            </script>        </div>"
      ]
     },
     "metadata": {},
     "output_type": "display_data"
    }
   ],
   "source": [
    "t = np.linspace(0.0, np.pi, num=50)\n",
    "x, y, z = 1+np.cos(t), np.sin(t), 2.0*np.sin(t/2.0)\n",
    "\n",
    "viviani = go.Scatter3d(x=x, y=y, z=z,\n",
    "                     name='viviani',\n",
    "                     mode='lines',\n",
    "                     line = dict(color='green', width=8),\n",
    "                     showlegend=False)\n",
    "\n",
    "layout = go.Layout(scene_xaxis_visible=True, \n",
    "                   scene_yaxis_visible=True, \n",
    "                   scene_zaxis_visible=True,\n",
    "                   showlegend=False)\n",
    "\n",
    "fig =  go.Figure(data=[viviani], layout=layout)\n",
    "\n",
    "fig.update_layout(title='Vivianische Kurve für a=1',\n",
    "                  title_x=0.5,\n",
    "                  scene_camera_eye_z=1.55,\n",
    "                  autosize=False,\n",
    "                  width=800,\n",
    "                  height=800,\n",
    "                  showlegend=False)\n",
    "                  \n",
    "fig.show()"
   ]
  },
  {
   "cell_type": "markdown",
   "id": "1923765f-18e5-44f7-acda-2e3d5e2c2eec",
   "metadata": {},
   "source": [
    "Jetzt erstellen wir weitere Kurven mit Hilfe von *go.Scatter3d* für den Umriss der Kugel. Magenta zeichnen wir einen Halbkreis ein, der den Zylinder andeutet."
   ]
  },
  {
   "cell_type": "code",
   "execution_count": 4,
   "id": "e877c6e2-9fef-402c-9e0f-94f6c4c562de",
   "metadata": {
    "scrolled": true
   },
   "outputs": [
    {
     "data": {
      "application/vnd.plotly.v1+json": {
       "config": {
        "plotlyServerURL": "https://plot.ly"
       },
       "data": [
        {
         "line": {
          "color": "orange",
          "width": 8
         },
         "mode": "lines",
         "name": "Vivianische Kurve",
         "showlegend": true,
         "type": "scatter3d",
         "x": [
          2,
          1.9979453927503363,
          1.991790013823246,
          1.9815591569910653,
          1.9672948630390295,
          1.9490557470106686,
          1.9269167573460217,
          1.900968867902419,
          1.8713187041233894,
          1.8380881048918407,
          1.8014136218679568,
          1.7614459583691344,
          1.7183493500977276,
          1.672300890261317,
          1.6234898018587336,
          1.5721166601221697,
          1.5183925683105253,
          1.4625382902408353,
          1.404783343122394,
          1.3453650544213078,
          1.2845275866310326,
          1.2225209339563143,
          1.1595998950333792,
          1.096023025907682,
          1.0320515775716554,
          0.967948422428345,
          0.9039769740923185,
          0.840400104966621,
          0.7774790660436857,
          0.7154724133689676,
          0.6546349455786925,
          0.5952166568776063,
          0.537461709759165,
          0.48160743168947495,
          0.42788333987783056,
          0.3765101981412665,
          0.32769910973868344,
          0.2816506499022725,
          0.2385540416308658,
          0.1985863781320435,
          0.16191189510815962,
          0.1286812958766108,
          0.09903113209758097,
          0.07308324265397836,
          0.05094425298933136,
          0.03270513696097066,
          0.01844084300893467,
          0.008209986176753947,
          0.0020546072496636647,
          0
         ],
         "y": [
          0,
          0.06407021998071291,
          0.127877161684506,
          0.1911586287013723,
          0.25365458390950735,
          0.31510821802362066,
          0.3752670048793741,
          0.4338837391175581,
          0.49071755200393785,
          0.5455349012105486,
          0.5981105304912159,
          0.6482283953077883,
          0.6956825506034864,
          0.7402779970753155,
          0.7818314824680298,
          0.8201722545969559,
          0.8551427630053461,
          0.886599306373,
          0.9144126230158124,
          0.9384684220497603,
          0.9586678530366606,
          0.9749279121818236,
          0.9871817834144501,
          0.9953791129491982,
          0.9994862162006879,
          0.9994862162006879,
          0.9953791129491982,
          0.9871817834144502,
          0.9749279121818236,
          0.9586678530366607,
          0.9384684220497604,
          0.9144126230158125,
          0.8865993063730001,
          0.8551427630053462,
          0.820172254596956,
          0.7818314824680299,
          0.7402779970753157,
          0.6956825506034865,
          0.6482283953077888,
          0.5981105304912161,
          0.545534901210549,
          0.49071755200393813,
          0.43388373911755823,
          0.3752670048793745,
          0.3151082180236209,
          0.2536545839095078,
          0.19115862870137254,
          0.1278771616845065,
          0.06407021998071323,
          1.2246467991473532e-16
         ],
         "z": [
          0,
          0.06410315514331034,
          0.12814043996142582,
          0.1920460518153635,
          0.255754323369012,
          0.31919979006675836,
          0.3823172574027446,
          0.4450418679126288,
          0.5073091678190147,
          0.5690551732620648,
          0.6302164360472413,
          0.6907301088426152,
          0.7505340097587482,
          0.8095666862447876,
          0.8677674782351162,
          0.9250765804816705,
          0.9814351040078757,
          1.0367851366210499,
          1.0910698024210972,
          1.144233320244339,
          1.1962210609824317,
          1.246979603717467,
          1.2964567906155766,
          1.3446017805226336,
          1.3913651012069728,
          1.436698700195455,
          1.480555994150631,
          1.5228919167382686,
          1.5636629649360596,
          1.6028272437359132,
          1.6403445091939117,
          1.6761762097836812,
          1.7102855260106922,
          1.7426374082467788,
          1.773198612746,
          1.8019377358048383,
          1.8288252460316248,
          1.8538335146920435,
          1.8769368440995207,
          1.8981114940213373,
          1.9173357060733212,
          1.9345897260780587,
          1.9498558243636472,
          1.9631183139821307,
          1.9743635668289001,
          1.983580027646492,
          1.9907582258983965,
          1.9958907855006727,
          1.9989724324013758,
          2
         ]
        },
        {
         "line": {
          "color": "blue",
          "width": 8
         },
         "mode": "lines",
         "name": "Umriss Zylinder",
         "showlegend": true,
         "type": "scatter3d",
         "x": [
          2,
          1.9979453927503363,
          1.991790013823246,
          1.9815591569910653,
          1.9672948630390295,
          1.9490557470106686,
          1.9269167573460217,
          1.900968867902419,
          1.8713187041233894,
          1.8380881048918407,
          1.8014136218679568,
          1.7614459583691344,
          1.7183493500977276,
          1.672300890261317,
          1.6234898018587336,
          1.5721166601221697,
          1.5183925683105253,
          1.4625382902408353,
          1.404783343122394,
          1.3453650544213078,
          1.2845275866310326,
          1.2225209339563143,
          1.1595998950333792,
          1.096023025907682,
          1.0320515775716554,
          0.967948422428345,
          0.9039769740923185,
          0.840400104966621,
          0.7774790660436857,
          0.7154724133689676,
          0.6546349455786925,
          0.5952166568776063,
          0.537461709759165,
          0.48160743168947495,
          0.42788333987783056,
          0.3765101981412665,
          0.32769910973868344,
          0.2816506499022725,
          0.2385540416308658,
          0.1985863781320435,
          0.16191189510815962,
          0.1286812958766108,
          0.09903113209758097,
          0.07308324265397836,
          0.05094425298933136,
          0.03270513696097066,
          0.01844084300893467,
          0.008209986176753947,
          0.0020546072496636647,
          0
         ],
         "y": [
          0,
          0.06407021998071291,
          0.127877161684506,
          0.1911586287013723,
          0.25365458390950735,
          0.31510821802362066,
          0.3752670048793741,
          0.4338837391175581,
          0.49071755200393785,
          0.5455349012105486,
          0.5981105304912159,
          0.6482283953077883,
          0.6956825506034864,
          0.7402779970753155,
          0.7818314824680298,
          0.8201722545969559,
          0.8551427630053461,
          0.886599306373,
          0.9144126230158124,
          0.9384684220497603,
          0.9586678530366606,
          0.9749279121818236,
          0.9871817834144501,
          0.9953791129491982,
          0.9994862162006879,
          0.9994862162006879,
          0.9953791129491982,
          0.9871817834144502,
          0.9749279121818236,
          0.9586678530366607,
          0.9384684220497604,
          0.9144126230158125,
          0.8865993063730001,
          0.8551427630053462,
          0.820172254596956,
          0.7818314824680299,
          0.7402779970753157,
          0.6956825506034865,
          0.6482283953077888,
          0.5981105304912161,
          0.545534901210549,
          0.49071755200393813,
          0.43388373911755823,
          0.3752670048793745,
          0.3151082180236209,
          0.2536545839095078,
          0.19115862870137254,
          0.1278771616845065,
          0.06407021998071323,
          1.2246467991473532e-16
         ],
         "z": [
          0,
          0,
          0,
          0,
          0,
          0,
          0,
          0,
          0,
          0,
          0,
          0,
          0,
          0,
          0,
          0,
          0,
          0,
          0,
          0,
          0,
          0,
          0,
          0,
          0,
          0,
          0,
          0,
          0,
          0,
          0,
          0,
          0,
          0,
          0,
          0,
          0,
          0,
          0,
          0,
          0,
          0,
          0,
          0,
          0,
          0,
          0,
          0,
          0,
          0
         ]
        },
        {
         "line": {
          "color": "green",
          "width": 8
         },
         "mode": "lines",
         "name": "Umriss Kugel",
         "showlegend": true,
         "type": "scatter3d",
         "x": [
          2,
          1.9989724324013758,
          1.9958907855006727,
          1.9907582258983965,
          1.9835800276464923,
          1.9743635668289004,
          1.9631183139821307,
          1.9498558243636472,
          1.934589726078059,
          1.9173357060733212,
          1.8981114940213373,
          1.8769368440995209,
          1.8538335146920435,
          1.828825246031625,
          1.8019377358048383,
          1.7731986127460002,
          1.7426374082467788,
          1.7102855260106924,
          1.6761762097836814,
          1.640344509193912,
          1.6028272437359135,
          1.5636629649360596,
          1.5228919167382688,
          1.4805559941506312,
          1.4366987001954554,
          1.391365101206973,
          1.3446017805226338,
          1.296456790615577,
          1.2469796037174672,
          1.196221060982432,
          1.1442333202443393,
          1.0910698024210974,
          1.0367851366210503,
          0.9814351040078758,
          0.9250765804816707,
          0.8677674782351164,
          0.809566686244788,
          0.7505340097587484,
          0.6907301088426157,
          0.6302164360472415,
          0.5690551732620653,
          0.507309167819015,
          0.4450418679126289,
          0.38231725740274497,
          0.31919979006675864,
          0.25575432336901244,
          0.19204605181536377,
          0.12814043996142635,
          0.06410315514331066,
          1.2246467991473532e-16
         ],
         "y": [
          0,
          0,
          0,
          0,
          0,
          0,
          0,
          0,
          0,
          0,
          0,
          0,
          0,
          0,
          0,
          0,
          0,
          0,
          0,
          0,
          0,
          0,
          0,
          0,
          0,
          0,
          0,
          0,
          0,
          0,
          0,
          0,
          0,
          0,
          0,
          0,
          0,
          0,
          0,
          0,
          0,
          0,
          0,
          0,
          0,
          0,
          0,
          0,
          0,
          0
         ],
         "z": [
          0,
          0.06410315514331034,
          0.12814043996142582,
          0.1920460518153635,
          0.255754323369012,
          0.31919979006675836,
          0.3823172574027446,
          0.4450418679126288,
          0.5073091678190147,
          0.5690551732620648,
          0.6302164360472413,
          0.6907301088426152,
          0.7505340097587482,
          0.8095666862447876,
          0.8677674782351162,
          0.9250765804816705,
          0.9814351040078757,
          1.0367851366210499,
          1.0910698024210972,
          1.144233320244339,
          1.1962210609824317,
          1.246979603717467,
          1.2964567906155766,
          1.3446017805226336,
          1.3913651012069728,
          1.436698700195455,
          1.480555994150631,
          1.5228919167382686,
          1.5636629649360596,
          1.6028272437359132,
          1.6403445091939117,
          1.6761762097836812,
          1.7102855260106922,
          1.7426374082467788,
          1.773198612746,
          1.8019377358048383,
          1.8288252460316248,
          1.8538335146920435,
          1.8769368440995207,
          1.8981114940213373,
          1.9173357060733212,
          1.9345897260780587,
          1.9498558243636472,
          1.9631183139821307,
          1.9743635668289001,
          1.983580027646492,
          1.9907582258983965,
          1.9958907855006727,
          1.9989724324013758,
          2
         ]
        },
        {
         "line": {
          "color": "green",
          "width": 8
         },
         "mode": "lines",
         "name": "Umriss Kugel 2",
         "showlegend": false,
         "type": "scatter3d",
         "x": [
          2,
          1.9989724324013758,
          1.9958907855006727,
          1.9907582258983965,
          1.9835800276464923,
          1.9743635668289004,
          1.9631183139821307,
          1.9498558243636472,
          1.934589726078059,
          1.9173357060733212,
          1.8981114940213373,
          1.8769368440995209,
          1.8538335146920435,
          1.828825246031625,
          1.8019377358048383,
          1.7731986127460002,
          1.7426374082467788,
          1.7102855260106924,
          1.6761762097836814,
          1.640344509193912,
          1.6028272437359135,
          1.5636629649360596,
          1.5228919167382688,
          1.4805559941506312,
          1.4366987001954554,
          1.391365101206973,
          1.3446017805226338,
          1.296456790615577,
          1.2469796037174672,
          1.196221060982432,
          1.1442333202443393,
          1.0910698024210974,
          1.0367851366210503,
          0.9814351040078758,
          0.9250765804816707,
          0.8677674782351164,
          0.809566686244788,
          0.7505340097587484,
          0.6907301088426157,
          0.6302164360472415,
          0.5690551732620653,
          0.507309167819015,
          0.4450418679126289,
          0.38231725740274497,
          0.31919979006675864,
          0.25575432336901244,
          0.19204605181536377,
          0.12814043996142635,
          0.06410315514331066,
          1.2246467991473532e-16
         ],
         "y": [
          0,
          0.06410315514331034,
          0.12814043996142582,
          0.1920460518153635,
          0.255754323369012,
          0.31919979006675836,
          0.3823172574027446,
          0.4450418679126288,
          0.5073091678190147,
          0.5690551732620648,
          0.6302164360472413,
          0.6907301088426152,
          0.7505340097587482,
          0.8095666862447876,
          0.8677674782351162,
          0.9250765804816705,
          0.9814351040078757,
          1.0367851366210499,
          1.0910698024210972,
          1.144233320244339,
          1.1962210609824317,
          1.246979603717467,
          1.2964567906155766,
          1.3446017805226336,
          1.3913651012069728,
          1.436698700195455,
          1.480555994150631,
          1.5228919167382686,
          1.5636629649360596,
          1.6028272437359132,
          1.6403445091939117,
          1.6761762097836812,
          1.7102855260106922,
          1.7426374082467788,
          1.773198612746,
          1.8019377358048383,
          1.8288252460316248,
          1.8538335146920435,
          1.8769368440995207,
          1.8981114940213373,
          1.9173357060733212,
          1.9345897260780587,
          1.9498558243636472,
          1.9631183139821307,
          1.9743635668289001,
          1.983580027646492,
          1.9907582258983965,
          1.9958907855006727,
          1.9989724324013758,
          2
         ],
         "z": [
          0,
          0,
          0,
          0,
          0,
          0,
          0,
          0,
          0,
          0,
          0,
          0,
          0,
          0,
          0,
          0,
          0,
          0,
          0,
          0,
          0,
          0,
          0,
          0,
          0,
          0,
          0,
          0,
          0,
          0,
          0,
          0,
          0,
          0,
          0,
          0,
          0,
          0,
          0,
          0,
          0,
          0,
          0,
          0,
          0,
          0,
          0,
          0,
          0,
          0
         ]
        },
        {
         "line": {
          "color": "green",
          "width": 8
         },
         "mode": "lines",
         "name": "Umriss Kugel 3",
         "showlegend": false,
         "type": "scatter3d",
         "x": [
          0,
          0,
          0,
          0,
          0,
          0,
          0,
          0,
          0,
          0,
          0,
          0,
          0,
          0,
          0,
          0,
          0,
          0,
          0,
          0,
          0,
          0,
          0,
          0,
          0,
          0,
          0,
          0,
          0,
          0,
          0,
          0,
          0,
          0,
          0,
          0,
          0,
          0,
          0,
          0,
          0,
          0,
          0,
          0,
          0,
          0,
          0,
          0,
          0,
          0
         ],
         "y": [
          2,
          1.9989724324013758,
          1.9958907855006727,
          1.9907582258983965,
          1.9835800276464923,
          1.9743635668289004,
          1.9631183139821307,
          1.9498558243636472,
          1.934589726078059,
          1.9173357060733212,
          1.8981114940213373,
          1.8769368440995209,
          1.8538335146920435,
          1.828825246031625,
          1.8019377358048383,
          1.7731986127460002,
          1.7426374082467788,
          1.7102855260106924,
          1.6761762097836814,
          1.640344509193912,
          1.6028272437359135,
          1.5636629649360596,
          1.5228919167382688,
          1.4805559941506312,
          1.4366987001954554,
          1.391365101206973,
          1.3446017805226338,
          1.296456790615577,
          1.2469796037174672,
          1.196221060982432,
          1.1442333202443393,
          1.0910698024210974,
          1.0367851366210503,
          0.9814351040078758,
          0.9250765804816707,
          0.8677674782351164,
          0.809566686244788,
          0.7505340097587484,
          0.6907301088426157,
          0.6302164360472415,
          0.5690551732620653,
          0.507309167819015,
          0.4450418679126289,
          0.38231725740274497,
          0.31919979006675864,
          0.25575432336901244,
          0.19204605181536377,
          0.12814043996142635,
          0.06410315514331066,
          1.2246467991473532e-16
         ],
         "z": [
          0,
          0.06410315514331034,
          0.12814043996142582,
          0.1920460518153635,
          0.255754323369012,
          0.31919979006675836,
          0.3823172574027446,
          0.4450418679126288,
          0.5073091678190147,
          0.5690551732620648,
          0.6302164360472413,
          0.6907301088426152,
          0.7505340097587482,
          0.8095666862447876,
          0.8677674782351162,
          0.9250765804816705,
          0.9814351040078757,
          1.0367851366210499,
          1.0910698024210972,
          1.144233320244339,
          1.1962210609824317,
          1.246979603717467,
          1.2964567906155766,
          1.3446017805226336,
          1.3913651012069728,
          1.436698700195455,
          1.480555994150631,
          1.5228919167382686,
          1.5636629649360596,
          1.6028272437359132,
          1.6403445091939117,
          1.6761762097836812,
          1.7102855260106922,
          1.7426374082467788,
          1.773198612746,
          1.8019377358048383,
          1.8288252460316248,
          1.8538335146920435,
          1.8769368440995207,
          1.8981114940213373,
          1.9173357060733212,
          1.9345897260780587,
          1.9498558243636472,
          1.9631183139821307,
          1.9743635668289001,
          1.983580027646492,
          1.9907582258983965,
          1.9958907855006727,
          1.9989724324013758,
          2
         ]
        },
        {
         "line": {
          "color": "blue",
          "width": 8
         },
         "mode": "lines",
         "name": "Zylinder",
         "showlegend": false,
         "type": "scatter3d",
         "x": [
          2,
          1.9979453927503363,
          1.991790013823246,
          1.9815591569910653,
          1.9672948630390295,
          1.9490557470106686,
          1.9269167573460217,
          1.900968867902419,
          1.8713187041233894,
          1.8380881048918407,
          1.8014136218679568,
          1.7614459583691344,
          1.7183493500977276,
          1.672300890261317,
          1.6234898018587336,
          1.5721166601221697,
          1.5183925683105253,
          1.4625382902408353,
          1.404783343122394,
          1.3453650544213078,
          1.2845275866310326,
          1.2225209339563143,
          1.1595998950333792,
          1.096023025907682,
          1.0320515775716554,
          0.967948422428345,
          0.9039769740923185,
          0.840400104966621,
          0.7774790660436857,
          0.7154724133689676,
          0.6546349455786925,
          0.5952166568776063,
          0.537461709759165,
          0.48160743168947495,
          0.42788333987783056,
          0.3765101981412665,
          0.32769910973868344,
          0.2816506499022725,
          0.2385540416308658,
          0.1985863781320435,
          0.16191189510815962,
          0.1286812958766108,
          0.09903113209758097,
          0.07308324265397836,
          0.05094425298933136,
          0.03270513696097066,
          0.01844084300893467,
          0.008209986176753947,
          0.0020546072496636647,
          0
         ],
         "y": [
          0,
          0.06407021998071291,
          0.127877161684506,
          0.1911586287013723,
          0.25365458390950735,
          0.31510821802362066,
          0.3752670048793741,
          0.4338837391175581,
          0.49071755200393785,
          0.5455349012105486,
          0.5981105304912159,
          0.6482283953077883,
          0.6956825506034864,
          0.7402779970753155,
          0.7818314824680298,
          0.8201722545969559,
          0.8551427630053461,
          0.886599306373,
          0.9144126230158124,
          0.9384684220497603,
          0.9586678530366606,
          0.9749279121818236,
          0.9871817834144501,
          0.9953791129491982,
          0.9994862162006879,
          0.9994862162006879,
          0.9953791129491982,
          0.9871817834144502,
          0.9749279121818236,
          0.9586678530366607,
          0.9384684220497604,
          0.9144126230158125,
          0.8865993063730001,
          0.8551427630053462,
          0.820172254596956,
          0.7818314824680299,
          0.7402779970753157,
          0.6956825506034865,
          0.6482283953077888,
          0.5981105304912161,
          0.545534901210549,
          0.49071755200393813,
          0.43388373911755823,
          0.3752670048793745,
          0.3151082180236209,
          0.2536545839095078,
          0.19115862870137254,
          0.1278771616845065,
          0.06407021998071323,
          1.2246467991473532e-16
         ],
         "z": [
          2,
          2,
          2,
          2,
          2,
          2,
          2,
          2,
          2,
          2,
          2,
          2,
          2,
          2,
          2,
          2,
          2,
          2,
          2,
          2,
          2,
          2,
          2,
          2,
          2,
          2,
          2,
          2,
          2,
          2,
          2,
          2,
          2,
          2,
          2,
          2,
          2,
          2,
          2,
          2,
          2,
          2,
          2,
          2,
          2,
          2,
          2,
          2,
          2,
          2
         ]
        },
        {
         "line": {
          "color": "blue",
          "width": 8
         },
         "mode": "lines",
         "name": "Zylinder",
         "showlegend": false,
         "type": "scatter3d",
         "x": [
          0,
          1,
          2
         ],
         "y": [
          0,
          0,
          0
         ],
         "z": [
          0,
          0,
          0
         ]
        },
        {
         "line": {
          "color": "blue",
          "width": 8
         },
         "mode": "lines",
         "name": "Zylinder",
         "showlegend": false,
         "type": "scatter3d",
         "x": [
          0,
          1,
          2
         ],
         "y": [
          0,
          0,
          0
         ],
         "z": [
          2,
          2,
          2
         ]
        },
        {
         "line": {
          "color": "blue",
          "width": 8
         },
         "mode": "lines",
         "name": "Zylinder",
         "showlegend": false,
         "type": "scatter3d",
         "x": [
          0,
          0,
          0
         ],
         "y": [
          0,
          0,
          0
         ],
         "z": [
          0,
          1,
          2
         ]
        },
        {
         "line": {
          "color": "blue",
          "width": 8
         },
         "mode": "lines",
         "name": "Zylinder",
         "showlegend": false,
         "type": "scatter3d",
         "x": [
          2,
          2,
          2
         ],
         "y": [
          0,
          0,
          0
         ],
         "z": [
          0,
          1,
          2
         ]
        }
       ],
       "layout": {
        "autosize": false,
        "height": 800,
        "scene": {
         "camera": {
          "eye": {
           "z": 1.55
          }
         },
         "xaxis": {
          "visible": true
         },
         "yaxis": {
          "visible": true
         },
         "zaxis": {
          "visible": true
         }
        },
        "showlegend": true,
        "template": {
         "data": {
          "bar": [
           {
            "error_x": {
             "color": "#2a3f5f"
            },
            "error_y": {
             "color": "#2a3f5f"
            },
            "marker": {
             "line": {
              "color": "#E5ECF6",
              "width": 0.5
             },
             "pattern": {
              "fillmode": "overlay",
              "size": 10,
              "solidity": 0.2
             }
            },
            "type": "bar"
           }
          ],
          "barpolar": [
           {
            "marker": {
             "line": {
              "color": "#E5ECF6",
              "width": 0.5
             },
             "pattern": {
              "fillmode": "overlay",
              "size": 10,
              "solidity": 0.2
             }
            },
            "type": "barpolar"
           }
          ],
          "carpet": [
           {
            "aaxis": {
             "endlinecolor": "#2a3f5f",
             "gridcolor": "white",
             "linecolor": "white",
             "minorgridcolor": "white",
             "startlinecolor": "#2a3f5f"
            },
            "baxis": {
             "endlinecolor": "#2a3f5f",
             "gridcolor": "white",
             "linecolor": "white",
             "minorgridcolor": "white",
             "startlinecolor": "#2a3f5f"
            },
            "type": "carpet"
           }
          ],
          "choropleth": [
           {
            "colorbar": {
             "outlinewidth": 0,
             "ticks": ""
            },
            "type": "choropleth"
           }
          ],
          "contour": [
           {
            "colorbar": {
             "outlinewidth": 0,
             "ticks": ""
            },
            "colorscale": [
             [
              0,
              "#0d0887"
             ],
             [
              0.1111111111111111,
              "#46039f"
             ],
             [
              0.2222222222222222,
              "#7201a8"
             ],
             [
              0.3333333333333333,
              "#9c179e"
             ],
             [
              0.4444444444444444,
              "#bd3786"
             ],
             [
              0.5555555555555556,
              "#d8576b"
             ],
             [
              0.6666666666666666,
              "#ed7953"
             ],
             [
              0.7777777777777778,
              "#fb9f3a"
             ],
             [
              0.8888888888888888,
              "#fdca26"
             ],
             [
              1,
              "#f0f921"
             ]
            ],
            "type": "contour"
           }
          ],
          "contourcarpet": [
           {
            "colorbar": {
             "outlinewidth": 0,
             "ticks": ""
            },
            "type": "contourcarpet"
           }
          ],
          "heatmap": [
           {
            "colorbar": {
             "outlinewidth": 0,
             "ticks": ""
            },
            "colorscale": [
             [
              0,
              "#0d0887"
             ],
             [
              0.1111111111111111,
              "#46039f"
             ],
             [
              0.2222222222222222,
              "#7201a8"
             ],
             [
              0.3333333333333333,
              "#9c179e"
             ],
             [
              0.4444444444444444,
              "#bd3786"
             ],
             [
              0.5555555555555556,
              "#d8576b"
             ],
             [
              0.6666666666666666,
              "#ed7953"
             ],
             [
              0.7777777777777778,
              "#fb9f3a"
             ],
             [
              0.8888888888888888,
              "#fdca26"
             ],
             [
              1,
              "#f0f921"
             ]
            ],
            "type": "heatmap"
           }
          ],
          "heatmapgl": [
           {
            "colorbar": {
             "outlinewidth": 0,
             "ticks": ""
            },
            "colorscale": [
             [
              0,
              "#0d0887"
             ],
             [
              0.1111111111111111,
              "#46039f"
             ],
             [
              0.2222222222222222,
              "#7201a8"
             ],
             [
              0.3333333333333333,
              "#9c179e"
             ],
             [
              0.4444444444444444,
              "#bd3786"
             ],
             [
              0.5555555555555556,
              "#d8576b"
             ],
             [
              0.6666666666666666,
              "#ed7953"
             ],
             [
              0.7777777777777778,
              "#fb9f3a"
             ],
             [
              0.8888888888888888,
              "#fdca26"
             ],
             [
              1,
              "#f0f921"
             ]
            ],
            "type": "heatmapgl"
           }
          ],
          "histogram": [
           {
            "marker": {
             "pattern": {
              "fillmode": "overlay",
              "size": 10,
              "solidity": 0.2
             }
            },
            "type": "histogram"
           }
          ],
          "histogram2d": [
           {
            "colorbar": {
             "outlinewidth": 0,
             "ticks": ""
            },
            "colorscale": [
             [
              0,
              "#0d0887"
             ],
             [
              0.1111111111111111,
              "#46039f"
             ],
             [
              0.2222222222222222,
              "#7201a8"
             ],
             [
              0.3333333333333333,
              "#9c179e"
             ],
             [
              0.4444444444444444,
              "#bd3786"
             ],
             [
              0.5555555555555556,
              "#d8576b"
             ],
             [
              0.6666666666666666,
              "#ed7953"
             ],
             [
              0.7777777777777778,
              "#fb9f3a"
             ],
             [
              0.8888888888888888,
              "#fdca26"
             ],
             [
              1,
              "#f0f921"
             ]
            ],
            "type": "histogram2d"
           }
          ],
          "histogram2dcontour": [
           {
            "colorbar": {
             "outlinewidth": 0,
             "ticks": ""
            },
            "colorscale": [
             [
              0,
              "#0d0887"
             ],
             [
              0.1111111111111111,
              "#46039f"
             ],
             [
              0.2222222222222222,
              "#7201a8"
             ],
             [
              0.3333333333333333,
              "#9c179e"
             ],
             [
              0.4444444444444444,
              "#bd3786"
             ],
             [
              0.5555555555555556,
              "#d8576b"
             ],
             [
              0.6666666666666666,
              "#ed7953"
             ],
             [
              0.7777777777777778,
              "#fb9f3a"
             ],
             [
              0.8888888888888888,
              "#fdca26"
             ],
             [
              1,
              "#f0f921"
             ]
            ],
            "type": "histogram2dcontour"
           }
          ],
          "mesh3d": [
           {
            "colorbar": {
             "outlinewidth": 0,
             "ticks": ""
            },
            "type": "mesh3d"
           }
          ],
          "parcoords": [
           {
            "line": {
             "colorbar": {
              "outlinewidth": 0,
              "ticks": ""
             }
            },
            "type": "parcoords"
           }
          ],
          "pie": [
           {
            "automargin": true,
            "type": "pie"
           }
          ],
          "scatter": [
           {
            "marker": {
             "colorbar": {
              "outlinewidth": 0,
              "ticks": ""
             }
            },
            "type": "scatter"
           }
          ],
          "scatter3d": [
           {
            "line": {
             "colorbar": {
              "outlinewidth": 0,
              "ticks": ""
             }
            },
            "marker": {
             "colorbar": {
              "outlinewidth": 0,
              "ticks": ""
             }
            },
            "type": "scatter3d"
           }
          ],
          "scattercarpet": [
           {
            "marker": {
             "colorbar": {
              "outlinewidth": 0,
              "ticks": ""
             }
            },
            "type": "scattercarpet"
           }
          ],
          "scattergeo": [
           {
            "marker": {
             "colorbar": {
              "outlinewidth": 0,
              "ticks": ""
             }
            },
            "type": "scattergeo"
           }
          ],
          "scattergl": [
           {
            "marker": {
             "colorbar": {
              "outlinewidth": 0,
              "ticks": ""
             }
            },
            "type": "scattergl"
           }
          ],
          "scattermapbox": [
           {
            "marker": {
             "colorbar": {
              "outlinewidth": 0,
              "ticks": ""
             }
            },
            "type": "scattermapbox"
           }
          ],
          "scatterpolar": [
           {
            "marker": {
             "colorbar": {
              "outlinewidth": 0,
              "ticks": ""
             }
            },
            "type": "scatterpolar"
           }
          ],
          "scatterpolargl": [
           {
            "marker": {
             "colorbar": {
              "outlinewidth": 0,
              "ticks": ""
             }
            },
            "type": "scatterpolargl"
           }
          ],
          "scatterternary": [
           {
            "marker": {
             "colorbar": {
              "outlinewidth": 0,
              "ticks": ""
             }
            },
            "type": "scatterternary"
           }
          ],
          "surface": [
           {
            "colorbar": {
             "outlinewidth": 0,
             "ticks": ""
            },
            "colorscale": [
             [
              0,
              "#0d0887"
             ],
             [
              0.1111111111111111,
              "#46039f"
             ],
             [
              0.2222222222222222,
              "#7201a8"
             ],
             [
              0.3333333333333333,
              "#9c179e"
             ],
             [
              0.4444444444444444,
              "#bd3786"
             ],
             [
              0.5555555555555556,
              "#d8576b"
             ],
             [
              0.6666666666666666,
              "#ed7953"
             ],
             [
              0.7777777777777778,
              "#fb9f3a"
             ],
             [
              0.8888888888888888,
              "#fdca26"
             ],
             [
              1,
              "#f0f921"
             ]
            ],
            "type": "surface"
           }
          ],
          "table": [
           {
            "cells": {
             "fill": {
              "color": "#EBF0F8"
             },
             "line": {
              "color": "white"
             }
            },
            "header": {
             "fill": {
              "color": "#C8D4E3"
             },
             "line": {
              "color": "white"
             }
            },
            "type": "table"
           }
          ]
         },
         "layout": {
          "annotationdefaults": {
           "arrowcolor": "#2a3f5f",
           "arrowhead": 0,
           "arrowwidth": 1
          },
          "autotypenumbers": "strict",
          "coloraxis": {
           "colorbar": {
            "outlinewidth": 0,
            "ticks": ""
           }
          },
          "colorscale": {
           "diverging": [
            [
             0,
             "#8e0152"
            ],
            [
             0.1,
             "#c51b7d"
            ],
            [
             0.2,
             "#de77ae"
            ],
            [
             0.3,
             "#f1b6da"
            ],
            [
             0.4,
             "#fde0ef"
            ],
            [
             0.5,
             "#f7f7f7"
            ],
            [
             0.6,
             "#e6f5d0"
            ],
            [
             0.7,
             "#b8e186"
            ],
            [
             0.8,
             "#7fbc41"
            ],
            [
             0.9,
             "#4d9221"
            ],
            [
             1,
             "#276419"
            ]
           ],
           "sequential": [
            [
             0,
             "#0d0887"
            ],
            [
             0.1111111111111111,
             "#46039f"
            ],
            [
             0.2222222222222222,
             "#7201a8"
            ],
            [
             0.3333333333333333,
             "#9c179e"
            ],
            [
             0.4444444444444444,
             "#bd3786"
            ],
            [
             0.5555555555555556,
             "#d8576b"
            ],
            [
             0.6666666666666666,
             "#ed7953"
            ],
            [
             0.7777777777777778,
             "#fb9f3a"
            ],
            [
             0.8888888888888888,
             "#fdca26"
            ],
            [
             1,
             "#f0f921"
            ]
           ],
           "sequentialminus": [
            [
             0,
             "#0d0887"
            ],
            [
             0.1111111111111111,
             "#46039f"
            ],
            [
             0.2222222222222222,
             "#7201a8"
            ],
            [
             0.3333333333333333,
             "#9c179e"
            ],
            [
             0.4444444444444444,
             "#bd3786"
            ],
            [
             0.5555555555555556,
             "#d8576b"
            ],
            [
             0.6666666666666666,
             "#ed7953"
            ],
            [
             0.7777777777777778,
             "#fb9f3a"
            ],
            [
             0.8888888888888888,
             "#fdca26"
            ],
            [
             1,
             "#f0f921"
            ]
           ]
          },
          "colorway": [
           "#636efa",
           "#EF553B",
           "#00cc96",
           "#ab63fa",
           "#FFA15A",
           "#19d3f3",
           "#FF6692",
           "#B6E880",
           "#FF97FF",
           "#FECB52"
          ],
          "font": {
           "color": "#2a3f5f"
          },
          "geo": {
           "bgcolor": "white",
           "lakecolor": "white",
           "landcolor": "#E5ECF6",
           "showlakes": true,
           "showland": true,
           "subunitcolor": "white"
          },
          "hoverlabel": {
           "align": "left"
          },
          "hovermode": "closest",
          "mapbox": {
           "style": "light"
          },
          "paper_bgcolor": "white",
          "plot_bgcolor": "#E5ECF6",
          "polar": {
           "angularaxis": {
            "gridcolor": "white",
            "linecolor": "white",
            "ticks": ""
           },
           "bgcolor": "#E5ECF6",
           "radialaxis": {
            "gridcolor": "white",
            "linecolor": "white",
            "ticks": ""
           }
          },
          "scene": {
           "xaxis": {
            "backgroundcolor": "#E5ECF6",
            "gridcolor": "white",
            "gridwidth": 2,
            "linecolor": "white",
            "showbackground": true,
            "ticks": "",
            "zerolinecolor": "white"
           },
           "yaxis": {
            "backgroundcolor": "#E5ECF6",
            "gridcolor": "white",
            "gridwidth": 2,
            "linecolor": "white",
            "showbackground": true,
            "ticks": "",
            "zerolinecolor": "white"
           },
           "zaxis": {
            "backgroundcolor": "#E5ECF6",
            "gridcolor": "white",
            "gridwidth": 2,
            "linecolor": "white",
            "showbackground": true,
            "ticks": "",
            "zerolinecolor": "white"
           }
          },
          "shapedefaults": {
           "line": {
            "color": "#2a3f5f"
           }
          },
          "ternary": {
           "aaxis": {
            "gridcolor": "white",
            "linecolor": "white",
            "ticks": ""
           },
           "baxis": {
            "gridcolor": "white",
            "linecolor": "white",
            "ticks": ""
           },
           "bgcolor": "#E5ECF6",
           "caxis": {
            "gridcolor": "white",
            "linecolor": "white",
            "ticks": ""
           }
          },
          "title": {
           "x": 0.05
          },
          "xaxis": {
           "automargin": true,
           "gridcolor": "white",
           "linecolor": "white",
           "ticks": "",
           "title": {
            "standoff": 15
           },
           "zerolinecolor": "white",
           "zerolinewidth": 2
          },
          "yaxis": {
           "automargin": true,
           "gridcolor": "white",
           "linecolor": "white",
           "ticks": "",
           "title": {
            "standoff": 15
           },
           "zerolinecolor": "white",
           "zerolinewidth": 2
          }
         }
        },
        "title": {
         "text": "Vivianische Kurve für a=1",
         "x": 0.5
        },
        "width": 800
       }
      },
      "text/html": [
       "<div>                            <div id=\"e0d288c6-3f84-4296-985a-165ee9552d36\" class=\"plotly-graph-div\" style=\"height:800px; width:800px;\"></div>            <script type=\"text/javascript\">                require([\"plotly\"], function(Plotly) {                    window.PLOTLYENV=window.PLOTLYENV || {};                                    if (document.getElementById(\"e0d288c6-3f84-4296-985a-165ee9552d36\")) {                    Plotly.newPlot(                        \"e0d288c6-3f84-4296-985a-165ee9552d36\",                        [{\"line\":{\"color\":\"orange\",\"width\":8},\"mode\":\"lines\",\"name\":\"Vivianische Kurve\",\"showlegend\":true,\"type\":\"scatter3d\",\"x\":[2.0,1.9979453927503363,1.991790013823246,1.9815591569910653,1.9672948630390295,1.9490557470106686,1.9269167573460217,1.900968867902419,1.8713187041233894,1.8380881048918407,1.8014136218679568,1.7614459583691344,1.7183493500977276,1.672300890261317,1.6234898018587336,1.5721166601221697,1.5183925683105253,1.4625382902408353,1.404783343122394,1.3453650544213078,1.2845275866310326,1.2225209339563143,1.1595998950333792,1.096023025907682,1.0320515775716554,0.967948422428345,0.9039769740923185,0.840400104966621,0.7774790660436857,0.7154724133689676,0.6546349455786925,0.5952166568776063,0.537461709759165,0.48160743168947495,0.42788333987783056,0.3765101981412665,0.32769910973868344,0.2816506499022725,0.2385540416308658,0.1985863781320435,0.16191189510815962,0.1286812958766108,0.09903113209758097,0.07308324265397836,0.05094425298933136,0.03270513696097066,0.01844084300893467,0.008209986176753947,0.0020546072496636647,0.0],\"y\":[0.0,0.06407021998071291,0.127877161684506,0.1911586287013723,0.25365458390950735,0.31510821802362066,0.3752670048793741,0.4338837391175581,0.49071755200393785,0.5455349012105486,0.5981105304912159,0.6482283953077883,0.6956825506034864,0.7402779970753155,0.7818314824680298,0.8201722545969559,0.8551427630053461,0.886599306373,0.9144126230158124,0.9384684220497603,0.9586678530366606,0.9749279121818236,0.9871817834144501,0.9953791129491982,0.9994862162006879,0.9994862162006879,0.9953791129491982,0.9871817834144502,0.9749279121818236,0.9586678530366607,0.9384684220497604,0.9144126230158125,0.8865993063730001,0.8551427630053462,0.820172254596956,0.7818314824680299,0.7402779970753157,0.6956825506034865,0.6482283953077888,0.5981105304912161,0.545534901210549,0.49071755200393813,0.43388373911755823,0.3752670048793745,0.3151082180236209,0.2536545839095078,0.19115862870137254,0.1278771616845065,0.06407021998071323,1.2246467991473532e-16],\"z\":[0.0,0.06410315514331034,0.12814043996142582,0.1920460518153635,0.255754323369012,0.31919979006675836,0.3823172574027446,0.4450418679126288,0.5073091678190147,0.5690551732620648,0.6302164360472413,0.6907301088426152,0.7505340097587482,0.8095666862447876,0.8677674782351162,0.9250765804816705,0.9814351040078757,1.0367851366210499,1.0910698024210972,1.144233320244339,1.1962210609824317,1.246979603717467,1.2964567906155766,1.3446017805226336,1.3913651012069728,1.436698700195455,1.480555994150631,1.5228919167382686,1.5636629649360596,1.6028272437359132,1.6403445091939117,1.6761762097836812,1.7102855260106922,1.7426374082467788,1.773198612746,1.8019377358048383,1.8288252460316248,1.8538335146920435,1.8769368440995207,1.8981114940213373,1.9173357060733212,1.9345897260780587,1.9498558243636472,1.9631183139821307,1.9743635668289001,1.983580027646492,1.9907582258983965,1.9958907855006727,1.9989724324013758,2.0]},{\"line\":{\"color\":\"blue\",\"width\":8},\"mode\":\"lines\",\"name\":\"Umriss Zylinder\",\"showlegend\":true,\"type\":\"scatter3d\",\"x\":[2.0,1.9979453927503363,1.991790013823246,1.9815591569910653,1.9672948630390295,1.9490557470106686,1.9269167573460217,1.900968867902419,1.8713187041233894,1.8380881048918407,1.8014136218679568,1.7614459583691344,1.7183493500977276,1.672300890261317,1.6234898018587336,1.5721166601221697,1.5183925683105253,1.4625382902408353,1.404783343122394,1.3453650544213078,1.2845275866310326,1.2225209339563143,1.1595998950333792,1.096023025907682,1.0320515775716554,0.967948422428345,0.9039769740923185,0.840400104966621,0.7774790660436857,0.7154724133689676,0.6546349455786925,0.5952166568776063,0.537461709759165,0.48160743168947495,0.42788333987783056,0.3765101981412665,0.32769910973868344,0.2816506499022725,0.2385540416308658,0.1985863781320435,0.16191189510815962,0.1286812958766108,0.09903113209758097,0.07308324265397836,0.05094425298933136,0.03270513696097066,0.01844084300893467,0.008209986176753947,0.0020546072496636647,0.0],\"y\":[0.0,0.06407021998071291,0.127877161684506,0.1911586287013723,0.25365458390950735,0.31510821802362066,0.3752670048793741,0.4338837391175581,0.49071755200393785,0.5455349012105486,0.5981105304912159,0.6482283953077883,0.6956825506034864,0.7402779970753155,0.7818314824680298,0.8201722545969559,0.8551427630053461,0.886599306373,0.9144126230158124,0.9384684220497603,0.9586678530366606,0.9749279121818236,0.9871817834144501,0.9953791129491982,0.9994862162006879,0.9994862162006879,0.9953791129491982,0.9871817834144502,0.9749279121818236,0.9586678530366607,0.9384684220497604,0.9144126230158125,0.8865993063730001,0.8551427630053462,0.820172254596956,0.7818314824680299,0.7402779970753157,0.6956825506034865,0.6482283953077888,0.5981105304912161,0.545534901210549,0.49071755200393813,0.43388373911755823,0.3752670048793745,0.3151082180236209,0.2536545839095078,0.19115862870137254,0.1278771616845065,0.06407021998071323,1.2246467991473532e-16],\"z\":[0.0,0.0,0.0,0.0,0.0,0.0,0.0,0.0,0.0,0.0,0.0,0.0,0.0,0.0,0.0,0.0,0.0,0.0,0.0,0.0,0.0,0.0,0.0,0.0,0.0,0.0,0.0,0.0,0.0,0.0,0.0,0.0,0.0,0.0,0.0,0.0,0.0,0.0,0.0,0.0,0.0,0.0,0.0,0.0,0.0,0.0,0.0,0.0,0.0,0.0]},{\"line\":{\"color\":\"green\",\"width\":8},\"mode\":\"lines\",\"name\":\"Umriss Kugel\",\"showlegend\":true,\"type\":\"scatter3d\",\"x\":[2.0,1.9989724324013758,1.9958907855006727,1.9907582258983965,1.9835800276464923,1.9743635668289004,1.9631183139821307,1.9498558243636472,1.934589726078059,1.9173357060733212,1.8981114940213373,1.8769368440995209,1.8538335146920435,1.828825246031625,1.8019377358048383,1.7731986127460002,1.7426374082467788,1.7102855260106924,1.6761762097836814,1.640344509193912,1.6028272437359135,1.5636629649360596,1.5228919167382688,1.4805559941506312,1.4366987001954554,1.391365101206973,1.3446017805226338,1.296456790615577,1.2469796037174672,1.196221060982432,1.1442333202443393,1.0910698024210974,1.0367851366210503,0.9814351040078758,0.9250765804816707,0.8677674782351164,0.809566686244788,0.7505340097587484,0.6907301088426157,0.6302164360472415,0.5690551732620653,0.507309167819015,0.4450418679126289,0.38231725740274497,0.31919979006675864,0.25575432336901244,0.19204605181536377,0.12814043996142635,0.06410315514331066,1.2246467991473532e-16],\"y\":[0.0,0.0,0.0,0.0,0.0,0.0,0.0,0.0,0.0,0.0,0.0,0.0,0.0,0.0,0.0,0.0,0.0,0.0,0.0,0.0,0.0,0.0,0.0,0.0,0.0,0.0,0.0,0.0,0.0,0.0,0.0,0.0,0.0,0.0,0.0,0.0,0.0,0.0,0.0,0.0,0.0,0.0,0.0,0.0,0.0,0.0,0.0,0.0,0.0,0.0],\"z\":[0.0,0.06410315514331034,0.12814043996142582,0.1920460518153635,0.255754323369012,0.31919979006675836,0.3823172574027446,0.4450418679126288,0.5073091678190147,0.5690551732620648,0.6302164360472413,0.6907301088426152,0.7505340097587482,0.8095666862447876,0.8677674782351162,0.9250765804816705,0.9814351040078757,1.0367851366210499,1.0910698024210972,1.144233320244339,1.1962210609824317,1.246979603717467,1.2964567906155766,1.3446017805226336,1.3913651012069728,1.436698700195455,1.480555994150631,1.5228919167382686,1.5636629649360596,1.6028272437359132,1.6403445091939117,1.6761762097836812,1.7102855260106922,1.7426374082467788,1.773198612746,1.8019377358048383,1.8288252460316248,1.8538335146920435,1.8769368440995207,1.8981114940213373,1.9173357060733212,1.9345897260780587,1.9498558243636472,1.9631183139821307,1.9743635668289001,1.983580027646492,1.9907582258983965,1.9958907855006727,1.9989724324013758,2.0]},{\"line\":{\"color\":\"green\",\"width\":8},\"mode\":\"lines\",\"name\":\"Umriss Kugel 2\",\"showlegend\":false,\"type\":\"scatter3d\",\"x\":[2.0,1.9989724324013758,1.9958907855006727,1.9907582258983965,1.9835800276464923,1.9743635668289004,1.9631183139821307,1.9498558243636472,1.934589726078059,1.9173357060733212,1.8981114940213373,1.8769368440995209,1.8538335146920435,1.828825246031625,1.8019377358048383,1.7731986127460002,1.7426374082467788,1.7102855260106924,1.6761762097836814,1.640344509193912,1.6028272437359135,1.5636629649360596,1.5228919167382688,1.4805559941506312,1.4366987001954554,1.391365101206973,1.3446017805226338,1.296456790615577,1.2469796037174672,1.196221060982432,1.1442333202443393,1.0910698024210974,1.0367851366210503,0.9814351040078758,0.9250765804816707,0.8677674782351164,0.809566686244788,0.7505340097587484,0.6907301088426157,0.6302164360472415,0.5690551732620653,0.507309167819015,0.4450418679126289,0.38231725740274497,0.31919979006675864,0.25575432336901244,0.19204605181536377,0.12814043996142635,0.06410315514331066,1.2246467991473532e-16],\"y\":[0.0,0.06410315514331034,0.12814043996142582,0.1920460518153635,0.255754323369012,0.31919979006675836,0.3823172574027446,0.4450418679126288,0.5073091678190147,0.5690551732620648,0.6302164360472413,0.6907301088426152,0.7505340097587482,0.8095666862447876,0.8677674782351162,0.9250765804816705,0.9814351040078757,1.0367851366210499,1.0910698024210972,1.144233320244339,1.1962210609824317,1.246979603717467,1.2964567906155766,1.3446017805226336,1.3913651012069728,1.436698700195455,1.480555994150631,1.5228919167382686,1.5636629649360596,1.6028272437359132,1.6403445091939117,1.6761762097836812,1.7102855260106922,1.7426374082467788,1.773198612746,1.8019377358048383,1.8288252460316248,1.8538335146920435,1.8769368440995207,1.8981114940213373,1.9173357060733212,1.9345897260780587,1.9498558243636472,1.9631183139821307,1.9743635668289001,1.983580027646492,1.9907582258983965,1.9958907855006727,1.9989724324013758,2.0],\"z\":[0.0,0.0,0.0,0.0,0.0,0.0,0.0,0.0,0.0,0.0,0.0,0.0,0.0,0.0,0.0,0.0,0.0,0.0,0.0,0.0,0.0,0.0,0.0,0.0,0.0,0.0,0.0,0.0,0.0,0.0,0.0,0.0,0.0,0.0,0.0,0.0,0.0,0.0,0.0,0.0,0.0,0.0,0.0,0.0,0.0,0.0,0.0,0.0,0.0,0.0]},{\"line\":{\"color\":\"green\",\"width\":8},\"mode\":\"lines\",\"name\":\"Umriss Kugel 3\",\"showlegend\":false,\"type\":\"scatter3d\",\"x\":[0.0,0.0,0.0,0.0,0.0,0.0,0.0,0.0,0.0,0.0,0.0,0.0,0.0,0.0,0.0,0.0,0.0,0.0,0.0,0.0,0.0,0.0,0.0,0.0,0.0,0.0,0.0,0.0,0.0,0.0,0.0,0.0,0.0,0.0,0.0,0.0,0.0,0.0,0.0,0.0,0.0,0.0,0.0,0.0,0.0,0.0,0.0,0.0,0.0,0.0],\"y\":[2.0,1.9989724324013758,1.9958907855006727,1.9907582258983965,1.9835800276464923,1.9743635668289004,1.9631183139821307,1.9498558243636472,1.934589726078059,1.9173357060733212,1.8981114940213373,1.8769368440995209,1.8538335146920435,1.828825246031625,1.8019377358048383,1.7731986127460002,1.7426374082467788,1.7102855260106924,1.6761762097836814,1.640344509193912,1.6028272437359135,1.5636629649360596,1.5228919167382688,1.4805559941506312,1.4366987001954554,1.391365101206973,1.3446017805226338,1.296456790615577,1.2469796037174672,1.196221060982432,1.1442333202443393,1.0910698024210974,1.0367851366210503,0.9814351040078758,0.9250765804816707,0.8677674782351164,0.809566686244788,0.7505340097587484,0.6907301088426157,0.6302164360472415,0.5690551732620653,0.507309167819015,0.4450418679126289,0.38231725740274497,0.31919979006675864,0.25575432336901244,0.19204605181536377,0.12814043996142635,0.06410315514331066,1.2246467991473532e-16],\"z\":[0.0,0.06410315514331034,0.12814043996142582,0.1920460518153635,0.255754323369012,0.31919979006675836,0.3823172574027446,0.4450418679126288,0.5073091678190147,0.5690551732620648,0.6302164360472413,0.6907301088426152,0.7505340097587482,0.8095666862447876,0.8677674782351162,0.9250765804816705,0.9814351040078757,1.0367851366210499,1.0910698024210972,1.144233320244339,1.1962210609824317,1.246979603717467,1.2964567906155766,1.3446017805226336,1.3913651012069728,1.436698700195455,1.480555994150631,1.5228919167382686,1.5636629649360596,1.6028272437359132,1.6403445091939117,1.6761762097836812,1.7102855260106922,1.7426374082467788,1.773198612746,1.8019377358048383,1.8288252460316248,1.8538335146920435,1.8769368440995207,1.8981114940213373,1.9173357060733212,1.9345897260780587,1.9498558243636472,1.9631183139821307,1.9743635668289001,1.983580027646492,1.9907582258983965,1.9958907855006727,1.9989724324013758,2.0]},{\"line\":{\"color\":\"blue\",\"width\":8},\"mode\":\"lines\",\"name\":\"Zylinder\",\"showlegend\":false,\"type\":\"scatter3d\",\"x\":[2.0,1.9979453927503363,1.991790013823246,1.9815591569910653,1.9672948630390295,1.9490557470106686,1.9269167573460217,1.900968867902419,1.8713187041233894,1.8380881048918407,1.8014136218679568,1.7614459583691344,1.7183493500977276,1.672300890261317,1.6234898018587336,1.5721166601221697,1.5183925683105253,1.4625382902408353,1.404783343122394,1.3453650544213078,1.2845275866310326,1.2225209339563143,1.1595998950333792,1.096023025907682,1.0320515775716554,0.967948422428345,0.9039769740923185,0.840400104966621,0.7774790660436857,0.7154724133689676,0.6546349455786925,0.5952166568776063,0.537461709759165,0.48160743168947495,0.42788333987783056,0.3765101981412665,0.32769910973868344,0.2816506499022725,0.2385540416308658,0.1985863781320435,0.16191189510815962,0.1286812958766108,0.09903113209758097,0.07308324265397836,0.05094425298933136,0.03270513696097066,0.01844084300893467,0.008209986176753947,0.0020546072496636647,0.0],\"y\":[0.0,0.06407021998071291,0.127877161684506,0.1911586287013723,0.25365458390950735,0.31510821802362066,0.3752670048793741,0.4338837391175581,0.49071755200393785,0.5455349012105486,0.5981105304912159,0.6482283953077883,0.6956825506034864,0.7402779970753155,0.7818314824680298,0.8201722545969559,0.8551427630053461,0.886599306373,0.9144126230158124,0.9384684220497603,0.9586678530366606,0.9749279121818236,0.9871817834144501,0.9953791129491982,0.9994862162006879,0.9994862162006879,0.9953791129491982,0.9871817834144502,0.9749279121818236,0.9586678530366607,0.9384684220497604,0.9144126230158125,0.8865993063730001,0.8551427630053462,0.820172254596956,0.7818314824680299,0.7402779970753157,0.6956825506034865,0.6482283953077888,0.5981105304912161,0.545534901210549,0.49071755200393813,0.43388373911755823,0.3752670048793745,0.3151082180236209,0.2536545839095078,0.19115862870137254,0.1278771616845065,0.06407021998071323,1.2246467991473532e-16],\"z\":[2.0,2.0,2.0,2.0,2.0,2.0,2.0,2.0,2.0,2.0,2.0,2.0,2.0,2.0,2.0,2.0,2.0,2.0,2.0,2.0,2.0,2.0,2.0,2.0,2.0,2.0,2.0,2.0,2.0,2.0,2.0,2.0,2.0,2.0,2.0,2.0,2.0,2.0,2.0,2.0,2.0,2.0,2.0,2.0,2.0,2.0,2.0,2.0,2.0,2.0]},{\"line\":{\"color\":\"blue\",\"width\":8},\"mode\":\"lines\",\"name\":\"Zylinder\",\"showlegend\":false,\"type\":\"scatter3d\",\"x\":[0.0,1.0,2.0],\"y\":[0.0,0.0,0.0],\"z\":[0.0,0.0,0.0]},{\"line\":{\"color\":\"blue\",\"width\":8},\"mode\":\"lines\",\"name\":\"Zylinder\",\"showlegend\":false,\"type\":\"scatter3d\",\"x\":[0.0,1.0,2.0],\"y\":[0.0,0.0,0.0],\"z\":[2.0,2.0,2.0]},{\"line\":{\"color\":\"blue\",\"width\":8},\"mode\":\"lines\",\"name\":\"Zylinder\",\"showlegend\":false,\"type\":\"scatter3d\",\"x\":[0.0,0.0,0.0],\"y\":[0.0,0.0,0.0],\"z\":[0.0,1.0,2.0]},{\"line\":{\"color\":\"blue\",\"width\":8},\"mode\":\"lines\",\"name\":\"Zylinder\",\"showlegend\":false,\"type\":\"scatter3d\",\"x\":[2.0,2.0,2.0],\"y\":[0.0,0.0,0.0],\"z\":[0.0,1.0,2.0]}],                        {\"autosize\":false,\"height\":800,\"scene\":{\"camera\":{\"eye\":{\"z\":1.55}},\"xaxis\":{\"visible\":true},\"yaxis\":{\"visible\":true},\"zaxis\":{\"visible\":true}},\"showlegend\":true,\"template\":{\"data\":{\"bar\":[{\"error_x\":{\"color\":\"#2a3f5f\"},\"error_y\":{\"color\":\"#2a3f5f\"},\"marker\":{\"line\":{\"color\":\"#E5ECF6\",\"width\":0.5},\"pattern\":{\"fillmode\":\"overlay\",\"size\":10,\"solidity\":0.2}},\"type\":\"bar\"}],\"barpolar\":[{\"marker\":{\"line\":{\"color\":\"#E5ECF6\",\"width\":0.5},\"pattern\":{\"fillmode\":\"overlay\",\"size\":10,\"solidity\":0.2}},\"type\":\"barpolar\"}],\"carpet\":[{\"aaxis\":{\"endlinecolor\":\"#2a3f5f\",\"gridcolor\":\"white\",\"linecolor\":\"white\",\"minorgridcolor\":\"white\",\"startlinecolor\":\"#2a3f5f\"},\"baxis\":{\"endlinecolor\":\"#2a3f5f\",\"gridcolor\":\"white\",\"linecolor\":\"white\",\"minorgridcolor\":\"white\",\"startlinecolor\":\"#2a3f5f\"},\"type\":\"carpet\"}],\"choropleth\":[{\"colorbar\":{\"outlinewidth\":0,\"ticks\":\"\"},\"type\":\"choropleth\"}],\"contour\":[{\"colorbar\":{\"outlinewidth\":0,\"ticks\":\"\"},\"colorscale\":[[0.0,\"#0d0887\"],[0.1111111111111111,\"#46039f\"],[0.2222222222222222,\"#7201a8\"],[0.3333333333333333,\"#9c179e\"],[0.4444444444444444,\"#bd3786\"],[0.5555555555555556,\"#d8576b\"],[0.6666666666666666,\"#ed7953\"],[0.7777777777777778,\"#fb9f3a\"],[0.8888888888888888,\"#fdca26\"],[1.0,\"#f0f921\"]],\"type\":\"contour\"}],\"contourcarpet\":[{\"colorbar\":{\"outlinewidth\":0,\"ticks\":\"\"},\"type\":\"contourcarpet\"}],\"heatmap\":[{\"colorbar\":{\"outlinewidth\":0,\"ticks\":\"\"},\"colorscale\":[[0.0,\"#0d0887\"],[0.1111111111111111,\"#46039f\"],[0.2222222222222222,\"#7201a8\"],[0.3333333333333333,\"#9c179e\"],[0.4444444444444444,\"#bd3786\"],[0.5555555555555556,\"#d8576b\"],[0.6666666666666666,\"#ed7953\"],[0.7777777777777778,\"#fb9f3a\"],[0.8888888888888888,\"#fdca26\"],[1.0,\"#f0f921\"]],\"type\":\"heatmap\"}],\"heatmapgl\":[{\"colorbar\":{\"outlinewidth\":0,\"ticks\":\"\"},\"colorscale\":[[0.0,\"#0d0887\"],[0.1111111111111111,\"#46039f\"],[0.2222222222222222,\"#7201a8\"],[0.3333333333333333,\"#9c179e\"],[0.4444444444444444,\"#bd3786\"],[0.5555555555555556,\"#d8576b\"],[0.6666666666666666,\"#ed7953\"],[0.7777777777777778,\"#fb9f3a\"],[0.8888888888888888,\"#fdca26\"],[1.0,\"#f0f921\"]],\"type\":\"heatmapgl\"}],\"histogram\":[{\"marker\":{\"pattern\":{\"fillmode\":\"overlay\",\"size\":10,\"solidity\":0.2}},\"type\":\"histogram\"}],\"histogram2d\":[{\"colorbar\":{\"outlinewidth\":0,\"ticks\":\"\"},\"colorscale\":[[0.0,\"#0d0887\"],[0.1111111111111111,\"#46039f\"],[0.2222222222222222,\"#7201a8\"],[0.3333333333333333,\"#9c179e\"],[0.4444444444444444,\"#bd3786\"],[0.5555555555555556,\"#d8576b\"],[0.6666666666666666,\"#ed7953\"],[0.7777777777777778,\"#fb9f3a\"],[0.8888888888888888,\"#fdca26\"],[1.0,\"#f0f921\"]],\"type\":\"histogram2d\"}],\"histogram2dcontour\":[{\"colorbar\":{\"outlinewidth\":0,\"ticks\":\"\"},\"colorscale\":[[0.0,\"#0d0887\"],[0.1111111111111111,\"#46039f\"],[0.2222222222222222,\"#7201a8\"],[0.3333333333333333,\"#9c179e\"],[0.4444444444444444,\"#bd3786\"],[0.5555555555555556,\"#d8576b\"],[0.6666666666666666,\"#ed7953\"],[0.7777777777777778,\"#fb9f3a\"],[0.8888888888888888,\"#fdca26\"],[1.0,\"#f0f921\"]],\"type\":\"histogram2dcontour\"}],\"mesh3d\":[{\"colorbar\":{\"outlinewidth\":0,\"ticks\":\"\"},\"type\":\"mesh3d\"}],\"parcoords\":[{\"line\":{\"colorbar\":{\"outlinewidth\":0,\"ticks\":\"\"}},\"type\":\"parcoords\"}],\"pie\":[{\"automargin\":true,\"type\":\"pie\"}],\"scatter\":[{\"marker\":{\"colorbar\":{\"outlinewidth\":0,\"ticks\":\"\"}},\"type\":\"scatter\"}],\"scatter3d\":[{\"line\":{\"colorbar\":{\"outlinewidth\":0,\"ticks\":\"\"}},\"marker\":{\"colorbar\":{\"outlinewidth\":0,\"ticks\":\"\"}},\"type\":\"scatter3d\"}],\"scattercarpet\":[{\"marker\":{\"colorbar\":{\"outlinewidth\":0,\"ticks\":\"\"}},\"type\":\"scattercarpet\"}],\"scattergeo\":[{\"marker\":{\"colorbar\":{\"outlinewidth\":0,\"ticks\":\"\"}},\"type\":\"scattergeo\"}],\"scattergl\":[{\"marker\":{\"colorbar\":{\"outlinewidth\":0,\"ticks\":\"\"}},\"type\":\"scattergl\"}],\"scattermapbox\":[{\"marker\":{\"colorbar\":{\"outlinewidth\":0,\"ticks\":\"\"}},\"type\":\"scattermapbox\"}],\"scatterpolar\":[{\"marker\":{\"colorbar\":{\"outlinewidth\":0,\"ticks\":\"\"}},\"type\":\"scatterpolar\"}],\"scatterpolargl\":[{\"marker\":{\"colorbar\":{\"outlinewidth\":0,\"ticks\":\"\"}},\"type\":\"scatterpolargl\"}],\"scatterternary\":[{\"marker\":{\"colorbar\":{\"outlinewidth\":0,\"ticks\":\"\"}},\"type\":\"scatterternary\"}],\"surface\":[{\"colorbar\":{\"outlinewidth\":0,\"ticks\":\"\"},\"colorscale\":[[0.0,\"#0d0887\"],[0.1111111111111111,\"#46039f\"],[0.2222222222222222,\"#7201a8\"],[0.3333333333333333,\"#9c179e\"],[0.4444444444444444,\"#bd3786\"],[0.5555555555555556,\"#d8576b\"],[0.6666666666666666,\"#ed7953\"],[0.7777777777777778,\"#fb9f3a\"],[0.8888888888888888,\"#fdca26\"],[1.0,\"#f0f921\"]],\"type\":\"surface\"}],\"table\":[{\"cells\":{\"fill\":{\"color\":\"#EBF0F8\"},\"line\":{\"color\":\"white\"}},\"header\":{\"fill\":{\"color\":\"#C8D4E3\"},\"line\":{\"color\":\"white\"}},\"type\":\"table\"}]},\"layout\":{\"annotationdefaults\":{\"arrowcolor\":\"#2a3f5f\",\"arrowhead\":0,\"arrowwidth\":1},\"autotypenumbers\":\"strict\",\"coloraxis\":{\"colorbar\":{\"outlinewidth\":0,\"ticks\":\"\"}},\"colorscale\":{\"diverging\":[[0,\"#8e0152\"],[0.1,\"#c51b7d\"],[0.2,\"#de77ae\"],[0.3,\"#f1b6da\"],[0.4,\"#fde0ef\"],[0.5,\"#f7f7f7\"],[0.6,\"#e6f5d0\"],[0.7,\"#b8e186\"],[0.8,\"#7fbc41\"],[0.9,\"#4d9221\"],[1,\"#276419\"]],\"sequential\":[[0.0,\"#0d0887\"],[0.1111111111111111,\"#46039f\"],[0.2222222222222222,\"#7201a8\"],[0.3333333333333333,\"#9c179e\"],[0.4444444444444444,\"#bd3786\"],[0.5555555555555556,\"#d8576b\"],[0.6666666666666666,\"#ed7953\"],[0.7777777777777778,\"#fb9f3a\"],[0.8888888888888888,\"#fdca26\"],[1.0,\"#f0f921\"]],\"sequentialminus\":[[0.0,\"#0d0887\"],[0.1111111111111111,\"#46039f\"],[0.2222222222222222,\"#7201a8\"],[0.3333333333333333,\"#9c179e\"],[0.4444444444444444,\"#bd3786\"],[0.5555555555555556,\"#d8576b\"],[0.6666666666666666,\"#ed7953\"],[0.7777777777777778,\"#fb9f3a\"],[0.8888888888888888,\"#fdca26\"],[1.0,\"#f0f921\"]]},\"colorway\":[\"#636efa\",\"#EF553B\",\"#00cc96\",\"#ab63fa\",\"#FFA15A\",\"#19d3f3\",\"#FF6692\",\"#B6E880\",\"#FF97FF\",\"#FECB52\"],\"font\":{\"color\":\"#2a3f5f\"},\"geo\":{\"bgcolor\":\"white\",\"lakecolor\":\"white\",\"landcolor\":\"#E5ECF6\",\"showlakes\":true,\"showland\":true,\"subunitcolor\":\"white\"},\"hoverlabel\":{\"align\":\"left\"},\"hovermode\":\"closest\",\"mapbox\":{\"style\":\"light\"},\"paper_bgcolor\":\"white\",\"plot_bgcolor\":\"#E5ECF6\",\"polar\":{\"angularaxis\":{\"gridcolor\":\"white\",\"linecolor\":\"white\",\"ticks\":\"\"},\"bgcolor\":\"#E5ECF6\",\"radialaxis\":{\"gridcolor\":\"white\",\"linecolor\":\"white\",\"ticks\":\"\"}},\"scene\":{\"xaxis\":{\"backgroundcolor\":\"#E5ECF6\",\"gridcolor\":\"white\",\"gridwidth\":2,\"linecolor\":\"white\",\"showbackground\":true,\"ticks\":\"\",\"zerolinecolor\":\"white\"},\"yaxis\":{\"backgroundcolor\":\"#E5ECF6\",\"gridcolor\":\"white\",\"gridwidth\":2,\"linecolor\":\"white\",\"showbackground\":true,\"ticks\":\"\",\"zerolinecolor\":\"white\"},\"zaxis\":{\"backgroundcolor\":\"#E5ECF6\",\"gridcolor\":\"white\",\"gridwidth\":2,\"linecolor\":\"white\",\"showbackground\":true,\"ticks\":\"\",\"zerolinecolor\":\"white\"}},\"shapedefaults\":{\"line\":{\"color\":\"#2a3f5f\"}},\"ternary\":{\"aaxis\":{\"gridcolor\":\"white\",\"linecolor\":\"white\",\"ticks\":\"\"},\"baxis\":{\"gridcolor\":\"white\",\"linecolor\":\"white\",\"ticks\":\"\"},\"bgcolor\":\"#E5ECF6\",\"caxis\":{\"gridcolor\":\"white\",\"linecolor\":\"white\",\"ticks\":\"\"}},\"title\":{\"x\":0.05},\"xaxis\":{\"automargin\":true,\"gridcolor\":\"white\",\"linecolor\":\"white\",\"ticks\":\"\",\"title\":{\"standoff\":15},\"zerolinecolor\":\"white\",\"zerolinewidth\":2},\"yaxis\":{\"automargin\":true,\"gridcolor\":\"white\",\"linecolor\":\"white\",\"ticks\":\"\",\"title\":{\"standoff\":15},\"zerolinecolor\":\"white\",\"zerolinewidth\":2}}},\"title\":{\"text\":\"Vivianische Kurve f\\u00fcr a=1\",\"x\":0.5},\"width\":800},                        {\"responsive\": true}                    ).then(function(){\n",
       "                            \n",
       "var gd = document.getElementById('e0d288c6-3f84-4296-985a-165ee9552d36');\n",
       "var x = new MutationObserver(function (mutations, observer) {{\n",
       "        var display = window.getComputedStyle(gd).display;\n",
       "        if (!display || display === 'none') {{\n",
       "            console.log([gd, 'removed!']);\n",
       "            Plotly.purge(gd);\n",
       "            observer.disconnect();\n",
       "        }}\n",
       "}});\n",
       "\n",
       "// Listen for the removal of the full notebook cells\n",
       "var notebookContainer = gd.closest('#notebook-container');\n",
       "if (notebookContainer) {{\n",
       "    x.observe(notebookContainer, {childList: true});\n",
       "}}\n",
       "\n",
       "// Listen for the clearing of the current output cell\n",
       "var outputEl = gd.closest('.output');\n",
       "if (outputEl) {{\n",
       "    x.observe(outputEl, {childList: true});\n",
       "}}\n",
       "\n",
       "                        })                };                });            </script>        </div>"
      ]
     },
     "metadata": {},
     "output_type": "display_data"
    }
   ],
   "source": [
    "# Nochmals dieses Mal mit Legende\n",
    "viviani = go.Scatter3d(x=x, y=y, z=z,\n",
    "                     name='Vivianische Kurve',\n",
    "                     mode='lines',\n",
    "                     line = dict(color='orange', width=8),\n",
    "                     showlegend=True)\n",
    "\n",
    "# Zylinder\n",
    "s = np.linspace(0.0, 1.0, 3)\n",
    "\n",
    "lx = 2.0*s\n",
    "ly = lz = np.zeros_like(lx)\n",
    "\n",
    "line1 = go.Scatter3d(x=lx, y=ly, z=lz,\n",
    "                     name='Zylinder',\n",
    "                     mode='lines',\n",
    "                     line = dict(color='blue', width=8),\n",
    "                     showlegend=False)\n",
    "\n",
    "lx = 2.0*s\n",
    "ly =  np.zeros_like(lx)\n",
    "lz = 2.0*np.ones_like(lx)\n",
    "\n",
    "line2 = go.Scatter3d(x=lx, y=ly, z=lz,\n",
    "                     name='Zylinder',\n",
    "                     mode='lines',\n",
    "                     line = dict(color='blue', width=8),\n",
    "                     showlegend=False)\n",
    "\n",
    "lz = 2.0*s\n",
    "lx =  np.zeros_like(lz)\n",
    "ly =  np.zeros_like(lz)\n",
    "\n",
    "line3 = go.Scatter3d(x=lx, y=ly, z=lz,\n",
    "                     name='Zylinder',\n",
    "                     mode='lines',\n",
    "                     line = dict(color='blue', width=8),\n",
    "                     showlegend=False)\n",
    "\n",
    "lz = 2.0*s\n",
    "lx =  2.0*np.ones_like(lz)\n",
    "ly =  np.zeros_like(lz)\n",
    "\n",
    "line4 = go.Scatter3d(x=lx, y=ly, z=lz,\n",
    "                     name='Zylinder',\n",
    "                     mode='lines',\n",
    "                     line = dict(color='blue', width=8),\n",
    "                     showlegend=False)\n",
    "\n",
    "ux, uy, uz = 1+np.cos(t), np.sin(t), np.zeros_like(x)\n",
    "\n",
    "umriss1 = go.Scatter3d(x=ux, y=uy, z=uz,\n",
    "                     name='Umriss Zylinder',\n",
    "                     mode='lines',\n",
    "                     line = dict(color='blue', width=8),\n",
    "                     showlegend=True)\n",
    "\n",
    "ux, uy, uz = 1+np.cos(t), np.sin(t), 2.0*np.ones_like(x)\n",
    "\n",
    "umriss5 = go.Scatter3d(x=ux, y=uy, z=uz,\n",
    "                     name='Zylinder',\n",
    "                     mode='lines',\n",
    "                     line = dict(color='blue', width=8),\n",
    "                     showlegend=False)\n",
    "\n",
    "s = np.linspace\n",
    "ux, uy, uz = 2.0*np.cos(t/2.0), np.zeros_like(x), 2.0*np.sin(t/2.0)\n",
    "\n",
    "umriss2 = go.Scatter3d(x=ux, y=uy, z=uz,\n",
    "                     name='Umriss Kugel',\n",
    "                     mode='lines',\n",
    "                     line = dict(color='green', width=8),\n",
    "                     showlegend=True)\n",
    "\n",
    "ux, uy, uz = 2.0*np.cos(t/2.0), 2.0*np.sin(t/2.0), np.zeros_like(x)\n",
    "\n",
    "umriss3 = go.Scatter3d(x=ux, y=uy, z=uz,\n",
    "                     name='Umriss Kugel 2',\n",
    "                     mode='lines',\n",
    "                     line = dict(color='green', width=8),\n",
    "                     showlegend=False)\n",
    "\n",
    "ux, uy, uz = np.zeros_like(x), 2.0*np.cos(t/2.0), 2.0*np.sin(t/2.0), \n",
    "\n",
    "umriss4 = go.Scatter3d(x=ux, y=uy, z=uz,\n",
    "                     name='Umriss Kugel 3',\n",
    "                     mode='lines',\n",
    "                     line = dict(color='green', width=8),\n",
    "                     showlegend=False)\n",
    "\n",
    "\n",
    "\n",
    "fig =  go.Figure(data=[viviani, umriss1, umriss2, umriss3, umriss4, umriss5, line1, line2, line3, line4], layout=layout)\n",
    "\n",
    "fig.update_layout(title='Vivianische Kurve für a=1',\n",
    "                  title_x=0.5,\n",
    "                  scene_camera_eye_z=1.55,\n",
    "                  autosize=False,\n",
    "                  width=800,\n",
    "                  height=800,\n",
    "                  showlegend=True)\n",
    "                  \n",
    "fig.show()"
   ]
  },
  {
   "cell_type": "markdown",
   "id": "5644399c-c3ef-4def-8dd3-e908adbea57a",
   "metadata": {},
   "source": [
    "Eventuell noch Linien als Ergänzung für den Zylinder zeichnen!"
   ]
  },
  {
   "cell_type": "code",
   "execution_count": null,
   "id": "5b2c0018-a346-41dd-b78b-fd49890d681f",
   "metadata": {},
   "outputs": [],
   "source": []
  }
 ],
 "metadata": {
  "kernelspec": {
   "display_name": "Python 3 (ipykernel)",
   "language": "python",
   "name": "python3"
  },
  "language_info": {
   "codemirror_mode": {
    "name": "ipython",
    "version": 3
   },
   "file_extension": ".py",
   "mimetype": "text/x-python",
   "name": "python",
   "nbconvert_exporter": "python",
   "pygments_lexer": "ipython3",
   "version": "3.8.11"
  }
 },
 "nbformat": 4,
 "nbformat_minor": 5
}
