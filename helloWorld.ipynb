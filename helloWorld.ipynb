{
 "cells": [
  {
   "cell_type": "markdown",
   "metadata": {},
   "source": [
    "# Ein erstes Jupyter Notebook\n",
    "\n",
    "*Manfred Brill*\n",
    "\n",
    "*Hochschule Kaiserslautern*\n",
    "\n",
    "Wir erstellen ein erstes Jupyter Notebook - natürlich geben wir den Text \"Hello World\" aus.\n",
    "\n",
    "## Python und Markdown - eine bunte Mischung\n",
    "Es gibt zwei Typen von *cells*: wir können Python-Code eingeben und auch ausführen lassen. Oder wir geben wir beim Titel oben Markdown ein, der anschließend entsprechend formatiert wird!\n",
    "\n",
    "## Unsere Python-Anweisung\n",
    "Dazu erstellen wir als nächste Zelle eine Code-Zelle und geben den Python-Code ein. Führen wir diese Zelle aus, wird darunter das Ergebnis ausgegeben."
   ]
  },
  {
   "cell_type": "code",
   "execution_count": 1,
   "metadata": {},
   "outputs": [
    {
     "name": "stdout",
     "output_type": "stream",
     "text": [
      "Hello world!\n",
      "Hi\n"
     ]
    }
   ],
   "source": [
    "print('Hello world!')\n",
    "print('Hi')"
   ]
  },
  {
   "cell_type": "code",
   "execution_count": 2,
   "metadata": {},
   "outputs": [
    {
     "data": {
      "text/plain": [
       "3"
      ]
     },
     "execution_count": 2,
     "metadata": {},
     "output_type": "execute_result"
    }
   ],
   "source": [
    "1+2"
   ]
  },
  {
   "cell_type": "markdown",
   "metadata": {},
   "source": [
    "Das ist eine Markdown Zelle\n",
    "\n",
    "# Das ist eine Überschrift\n",
    "Jetzt kommt normaler Text."
   ]
  },
  {
   "cell_type": "code",
   "execution_count": null,
   "metadata": {},
   "outputs": [],
   "source": []
  }
 ],
 "metadata": {
  "kernelspec": {
   "display_name": "Python 3 (ipykernel)",
   "language": "python",
   "name": "python3"
  },
  "language_info": {
   "codemirror_mode": {
    "name": "ipython",
    "version": 3
   },
   "file_extension": ".py",
   "mimetype": "text/x-python",
   "name": "python",
   "nbconvert_exporter": "python",
   "pygments_lexer": "ipython3",
   "version": "3.9.12"
  }
 },
 "nbformat": 4,
 "nbformat_minor": 4
}
